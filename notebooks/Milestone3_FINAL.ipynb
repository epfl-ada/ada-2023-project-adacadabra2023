{
 "cells": [
  {
   "cell_type": "markdown",
   "metadata": {},
   "source": [
    "# Library upload"
   ]
  },
  {
   "cell_type": "code",
   "execution_count": 1,
   "metadata": {},
   "outputs": [
    {
     "data": {
      "text/plain": [
       "\"# Definining the path for the files\\nRB_path = os.path.join(data_path, 'RateBeer')\\nBA_path = os.path.join(data_path, 'BeerAdvocate')\\nMB_path = os.path.join(data_path, 'matched_beer_data')\""
      ]
     },
     "execution_count": 1,
     "metadata": {},
     "output_type": "execute_result"
    }
   ],
   "source": [
    "import warnings\n",
    "warnings.filterwarnings(\"ignore\")\n",
    "\n",
    "import pandas as pd\n",
    "import numpy as np\n",
    "import matplotlib.pyplot as plt\n",
    "import os\n",
    "import seaborn as sns\n",
    "import pickle as pkl\n",
    "import plotly.express as px\n",
    "from dash import Dash, dcc, html, Input, Output\n",
    "\n",
    "import src.data.Preprocessing as pproc\n",
    "\n",
    "directory = os.getcwd()\n",
    "data_path = os.path.join(directory, 'Data')"
   ]
  },
  {
   "cell_type": "markdown",
   "metadata": {},
   "source": [
    "# Data upload"
   ]
  },
  {
   "cell_type": "code",
   "execution_count": 2,
   "metadata": {},
   "outputs": [],
   "source": [
    "dpath = './Data/unified_breweries.pkl'\n",
    "with open(dpath, 'rb') as f:\n",
    "    df_breweries = pkl.load(f)\n",
    "\n",
    "data_path = './Data/unified_users.pkl'\n",
    "with open(data_path, 'rb') as f:\n",
    "    df_users = pkl.load(f)\n",
    "\n",
    "data_path = './Data/unified_ratings.pkl'\n",
    "with open(data_path, 'rb') as f:\n",
    "    df_ratings = pkl.load(f)"
   ]
  },
  {
   "cell_type": "code",
   "execution_count": 3,
   "metadata": {},
   "outputs": [],
   "source": [
    "df_breweries.rename(columns={'id': 'brewery_id'}, inplace=True) # MUST GO INTO THE PREPROCESSING\n",
    "df_breweries.rename(columns={'location': 'country_brewery'}, inplace=True) # MUST GO INTO THE PREPROCESSING"
   ]
  },
  {
   "cell_type": "code",
   "execution_count": 4,
   "metadata": {},
   "outputs": [
    {
     "data": {
      "text/html": [
       "<div>\n",
       "<style scoped>\n",
       "    .dataframe tbody tr th:only-of-type {\n",
       "        vertical-align: middle;\n",
       "    }\n",
       "\n",
       "    .dataframe tbody tr th {\n",
       "        vertical-align: top;\n",
       "    }\n",
       "\n",
       "    .dataframe thead th {\n",
       "        text-align: right;\n",
       "    }\n",
       "</style>\n",
       "<table border=\"1\" class=\"dataframe\">\n",
       "  <thead>\n",
       "    <tr style=\"text-align: right;\">\n",
       "      <th></th>\n",
       "      <th>nbr_ratings_rb</th>\n",
       "      <th>user_id</th>\n",
       "      <th>user_name</th>\n",
       "      <th>location</th>\n",
       "      <th>nbr_ratings_ba</th>\n",
       "      <th>total_nbr_ratings</th>\n",
       "    </tr>\n",
       "  </thead>\n",
       "  <tbody>\n",
       "    <tr>\n",
       "      <th>0</th>\n",
       "      <td>1890.0</td>\n",
       "      <td>175852.0</td>\n",
       "      <td>Manslow</td>\n",
       "      <td>Poland</td>\n",
       "      <td>0.0</td>\n",
       "      <td>1890.0</td>\n",
       "    </tr>\n",
       "    <tr>\n",
       "      <th>1</th>\n",
       "      <td>89.0</td>\n",
       "      <td>442761.0</td>\n",
       "      <td>MAGICuenca91</td>\n",
       "      <td>Spain</td>\n",
       "      <td>0.0</td>\n",
       "      <td>89.0</td>\n",
       "    </tr>\n",
       "    <tr>\n",
       "      <th>2</th>\n",
       "      <td>169.0</td>\n",
       "      <td>288889.0</td>\n",
       "      <td>Sibarh</td>\n",
       "      <td>Poland</td>\n",
       "      <td>0.0</td>\n",
       "      <td>169.0</td>\n",
       "    </tr>\n",
       "    <tr>\n",
       "      <th>3</th>\n",
       "      <td>3371.0</td>\n",
       "      <td>250510.0</td>\n",
       "      <td>fombe89</td>\n",
       "      <td>Spain</td>\n",
       "      <td>0.0</td>\n",
       "      <td>3371.0</td>\n",
       "    </tr>\n",
       "    <tr>\n",
       "      <th>4</th>\n",
       "      <td>13043.0</td>\n",
       "      <td>122778.0</td>\n",
       "      <td>kevnic2008</td>\n",
       "      <td>Germany</td>\n",
       "      <td>0.0</td>\n",
       "      <td>13043.0</td>\n",
       "    </tr>\n",
       "    <tr>\n",
       "      <th>...</th>\n",
       "      <td>...</td>\n",
       "      <td>...</td>\n",
       "      <td>...</td>\n",
       "      <td>...</td>\n",
       "      <td>...</td>\n",
       "      <td>...</td>\n",
       "    </tr>\n",
       "    <tr>\n",
       "      <th>220852</th>\n",
       "      <td>0.0</td>\n",
       "      <td>188320.0</td>\n",
       "      <td>ETurchick</td>\n",
       "      <td>United States, California</td>\n",
       "      <td>1.0</td>\n",
       "      <td>1.0</td>\n",
       "    </tr>\n",
       "    <tr>\n",
       "      <th>220853</th>\n",
       "      <td>0.0</td>\n",
       "      <td>188321.0</td>\n",
       "      <td>Everman</td>\n",
       "      <td>United States, California</td>\n",
       "      <td>1.0</td>\n",
       "      <td>1.0</td>\n",
       "    </tr>\n",
       "    <tr>\n",
       "      <th>220854</th>\n",
       "      <td>0.0</td>\n",
       "      <td>188322.0</td>\n",
       "      <td>Justin0001</td>\n",
       "      <td>United States, California</td>\n",
       "      <td>1.0</td>\n",
       "      <td>1.0</td>\n",
       "    </tr>\n",
       "    <tr>\n",
       "      <th>220856</th>\n",
       "      <td>0.0</td>\n",
       "      <td>188324.0</td>\n",
       "      <td>JoeTex</td>\n",
       "      <td>United States, California</td>\n",
       "      <td>1.0</td>\n",
       "      <td>1.0</td>\n",
       "    </tr>\n",
       "    <tr>\n",
       "      <th>220857</th>\n",
       "      <td>0.0</td>\n",
       "      <td>188325.0</td>\n",
       "      <td>Alexmatt86</td>\n",
       "      <td>United States, California</td>\n",
       "      <td>1.0</td>\n",
       "      <td>1.0</td>\n",
       "    </tr>\n",
       "  </tbody>\n",
       "</table>\n",
       "<p>169997 rows × 6 columns</p>\n",
       "</div>"
      ],
      "text/plain": [
       "        nbr_ratings_rb   user_id     user_name                   location  \\\n",
       "0               1890.0  175852.0       Manslow                     Poland   \n",
       "1                 89.0  442761.0  MAGICuenca91                      Spain   \n",
       "2                169.0  288889.0        Sibarh                     Poland   \n",
       "3               3371.0  250510.0       fombe89                      Spain   \n",
       "4              13043.0  122778.0    kevnic2008                    Germany   \n",
       "...                ...       ...           ...                        ...   \n",
       "220852             0.0  188320.0     ETurchick  United States, California   \n",
       "220853             0.0  188321.0       Everman  United States, California   \n",
       "220854             0.0  188322.0    Justin0001  United States, California   \n",
       "220856             0.0  188324.0        JoeTex  United States, California   \n",
       "220857             0.0  188325.0    Alexmatt86  United States, California   \n",
       "\n",
       "        nbr_ratings_ba  total_nbr_ratings  \n",
       "0                  0.0             1890.0  \n",
       "1                  0.0               89.0  \n",
       "2                  0.0              169.0  \n",
       "3                  0.0             3371.0  \n",
       "4                  0.0            13043.0  \n",
       "...                ...                ...  \n",
       "220852             1.0                1.0  \n",
       "220853             1.0                1.0  \n",
       "220854             1.0                1.0  \n",
       "220856             1.0                1.0  \n",
       "220857             1.0                1.0  \n",
       "\n",
       "[169997 rows x 6 columns]"
      ]
     },
     "execution_count": 4,
     "metadata": {},
     "output_type": "execute_result"
    }
   ],
   "source": [
    "df_users[~df_users['location'].isna()] ## Either drop the NaN or drop the location column which will not be used anyways\n",
    "\n",
    "## Drop all the nan values"
   ]
  },
  {
   "cell_type": "markdown",
   "metadata": {},
   "source": [
    "# Data Exploration"
   ]
  },
  {
   "cell_type": "code",
   "execution_count": 5,
   "metadata": {},
   "outputs": [
    {
     "data": {
      "text/html": [
       "<div>\n",
       "<style scoped>\n",
       "    .dataframe tbody tr th:only-of-type {\n",
       "        vertical-align: middle;\n",
       "    }\n",
       "\n",
       "    .dataframe tbody tr th {\n",
       "        vertical-align: top;\n",
       "    }\n",
       "\n",
       "    .dataframe thead th {\n",
       "        text-align: right;\n",
       "    }\n",
       "</style>\n",
       "<table border=\"1\" class=\"dataframe\">\n",
       "  <thead>\n",
       "    <tr style=\"text-align: right;\">\n",
       "      <th></th>\n",
       "      <th>beer_name</th>\n",
       "      <th>beer_id</th>\n",
       "      <th>brewery_name</th>\n",
       "      <th>brewery_id</th>\n",
       "      <th>style</th>\n",
       "      <th>date</th>\n",
       "      <th>rating</th>\n",
       "      <th>user_id</th>\n",
       "      <th>text</th>\n",
       "      <th>Procedence</th>\n",
       "      <th>country_user</th>\n",
       "      <th>country_brewery</th>\n",
       "      <th>year</th>\n",
       "      <th>Season</th>\n",
       "      <th>z_score</th>\n",
       "      <th>exp_mean</th>\n",
       "      <th>diff_exp_mean</th>\n",
       "      <th>ith_rating</th>\n",
       "      <th>detrend</th>\n",
       "      <th>macro_style</th>\n",
       "    </tr>\n",
       "  </thead>\n",
       "  <tbody>\n",
       "    <tr>\n",
       "      <th>0</th>\n",
       "      <td>Abita Andygator</td>\n",
       "      <td>3.0</td>\n",
       "      <td>Abita Brewing Company</td>\n",
       "      <td>1.0</td>\n",
       "      <td>Maibock / Helles Bock</td>\n",
       "      <td>2003-10-15 10:00:00</td>\n",
       "      <td>3.55</td>\n",
       "      <td>11266.0</td>\n",
       "      <td>I had this one on tap while in New Orleans. I...</td>\n",
       "      <td>BA</td>\n",
       "      <td>United States, Illinois</td>\n",
       "      <td>United States</td>\n",
       "      <td>2003</td>\n",
       "      <td>Autumn</td>\n",
       "      <td>-0.201923</td>\n",
       "      <td>-0.201923</td>\n",
       "      <td>0.000000</td>\n",
       "      <td>1</td>\n",
       "      <td>-0.032678</td>\n",
       "      <td>Bock</td>\n",
       "    </tr>\n",
       "    <tr>\n",
       "      <th>1</th>\n",
       "      <td>Abita Andygator</td>\n",
       "      <td>3.0</td>\n",
       "      <td>Abita Brewing Company</td>\n",
       "      <td>1.0</td>\n",
       "      <td>Maibock / Helles Bock</td>\n",
       "      <td>2003-12-22 11:00:00</td>\n",
       "      <td>3.85</td>\n",
       "      <td>6816.0</td>\n",
       "      <td>Well carbonated greenish gold. The color is a...</td>\n",
       "      <td>BA</td>\n",
       "      <td>United States, Massachusetts</td>\n",
       "      <td>United States</td>\n",
       "      <td>2003</td>\n",
       "      <td>Winter</td>\n",
       "      <td>0.228929</td>\n",
       "      <td>0.013503</td>\n",
       "      <td>0.215426</td>\n",
       "      <td>2</td>\n",
       "      <td>0.397968</td>\n",
       "      <td>Bock</td>\n",
       "    </tr>\n",
       "    <tr>\n",
       "      <th>2</th>\n",
       "      <td>Abita Andygator</td>\n",
       "      <td>3.0</td>\n",
       "      <td>Abita Brewing Company</td>\n",
       "      <td>1.0</td>\n",
       "      <td>Maibock / Helles Bock</td>\n",
       "      <td>2004-04-06 10:00:00</td>\n",
       "      <td>2.90</td>\n",
       "      <td>5470.0</td>\n",
       "      <td>Everything about this beer seemed average or ...</td>\n",
       "      <td>BA</td>\n",
       "      <td>United States, Louisiana</td>\n",
       "      <td>United States</td>\n",
       "      <td>2004</td>\n",
       "      <td>Spring</td>\n",
       "      <td>-1.253651</td>\n",
       "      <td>-0.408882</td>\n",
       "      <td>-0.844769</td>\n",
       "      <td>3</td>\n",
       "      <td>-1.084818</td>\n",
       "      <td>Bock</td>\n",
       "    </tr>\n",
       "    <tr>\n",
       "      <th>3</th>\n",
       "      <td>Abita Andygator</td>\n",
       "      <td>3.0</td>\n",
       "      <td>Abita Brewing Company</td>\n",
       "      <td>1.0</td>\n",
       "      <td>Maibock / Helles Bock</td>\n",
       "      <td>2004-04-22 10:00:00</td>\n",
       "      <td>2.39</td>\n",
       "      <td>5545.0</td>\n",
       "      <td>This can't be a dopplebock. The bar listed it...</td>\n",
       "      <td>BA</td>\n",
       "      <td>United States, Connecticut</td>\n",
       "      <td>United States</td>\n",
       "      <td>2004</td>\n",
       "      <td>Spring</td>\n",
       "      <td>-2.019939</td>\n",
       "      <td>-0.811646</td>\n",
       "      <td>-1.208293</td>\n",
       "      <td>4</td>\n",
       "      <td>-1.851312</td>\n",
       "      <td>Bock</td>\n",
       "    </tr>\n",
       "    <tr>\n",
       "      <th>4</th>\n",
       "      <td>Abita Andygator</td>\n",
       "      <td>3.0</td>\n",
       "      <td>Abita Brewing Company</td>\n",
       "      <td>1.0</td>\n",
       "      <td>Maibock / Helles Bock</td>\n",
       "      <td>2004-05-02 10:00:00</td>\n",
       "      <td>3.28</td>\n",
       "      <td>32532.0</td>\n",
       "      <td>I had this on tap at the Abita Brew Pub in Ab...</td>\n",
       "      <td>BA</td>\n",
       "      <td>United States, Texas</td>\n",
       "      <td>United States</td>\n",
       "      <td>2004</td>\n",
       "      <td>Spring</td>\n",
       "      <td>-0.682692</td>\n",
       "      <td>-0.785855</td>\n",
       "      <td>0.103163</td>\n",
       "      <td>5</td>\n",
       "      <td>-0.514270</td>\n",
       "      <td>Bock</td>\n",
       "    </tr>\n",
       "  </tbody>\n",
       "</table>\n",
       "</div>"
      ],
      "text/plain": [
       "         beer_name  beer_id           brewery_name  brewery_id  \\\n",
       "0  Abita Andygator      3.0  Abita Brewing Company         1.0   \n",
       "1  Abita Andygator      3.0  Abita Brewing Company         1.0   \n",
       "2  Abita Andygator      3.0  Abita Brewing Company         1.0   \n",
       "3  Abita Andygator      3.0  Abita Brewing Company         1.0   \n",
       "4  Abita Andygator      3.0  Abita Brewing Company         1.0   \n",
       "\n",
       "                   style                date  rating  user_id  \\\n",
       "0  Maibock / Helles Bock 2003-10-15 10:00:00    3.55  11266.0   \n",
       "1  Maibock / Helles Bock 2003-12-22 11:00:00    3.85   6816.0   \n",
       "2  Maibock / Helles Bock 2004-04-06 10:00:00    2.90   5470.0   \n",
       "3  Maibock / Helles Bock 2004-04-22 10:00:00    2.39   5545.0   \n",
       "4  Maibock / Helles Bock 2004-05-02 10:00:00    3.28  32532.0   \n",
       "\n",
       "                                                text Procedence  \\\n",
       "0   I had this one on tap while in New Orleans. I...         BA   \n",
       "1   Well carbonated greenish gold. The color is a...         BA   \n",
       "2   Everything about this beer seemed average or ...         BA   \n",
       "3   This can't be a dopplebock. The bar listed it...         BA   \n",
       "4   I had this on tap at the Abita Brew Pub in Ab...         BA   \n",
       "\n",
       "                   country_user country_brewery  year  Season   z_score  \\\n",
       "0       United States, Illinois   United States  2003  Autumn -0.201923   \n",
       "1  United States, Massachusetts   United States  2003  Winter  0.228929   \n",
       "2      United States, Louisiana   United States  2004  Spring -1.253651   \n",
       "3    United States, Connecticut   United States  2004  Spring -2.019939   \n",
       "4          United States, Texas   United States  2004  Spring -0.682692   \n",
       "\n",
       "   exp_mean  diff_exp_mean  ith_rating   detrend macro_style  \n",
       "0 -0.201923       0.000000           1 -0.032678        Bock  \n",
       "1  0.013503       0.215426           2  0.397968        Bock  \n",
       "2 -0.408882      -0.844769           3 -1.084818        Bock  \n",
       "3 -0.811646      -1.208293           4 -1.851312        Bock  \n",
       "4 -0.785855       0.103163           5 -0.514270        Bock  "
      ]
     },
     "execution_count": 5,
     "metadata": {},
     "output_type": "execute_result"
    }
   ],
   "source": [
    "## NEED TO JUSTIFY HOW WE BUILT THE MACRO-GROUPS\n",
    "\n",
    "beer_dict = {\n",
    "    'American Pale Ale': 'Pale Ale',\n",
    "    'American Blonde Ale': 'Pale Ale',\n",
    "    'Golden Ale/Blond Ale': 'Pale Ale',\n",
    "    'Bitter': 'Pale Ale',\n",
    "    'Pale Ale': 'Pale Ale',\n",
    "    'American Pale Ale (APA)': 'Pale Ale',\n",
    "    'English Pale Ale': 'Pale Ale',\n",
    "    'English Bitter': 'Pale Ale',\n",
    "    'Premium Bitter/ESB': 'Pale Ale',\n",
    "    'English India Pale Ale (IPA)': 'Pale Ale',\n",
    "    'Extra Special / Strong Bitter (ESB)': 'Pale Ale',\n",
    "    'Saison / Farmhouse Ale': 'Pale Ale',\n",
    "    'English Pale Mild Ale': 'Pale Ale',\n",
    "    'Saison': 'Pale Ale',\n",
    "    'Belgian Pale Ale': 'Pale Ale',\n",
    "    'Belgian Strong Pale Ale': 'Strong Pale Ale',\n",
    "    'Tripel': 'Strong Pale Ale',\n",
    "    'Abbey Tripel': 'Strong Pale Ale',\n",
    "    'American IPA': 'IPA',\n",
    "    'Black IPA': 'IPA',\n",
    "    'India Pale Ale (IPA)': 'IPA',\n",
    "    'American Double / Imperial IPA': 'IPA',\n",
    "    'Imperial IPA': 'IPA',\n",
    "    'New England IPA (NEIPA)': 'IPA',\n",
    "    'Session IPA': 'IPA',\n",
    "    'Belgian IPA': 'IPA',\n",
    "    'Abbey Dubbel': 'Brown/Dark Ale',\n",
    "    'Dubbel': 'Brown/Dark Ale',\n",
    "    'Belgian Dark Ale': 'Brown/Dark Ale',\n",
    "    'American Brown Ale': 'Brown/Dark Ale',\n",
    "    'Brown Ale': 'Brown/Dark Ale',\n",
    "    'English Dark Mild Ale': 'Brown/Dark Ale',\n",
    "    'American Black Ale': 'Brown/Dark Ale',\n",
    "    'English Brown Ale': 'Brown/Dark Ale',\n",
    "    'Belgian Strong Dark Ale': 'Strong Brown/Dark Ale',\n",
    "    'Abt/Quadrupel': 'Strong Brown/Dark Ale',\n",
    "    'Barley Wine': 'Strong Brown/Dark Ale',\n",
    "    'English Barleywine': 'Strong Brown/Dark Ale',\n",
    "    'American Barleywine': 'Strong Brown/Dark Ale',\n",
    "    'Quadrupel (Quad)': 'Strong Brown/Dark Ale',\n",
    "    'Amber Ale': 'Amber Ale',\n",
    "    'American Amber Ale': 'Amber Ale',\n",
    "    'Irish Red Ale': 'Amber Ale',\n",
    "    'American Amber / Red Ale': 'Amber Ale',\n",
    "    'Red Ale': 'Amber Ale',\n",
    "    'Belgian Ale': 'Ale',\n",
    "    'Irish Ale': 'Ale',\n",
    "    'Old Ale': 'Ale',\n",
    "    'Mild Ale': 'Ale',\n",
    "    'Traditional Ale': 'Ale',\n",
    "    'Scotch Ale / Wee Heavy': 'Ale',\n",
    "    'Scotch Ale': 'Ale',\n",
    "    'Scottish Ale': 'Ale',\n",
    "    'Belgian Strong Ale': 'Strong Ale',\n",
    "    'American Strong Ale': 'Strong Ale',\n",
    "    'English Strong Ale': 'Strong Ale',\n",
    "    'Winter Warmer': 'Strong Ale',\n",
    "    'Stout': 'Stout',\n",
    "    'American Stout': 'Stout',\n",
    "    'Dry Stout': 'Stout',\n",
    "    'American Double / Imperial Stout': 'Stout',\n",
    "    'English Stout': 'Stout',\n",
    "    'Imperial Stout': 'Stout',\n",
    "    'Irish Dry Stout': 'Stout',\n",
    "    'Foreign / Export Stout': 'Stout',\n",
    "    'Oatmeal Stout': 'Stout',\n",
    "    'Russian Imperial Stout': 'Stout',\n",
    "    'Milk / Sweet Stout': 'Stout',\n",
    "    'Foreign Stout': 'Stout',\n",
    "    'Sweet Stout': 'Stout',\n",
    "    'Porter': 'Porter',\n",
    "    'American Porter': 'Porter',\n",
    "    'Baltic Porter': 'Porter',\n",
    "    'Imperial Porter': 'Porter',\n",
    "    'English Porter': 'Porter',\n",
    "    'American Dark Wheat Ale': 'Wheat Beer',\n",
    "    'Berliner Weissbier': 'Wheat Beer',\n",
    "    'Dunkelweizen': 'Wheat Beer',\n",
    "    'German Hefeweizen': 'Wheat Beer',\n",
    "    'Hefeweizen': 'Wheat Beer',\n",
    "    'Wheat Ale': 'Wheat Beer',\n",
    "    'Weizen Bock': 'Wheat Beer',\n",
    "    'Roggenbier': 'Wheat Beer',\n",
    "    'Weizenbock': 'Wheat Beer',\n",
    "    'Witbier': 'Wheat Beer',\n",
    "    'German Kristallweizen': 'Wheat Beer',\n",
    "    'Berliner Weisse': 'Wheat Beer',\n",
    "    'Kristalweizen': 'Wheat Beer',\n",
    "    'Wheatwine': 'Wheat Beer',\n",
    "    'Dunkelweizen': 'Wheat Beer',\n",
    "    'American Pale Wheat Ale': 'Wheat Beer',\n",
    "    'Flanders Oud Bruin': 'Wild/Sour Beer',\n",
    "    'Flanders Red Ale': 'Wild/Sour Beer',\n",
    "    'Gose': 'Wild/Sour Beer',\n",
    "    'Lambic - Fruit': 'Wild/Sour Beer',\n",
    "    'American Wild Ale': 'Wild/Sour Beer',\n",
    "    'Lambic - Unblended': 'Wild/Sour Beer',\n",
    "    'Lambic Style - Faro': 'Wild/Sour Beer',\n",
    "    'Lambic Style - Fruit': 'Wild/Sour Beer',\n",
    "    'Lambic Style - Gueuze': 'Wild/Sour Beer',\n",
    "    'Lambic Style - Unblended': 'Wild/Sour Beer',\n",
    "    'Sour Red/Brown': 'Wild/Sour Beer',\n",
    "    'Sour/Wild Ale': 'Wild/Sour Beer',\n",
    "    'Faro': 'Wild/Sour Beer',\n",
    "    'Gueuze': 'Wild/Sour Beer',\n",
    "    'Grodziskie/Gose/Lichtenhainer': 'Wild/Sour Beer',\n",
    "    'American Adjunct Lager': 'Pilsner & Pale Lager',\n",
    "    'American Pale Lager': 'Pilsner & Pale Lager',\n",
    "    'Pilsener': 'Pilsner & Pale Lager',\n",
    "    'Dortmunder / Export Lager': 'Pilsner & Pale Lager',\n",
    "    'European Pale Lager': 'Pilsner & Pale Lager',\n",
    "    'German Pilsener': 'Pilsner & Pale Lager',\n",
    "    'Pale Lager': 'Pilsner & Pale Lager',\n",
    "    'Munich Helles Lager': 'Pilsner & Pale Lager',\n",
    "    'Pilsener (German and Czech)': 'Pilsner & Pale Lager',\n",
    "    'Czech Pilsener': 'Pilsner & Pale Lager',\n",
    "    'Czech Pilsner (Světlý)': 'Pilsner & Pale Lager',\n",
    "    'India Style Lager': 'Pilsner & Pale Lager',\n",
    "    'Imperial Pils/Strong Pale Lager': 'Pilsner & Pale Lager',\n",
    "    'Kellerbier / Zwickelbier': 'Pilsner & Pale Lager',\n",
    "    'Euro Pale Lager': 'Pilsner & Pale Lager',\n",
    "    'Zwickel/Keller/Landbier': 'Pilsner & Pale Lager',\n",
    "    'Euro Strong Lager': 'Pilsner & Pale Lager',\n",
    "    'American Double / Imperial Pilsner': 'Pilsner & Pale Lager',\n",
    "    'Light Lager': 'Pilsner & Pale Lager',\n",
    "    'Radler/Shandy': 'Pilsner & Pale Lager',\n",
    "    'Japanese Rice Lager': 'Pilsner & Pale Lager',\n",
    "    'Premium Lager': 'Pilsner & Pale Lager',\n",
    "    'Dortmunder/Helles': 'Pilsner & Pale Lager',\n",
    "    'Doppelbock': 'Bock',\n",
    "    'Eisbock': 'Bock',\n",
    "    'Heller Bock': 'Bock',\n",
    "    'Maibock / Helles Bock': 'Bock',\n",
    "    'Bock': 'Bock',\n",
    "    'Amber Lager/Vienna': 'Dark Lager',\n",
    "    'Munich Dunkel Lager': 'Dark Lager',\n",
    "    'Schwarzbier': 'Dark Lager',\n",
    "    'Vienna Lager': 'Dark Lager',\n",
    "    'American Amber / Red Lager': 'Dark Lager',\n",
    "    'Dunkel/Tmavý': 'Dark Lager',\n",
    "    'Dunkler Bock': 'Dark Lager',\n",
    "    'Euro Dark Lager': 'Dark Lager',\n",
    "    'Schwarzbier': 'Dark Lager',\n",
    "    'Polotmavý': 'Dark Lager',\n",
    "    'Märzen / Oktoberfest': 'Dark Lager',\n",
    "    'Oktoberfest/Märzen': 'Dark Lager',\n",
    "    'Rauchbier': 'Smoked',\n",
    "    'Smoked': 'Smoked',\n",
    "    'Smoked Beer': 'Smoked',\n",
    "    'Cream Ale': 'Hybrid Beer',\n",
    "    'Kölsch': 'Hybrid Beer',\n",
    "    'California Common': 'Hybrid Beer',\n",
    "    'California Common / Steam Beer': 'Hybrid Beer',\n",
    "    'Braggot': 'Hybrid Beer',\n",
    "    'Bière de Garde': 'Hybrid Beer',\n",
    "    'Black & Tan': 'Hybrid Beer',\n",
    "    'Altbier': 'Hybrid Beer',\n",
    "    'Rye Beer': 'Hybrid Beer',\n",
    "    'Chile Beer': 'Herbs/Vegetables',\n",
    "    'Cider': 'Herbs/Vegetables',\n",
    "    'Fruit / Vegetable Beer': 'Herbs/Vegetables',\n",
    "    'Fruit Beer': 'Herbs/Vegetables',\n",
    "    'Herbed / Spiced Beer': 'Herbs/Vegetables',\n",
    "    'Mead': 'Herbs/Vegetables',\n",
    "    'Spice/Herb/Vegetable': 'Herbs/Vegetables',\n",
    "    'Specialty Grain': 'Herbs/Vegetables',\n",
    "    'Sahti': 'Herbs/Vegetables',\n",
    "    'Sahti/Gotlandsdricke/Koduõlu': 'Herbs/Vegetables',\n",
    "    'Scottish Gruit / Ancient Herbed Ale': 'Herbs/Vegetables',\n",
    "    'Pumpkin Ale': 'Herbs/Vegetables',\n",
    "    'Perry': 'Herbs/Vegetables',\n",
    "    'Happoshu': 'Low Alcohol',\n",
    "    'Low Alcohol': 'Low Alcohol',\n",
    "    'Low Alcohol Beer': 'Low Alcohol',\n",
    "    'Kvass': 'Low Alcohol',\n",
    "    'American Malt Liquor': 'Cocktails',\n",
    "    'Bière de Champagne / Bière Brut': 'Cocktails',\n",
    "    'Malt Liquor': 'Cocktails',\n",
    "    'Saké - Daiginjo': 'Cocktails',\n",
    "    'Saké - Futsu-shu': 'Cocktails',\n",
    "    'Saké - Genshu': 'Cocktails',\n",
    "    'Saké - Ginjo': 'Cocktails',\n",
    "    'Saké - Honjozo': 'Cocktails',\n",
    "    'Saké - Infused': 'Cocktails',\n",
    "    'Saké - Junmai': 'Cocktails',\n",
    "    'Saké - Koshu': 'Cocktails',\n",
    "    'Saké - Namasaké': 'Cocktails',\n",
    "    'Saké - Nigori': 'Cocktails',\n",
    "    'Saké - Taru': 'Cocktails',\n",
    "    'Saké - Tokubetsu': 'Cocktails'\n",
    "}\n",
    "df_ratings['style'] = df_ratings['style'].str.strip() # This CAN GO IN THE PREPROCESSING\n",
    "df_ratings['macro_style'] = df_ratings['style'].map(beer_dict) # This CAN GO IN THE PREPROCESSING\n",
    "df_ratings['country_brewery'] = df_ratings['country_brewery'].apply(pproc.unify_location) # This CAN GO IN THE PREPROCESSING\n",
    "#df_ratings['country_user'] = df_ratings['country_user'].apply(pproc.unify_location) # This CAN GO IN THE PREPROCESSING\n",
    "palette_styles = dict(zip(df_ratings['macro_style'].unique(), sns.color_palette('tab20', 20)[:20]))\n",
    "\n",
    "df_breweries['country_brewery'] = df_breweries['country_brewery'].apply(pproc.unify_location)\n",
    "\n",
    "df_ratings.head()"
   ]
  },
  {
   "cell_type": "code",
   "execution_count": 6,
   "metadata": {},
   "outputs": [],
   "source": [
    "# Filter to get only users with a minimum amount of reviews\n",
    "\n",
    "df_users_filt, df_ratings_filt_users = pproc.filter_by_ratings(df_users, df_ratings, 20, 'total_nbr_ratings', 'user_id')"
   ]
  },
  {
   "cell_type": "code",
   "execution_count": 7,
   "metadata": {},
   "outputs": [
    {
     "data": {
      "image/png": "[encoded data removed]",
      "text/plain": [
       "<Figure size 1000x400 with 2 Axes>"
      ]
     },
     "metadata": {},
     "output_type": "display_data"
    }
   ],
   "source": [
    "fig, ax = plt.subplots(ncols=2, sharex=True, sharey=True, figsize=(10,4))\n",
    "\n",
    "users_counts = df_ratings.groupby('user_id').size().reset_index().rename(columns={0: 'reviews_by_user'})\n",
    "sns.histplot(data = users_counts, x='reviews_by_user', log_scale=True, ax=ax[0], color='tab:blue')\n",
    "ax[0].set_title('Before filtering')\n",
    "ax[0].set_xlabel('# reviews for user')\n",
    "\n",
    "users_counts_filt = df_ratings_filt_users.groupby('user_id').size().reset_index().rename(columns={0: 'reviews_by_user'})\n",
    "sns.histplot(data = users_counts_filt, x='reviews_by_user', log_scale=True, ax=ax[1], color='tab:orange')\n",
    "ax[1].set_title('After filtering')\n",
    "ax[1].set_xlabel('# reviews for user')\n",
    "\n",
    "fig.suptitle('Number of reviews by user', weight='bold')\n",
    "plt.yscale('log')\n",
    "plt.show()"
   ]
  },
  {
   "cell_type": "code",
   "execution_count": 8,
   "metadata": {},
   "outputs": [
    {
     "name": "stdout",
     "output_type": "stream",
     "text": [
      "There are 1627 breweries without reviews for beers\n"
     ]
    }
   ],
   "source": [
    "print(f'There are {(df_breweries.total_nbr_beers == 0).sum()} breweries without reviews for beers')\n",
    "\n",
    "df_breweries_filt = df_breweries[~(df_breweries['total_nbr_beers'] == 0)]"
   ]
  },
  {
   "cell_type": "code",
   "execution_count": 9,
   "metadata": {},
   "outputs": [],
   "source": [
    "# Filter to have only location with at least 30 breweries\n",
    "brewery_per_location_counts = df_breweries_filt.groupby('country_brewery').size().reset_index().rename(columns={0:'brewery_per_location'})\n",
    "brewery_per_location_counts_filt, df_ratings_filt_countries = pproc.filter_by_ratings(brewery_per_location_counts, df_ratings_filt_users, 30, 'brewery_per_location', 'country_brewery')"
   ]
  },
  {
   "cell_type": "code",
   "execution_count": 10,
   "metadata": {},
   "outputs": [
    {
     "data": {
      "image/png": "[encoded data removed]",
      "text/plain": [
       "<Figure size 800x500 with 1 Axes>"
      ]
     },
     "metadata": {},
     "output_type": "display_data"
    }
   ],
   "source": [
    "data_filt_countries = pd.DataFrame({\n",
    "    'Status': ['Before Filtering', 'After Filtering'],\n",
    "    'Count': [len(brewery_per_location_counts), len(brewery_per_location_counts_filt)]\n",
    "})\n",
    "\n",
    "# Create a point plot\n",
    "plt.figure(figsize=(8, 5))\n",
    "sns.barplot(x='Status', y='Count', data=data_filt_countries, palette={'Before Filtering': 'tab:blue', 'After Filtering': 'tab:orange'})\n",
    "plt.ylim([0,240])\n",
    "plt.title('Number of Locations Before and After Filtering')\n",
    "plt.xlabel('')\n",
    "plt.ylabel('Number of Locations')\n",
    "plt.show()"
   ]
  },
  {
   "cell_type": "markdown",
   "metadata": {},
   "source": [
    "# Data analysis"
   ]
  },
  {
   "cell_type": "code",
   "execution_count": 11,
   "metadata": {},
   "outputs": [],
   "source": [
    "## ADD part where you upload and work with the filtered dataframe\n",
    "\n",
    "'''dpath = './Data/unified_breweries_filt.pkl'\n",
    "with open(dpath, 'rb') as f:\n",
    "    df_breweries_filt = pkl.load(f)\n",
    "\n",
    "data_path = './Data/unified_users_filt.pkl'\n",
    "with open(data_path, 'rb') as f:\n",
    "    df_users_filt = pkl.load(f)\n",
    "\n",
    "data_path = './Data/unified_ratings_filt.pkl'\n",
    "with open(data_path, 'rb') as f:\n",
    "    df_ratings_filt = pkl.load(f)'''\n",
    "\n",
    "df_ratings_filt = df_ratings_filt_countries\n",
    "df_users_filt = df_users"
   ]
  },
  {
   "cell_type": "markdown",
   "metadata": {},
   "source": [
    "### Preffered beer styles by country"
   ]
  },
  {
   "cell_type": "code",
   "execution_count": 12,
   "metadata": {},
   "outputs": [
    {
     "data": {
      "text/html": [
       "<div>\n",
       "<style scoped>\n",
       "    .dataframe tbody tr th:only-of-type {\n",
       "        vertical-align: middle;\n",
       "    }\n",
       "\n",
       "    .dataframe tbody tr th {\n",
       "        vertical-align: top;\n",
       "    }\n",
       "\n",
       "    .dataframe thead th {\n",
       "        text-align: right;\n",
       "    }\n",
       "</style>\n",
       "<table border=\"1\" class=\"dataframe\">\n",
       "  <thead>\n",
       "    <tr style=\"text-align: right;\">\n",
       "      <th></th>\n",
       "      <th>beer_name</th>\n",
       "      <th>beer_id</th>\n",
       "      <th>brewery_name</th>\n",
       "      <th>brewery_id</th>\n",
       "      <th>style</th>\n",
       "      <th>date</th>\n",
       "      <th>rating</th>\n",
       "      <th>user_id</th>\n",
       "      <th>text</th>\n",
       "      <th>Procedence</th>\n",
       "      <th>...</th>\n",
       "      <th>country_brewery</th>\n",
       "      <th>year</th>\n",
       "      <th>Season</th>\n",
       "      <th>z_score</th>\n",
       "      <th>exp_mean</th>\n",
       "      <th>diff_exp_mean</th>\n",
       "      <th>ith_rating</th>\n",
       "      <th>detrend</th>\n",
       "      <th>macro_style</th>\n",
       "      <th>expertise</th>\n",
       "    </tr>\n",
       "  </thead>\n",
       "  <tbody>\n",
       "    <tr>\n",
       "      <th>0</th>\n",
       "      <td>Abita Andygator</td>\n",
       "      <td>3.0</td>\n",
       "      <td>Abita Brewing Company</td>\n",
       "      <td>1.0</td>\n",
       "      <td>Maibock / Helles Bock</td>\n",
       "      <td>2003-10-15 10:00:00</td>\n",
       "      <td>3.55</td>\n",
       "      <td>11266.0</td>\n",
       "      <td>I had this one on tap while in New Orleans. I...</td>\n",
       "      <td>BA</td>\n",
       "      <td>...</td>\n",
       "      <td>United States</td>\n",
       "      <td>2003</td>\n",
       "      <td>Autumn</td>\n",
       "      <td>-0.201923</td>\n",
       "      <td>-0.201923</td>\n",
       "      <td>0.000000</td>\n",
       "      <td>1</td>\n",
       "      <td>-0.032678</td>\n",
       "      <td>Bock</td>\n",
       "      <td>0</td>\n",
       "    </tr>\n",
       "    <tr>\n",
       "      <th>1</th>\n",
       "      <td>Abita Andygator</td>\n",
       "      <td>3.0</td>\n",
       "      <td>Abita Brewing Company</td>\n",
       "      <td>1.0</td>\n",
       "      <td>Maibock / Helles Bock</td>\n",
       "      <td>2003-12-22 11:00:00</td>\n",
       "      <td>3.85</td>\n",
       "      <td>6816.0</td>\n",
       "      <td>Well carbonated greenish gold. The color is a...</td>\n",
       "      <td>BA</td>\n",
       "      <td>...</td>\n",
       "      <td>United States</td>\n",
       "      <td>2003</td>\n",
       "      <td>Winter</td>\n",
       "      <td>0.228929</td>\n",
       "      <td>0.013503</td>\n",
       "      <td>0.215426</td>\n",
       "      <td>2</td>\n",
       "      <td>0.397968</td>\n",
       "      <td>Bock</td>\n",
       "      <td>0</td>\n",
       "    </tr>\n",
       "    <tr>\n",
       "      <th>2</th>\n",
       "      <td>Abita Andygator</td>\n",
       "      <td>3.0</td>\n",
       "      <td>Abita Brewing Company</td>\n",
       "      <td>1.0</td>\n",
       "      <td>Maibock / Helles Bock</td>\n",
       "      <td>2004-04-06 10:00:00</td>\n",
       "      <td>2.90</td>\n",
       "      <td>5470.0</td>\n",
       "      <td>Everything about this beer seemed average or ...</td>\n",
       "      <td>BA</td>\n",
       "      <td>...</td>\n",
       "      <td>United States</td>\n",
       "      <td>2004</td>\n",
       "      <td>Spring</td>\n",
       "      <td>-1.253651</td>\n",
       "      <td>-0.408882</td>\n",
       "      <td>-0.844769</td>\n",
       "      <td>3</td>\n",
       "      <td>-1.084818</td>\n",
       "      <td>Bock</td>\n",
       "      <td>0</td>\n",
       "    </tr>\n",
       "    <tr>\n",
       "      <th>3</th>\n",
       "      <td>Abita Andygator</td>\n",
       "      <td>3.0</td>\n",
       "      <td>Abita Brewing Company</td>\n",
       "      <td>1.0</td>\n",
       "      <td>Maibock / Helles Bock</td>\n",
       "      <td>2004-04-22 10:00:00</td>\n",
       "      <td>2.39</td>\n",
       "      <td>5545.0</td>\n",
       "      <td>This can't be a dopplebock. The bar listed it...</td>\n",
       "      <td>BA</td>\n",
       "      <td>...</td>\n",
       "      <td>United States</td>\n",
       "      <td>2004</td>\n",
       "      <td>Spring</td>\n",
       "      <td>-2.019939</td>\n",
       "      <td>-0.811646</td>\n",
       "      <td>-1.208293</td>\n",
       "      <td>4</td>\n",
       "      <td>-1.851312</td>\n",
       "      <td>Bock</td>\n",
       "      <td>0</td>\n",
       "    </tr>\n",
       "    <tr>\n",
       "      <th>4</th>\n",
       "      <td>Abita Andygator</td>\n",
       "      <td>3.0</td>\n",
       "      <td>Abita Brewing Company</td>\n",
       "      <td>1.0</td>\n",
       "      <td>Maibock / Helles Bock</td>\n",
       "      <td>2004-05-02 10:00:00</td>\n",
       "      <td>3.28</td>\n",
       "      <td>32532.0</td>\n",
       "      <td>I had this on tap at the Abita Brew Pub in Ab...</td>\n",
       "      <td>BA</td>\n",
       "      <td>...</td>\n",
       "      <td>United States</td>\n",
       "      <td>2004</td>\n",
       "      <td>Spring</td>\n",
       "      <td>-0.682692</td>\n",
       "      <td>-0.785855</td>\n",
       "      <td>0.103163</td>\n",
       "      <td>5</td>\n",
       "      <td>-0.514270</td>\n",
       "      <td>Bock</td>\n",
       "      <td>0</td>\n",
       "    </tr>\n",
       "  </tbody>\n",
       "</table>\n",
       "<p>5 rows × 21 columns</p>\n",
       "</div>"
      ],
      "text/plain": [
       "         beer_name  beer_id           brewery_name  brewery_id  \\\n",
       "0  Abita Andygator      3.0  Abita Brewing Company         1.0   \n",
       "1  Abita Andygator      3.0  Abita Brewing Company         1.0   \n",
       "2  Abita Andygator      3.0  Abita Brewing Company         1.0   \n",
       "3  Abita Andygator      3.0  Abita Brewing Company         1.0   \n",
       "4  Abita Andygator      3.0  Abita Brewing Company         1.0   \n",
       "\n",
       "                   style                date  rating  user_id  \\\n",
       "0  Maibock / Helles Bock 2003-10-15 10:00:00    3.55  11266.0   \n",
       "1  Maibock / Helles Bock 2003-12-22 11:00:00    3.85   6816.0   \n",
       "2  Maibock / Helles Bock 2004-04-06 10:00:00    2.90   5470.0   \n",
       "3  Maibock / Helles Bock 2004-04-22 10:00:00    2.39   5545.0   \n",
       "4  Maibock / Helles Bock 2004-05-02 10:00:00    3.28  32532.0   \n",
       "\n",
       "                                                text Procedence  ...  \\\n",
       "0   I had this one on tap while in New Orleans. I...         BA  ...   \n",
       "1   Well carbonated greenish gold. The color is a...         BA  ...   \n",
       "2   Everything about this beer seemed average or ...         BA  ...   \n",
       "3   This can't be a dopplebock. The bar listed it...         BA  ...   \n",
       "4   I had this on tap at the Abita Brew Pub in Ab...         BA  ...   \n",
       "\n",
       "  country_brewery  year  Season   z_score  exp_mean  diff_exp_mean  \\\n",
       "0   United States  2003  Autumn -0.201923 -0.201923       0.000000   \n",
       "1   United States  2003  Winter  0.228929  0.013503       0.215426   \n",
       "2   United States  2004  Spring -1.253651 -0.408882      -0.844769   \n",
       "3   United States  2004  Spring -2.019939 -0.811646      -1.208293   \n",
       "4   United States  2004  Spring -0.682692 -0.785855       0.103163   \n",
       "\n",
       "   ith_rating   detrend  macro_style expertise  \n",
       "0           1 -0.032678         Bock         0  \n",
       "1           2  0.397968         Bock         0  \n",
       "2           3 -1.084818         Bock         0  \n",
       "3           4 -1.851312         Bock         0  \n",
       "4           5 -0.514270         Bock         0  \n",
       "\n",
       "[5 rows x 21 columns]"
      ]
     },
     "execution_count": 12,
     "metadata": {},
     "output_type": "execute_result"
    }
   ],
   "source": [
    "# Expertise\n",
    "df_users['expertise'] = (df_users['total_nbr_ratings'] >= 3352).astype(int)\n",
    "\n",
    "equivalent_expertise = dict(zip(df_users['user_id'], df_users['expertise']))\n",
    "df_ratings_filt['expertise']=df_ratings_filt['user_id'].map(equivalent_expertise)\n",
    "df_ratings_filt.head()"
   ]
  },
  {
   "cell_type": "code",
   "execution_count": 29,
   "metadata": {},
   "outputs": [
    {
     "data": {
      "text/html": [
       "<div>\n",
       "<style scoped>\n",
       "    .dataframe tbody tr th:only-of-type {\n",
       "        vertical-align: middle;\n",
       "    }\n",
       "\n",
       "    .dataframe tbody tr th {\n",
       "        vertical-align: top;\n",
       "    }\n",
       "\n",
       "    .dataframe thead th {\n",
       "        text-align: right;\n",
       "    }\n",
       "</style>\n",
       "<table border=\"1\" class=\"dataframe\">\n",
       "  <thead>\n",
       "    <tr style=\"text-align: right;\">\n",
       "      <th></th>\n",
       "      <th>country_brewery</th>\n",
       "      <th>macro_style</th>\n",
       "      <th>final_score</th>\n",
       "    </tr>\n",
       "  </thead>\n",
       "  <tbody>\n",
       "    <tr>\n",
       "      <th>13</th>\n",
       "      <td>Argentina</td>\n",
       "      <td>Smoked</td>\n",
       "      <td>-0.266899</td>\n",
       "    </tr>\n",
       "    <tr>\n",
       "      <th>2</th>\n",
       "      <td>Argentina</td>\n",
       "      <td>Bock</td>\n",
       "      <td>-0.300116</td>\n",
       "    </tr>\n",
       "    <tr>\n",
       "      <th>14</th>\n",
       "      <td>Argentina</td>\n",
       "      <td>Stout</td>\n",
       "      <td>-0.345592</td>\n",
       "    </tr>\n",
       "    <tr>\n",
       "      <th>8</th>\n",
       "      <td>Argentina</td>\n",
       "      <td>IPA</td>\n",
       "      <td>-0.467432</td>\n",
       "    </tr>\n",
       "    <tr>\n",
       "      <th>16</th>\n",
       "      <td>Argentina</td>\n",
       "      <td>Strong Brown/Dark Ale</td>\n",
       "      <td>-0.470246</td>\n",
       "    </tr>\n",
       "    <tr>\n",
       "      <th>...</th>\n",
       "      <td>...</td>\n",
       "      <td>...</td>\n",
       "      <td>...</td>\n",
       "    </tr>\n",
       "    <tr>\n",
       "      <th>1133</th>\n",
       "      <td>Wales</td>\n",
       "      <td>Wheat Beer</td>\n",
       "      <td>-0.296245</td>\n",
       "    </tr>\n",
       "    <tr>\n",
       "      <th>1130</th>\n",
       "      <td>Wales</td>\n",
       "      <td>Strong Ale</td>\n",
       "      <td>-0.323854</td>\n",
       "    </tr>\n",
       "    <tr>\n",
       "      <th>1125</th>\n",
       "      <td>Wales</td>\n",
       "      <td>Pale Ale</td>\n",
       "      <td>-0.358470</td>\n",
       "    </tr>\n",
       "    <tr>\n",
       "      <th>1119</th>\n",
       "      <td>Wales</td>\n",
       "      <td>Bock</td>\n",
       "      <td>-0.375377</td>\n",
       "    </tr>\n",
       "    <tr>\n",
       "      <th>1126</th>\n",
       "      <td>Wales</td>\n",
       "      <td>Pilsner &amp; Pale Lager</td>\n",
       "      <td>-0.760400</td>\n",
       "    </tr>\n",
       "  </tbody>\n",
       "</table>\n",
       "<p>1135 rows × 3 columns</p>\n",
       "</div>"
      ],
      "text/plain": [
       "     country_brewery            macro_style  final_score\n",
       "13         Argentina                 Smoked    -0.266899\n",
       "2          Argentina                   Bock    -0.300116\n",
       "14         Argentina                  Stout    -0.345592\n",
       "8          Argentina                    IPA    -0.467432\n",
       "16         Argentina  Strong Brown/Dark Ale    -0.470246\n",
       "...              ...                    ...          ...\n",
       "1133           Wales             Wheat Beer    -0.296245\n",
       "1130           Wales             Strong Ale    -0.323854\n",
       "1125           Wales               Pale Ale    -0.358470\n",
       "1119           Wales                   Bock    -0.375377\n",
       "1126           Wales   Pilsner & Pale Lager    -0.760400\n",
       "\n",
       "[1135 rows x 3 columns]"
      ]
     },
     "execution_count": 29,
     "metadata": {},
     "output_type": "execute_result"
    }
   ],
   "source": [
    "def weighted_average(group):\n",
    "    # Define weights based on 'expertise'\n",
    "    weights = {1: 1.5, 0: 1}\n",
    "\n",
    "    # Calculate the weighted average\n",
    "    weighted_avg = (group['detrend'] * group['expertise'].map(weights)).sum() / group['expertise'].map(weights).sum()\n",
    "\n",
    "    return pd.Series({'macro_style': group['macro_style'].iloc[0], 'country_brewery': group['country_brewery'].iloc[0], 'final_score': weighted_avg})\n",
    "\n",
    "weighted_scores = df_ratings_filt.groupby(['country_brewery', 'macro_style'], as_index=False).apply(weighted_average)\n",
    "weighted_scores = weighted_scores.sort_values(by=['country_brewery', 'final_score'],  ascending=[True, False])\n",
    "desired_order = ['country_brewery', 'macro_style', 'final_score']\n",
    "weighted_scores = weighted_scores[desired_order]\n",
    "weighted_scores"
   ]
  },
  {
   "cell_type": "code",
   "execution_count": 33,
   "metadata": {},
   "outputs": [
    {
     "data": {
      "text/html": [
       "<div>\n",
       "<style scoped>\n",
       "    .dataframe tbody tr th:only-of-type {\n",
       "        vertical-align: middle;\n",
       "    }\n",
       "\n",
       "    .dataframe tbody tr th {\n",
       "        vertical-align: top;\n",
       "    }\n",
       "\n",
       "    .dataframe thead th {\n",
       "        text-align: right;\n",
       "    }\n",
       "</style>\n",
       "<table border=\"1\" class=\"dataframe\">\n",
       "  <thead>\n",
       "    <tr style=\"text-align: right;\">\n",
       "      <th>macro_style</th>\n",
       "      <th>Ale</th>\n",
       "      <th>Amber Ale</th>\n",
       "      <th>Bock</th>\n",
       "      <th>Brown/Dark Ale</th>\n",
       "      <th>Cocktails</th>\n",
       "      <th>Dark Lager</th>\n",
       "      <th>Herbs/Vegetables</th>\n",
       "      <th>Hybrid Beer</th>\n",
       "      <th>IPA</th>\n",
       "      <th>Low Alcohol</th>\n",
       "      <th>Pale Ale</th>\n",
       "      <th>Pilsner &amp; Pale Lager</th>\n",
       "      <th>Porter</th>\n",
       "      <th>Smoked</th>\n",
       "      <th>Stout</th>\n",
       "      <th>Strong Ale</th>\n",
       "      <th>Strong Brown/Dark Ale</th>\n",
       "      <th>Strong Pale Ale</th>\n",
       "      <th>Wheat Beer</th>\n",
       "      <th>Wild/Sour Beer</th>\n",
       "    </tr>\n",
       "    <tr>\n",
       "      <th>country_brewery</th>\n",
       "      <th></th>\n",
       "      <th></th>\n",
       "      <th></th>\n",
       "      <th></th>\n",
       "      <th></th>\n",
       "      <th></th>\n",
       "      <th></th>\n",
       "      <th></th>\n",
       "      <th></th>\n",
       "      <th></th>\n",
       "      <th></th>\n",
       "      <th></th>\n",
       "      <th></th>\n",
       "      <th></th>\n",
       "      <th></th>\n",
       "      <th></th>\n",
       "      <th></th>\n",
       "      <th></th>\n",
       "      <th></th>\n",
       "      <th></th>\n",
       "    </tr>\n",
       "  </thead>\n",
       "  <tbody>\n",
       "    <tr>\n",
       "      <th>Argentina</th>\n",
       "      <td>-0.749725</td>\n",
       "      <td>-0.915617</td>\n",
       "      <td>-0.300116</td>\n",
       "      <td>-0.683294</td>\n",
       "      <td>-2.273014</td>\n",
       "      <td>-0.774077</td>\n",
       "      <td>-0.900112</td>\n",
       "      <td>-0.944117</td>\n",
       "      <td>-0.467432</td>\n",
       "      <td>-2.645912</td>\n",
       "      <td>-0.853580</td>\n",
       "      <td>-1.955552</td>\n",
       "      <td>-0.568582</td>\n",
       "      <td>-0.266899</td>\n",
       "      <td>-0.345592</td>\n",
       "      <td>-0.631570</td>\n",
       "      <td>-0.470246</td>\n",
       "      <td>-0.596022</td>\n",
       "      <td>-0.858497</td>\n",
       "      <td>-0.657191</td>\n",
       "    </tr>\n",
       "    <tr>\n",
       "      <th>Australia</th>\n",
       "      <td>-0.227078</td>\n",
       "      <td>-0.330493</td>\n",
       "      <td>-0.046049</td>\n",
       "      <td>-0.284360</td>\n",
       "      <td>-1.070205</td>\n",
       "      <td>-0.320086</td>\n",
       "      <td>-0.669589</td>\n",
       "      <td>-0.580065</td>\n",
       "      <td>0.149342</td>\n",
       "      <td>-2.020448</td>\n",
       "      <td>-0.558433</td>\n",
       "      <td>-1.690852</td>\n",
       "      <td>-0.028254</td>\n",
       "      <td>-0.011624</td>\n",
       "      <td>0.125820</td>\n",
       "      <td>0.062755</td>\n",
       "      <td>0.408501</td>\n",
       "      <td>-0.007759</td>\n",
       "      <td>-0.626472</td>\n",
       "      <td>0.022519</td>\n",
       "    </tr>\n",
       "    <tr>\n",
       "      <th>Austria</th>\n",
       "      <td>-0.128614</td>\n",
       "      <td>-0.342642</td>\n",
       "      <td>0.042743</td>\n",
       "      <td>-0.280577</td>\n",
       "      <td>0.251225</td>\n",
       "      <td>-0.721886</td>\n",
       "      <td>-0.562477</td>\n",
       "      <td>-0.365769</td>\n",
       "      <td>0.162718</td>\n",
       "      <td>-2.172654</td>\n",
       "      <td>-0.125734</td>\n",
       "      <td>-0.979921</td>\n",
       "      <td>-0.037206</td>\n",
       "      <td>0.056737</td>\n",
       "      <td>0.097649</td>\n",
       "      <td>-0.030606</td>\n",
       "      <td>0.365782</td>\n",
       "      <td>-0.150043</td>\n",
       "      <td>-0.281544</td>\n",
       "      <td>-0.076780</td>\n",
       "    </tr>\n",
       "    <tr>\n",
       "      <th>Belarus</th>\n",
       "      <td>-1.676044</td>\n",
       "      <td>-0.494246</td>\n",
       "      <td>-1.180841</td>\n",
       "      <td>-0.778011</td>\n",
       "      <td>NaN</td>\n",
       "      <td>-1.002582</td>\n",
       "      <td>-1.503586</td>\n",
       "      <td>-1.264771</td>\n",
       "      <td>-0.194353</td>\n",
       "      <td>-1.735120</td>\n",
       "      <td>-0.393074</td>\n",
       "      <td>-1.872696</td>\n",
       "      <td>-0.736962</td>\n",
       "      <td>-1.616323</td>\n",
       "      <td>-0.283914</td>\n",
       "      <td>NaN</td>\n",
       "      <td>0.435449</td>\n",
       "      <td>NaN</td>\n",
       "      <td>-0.768916</td>\n",
       "      <td>-0.695496</td>\n",
       "    </tr>\n",
       "    <tr>\n",
       "      <th>Belgium</th>\n",
       "      <td>-0.095466</td>\n",
       "      <td>-0.347591</td>\n",
       "      <td>-0.312706</td>\n",
       "      <td>0.205762</td>\n",
       "      <td>-0.174295</td>\n",
       "      <td>-0.418066</td>\n",
       "      <td>-0.660245</td>\n",
       "      <td>0.161468</td>\n",
       "      <td>0.219899</td>\n",
       "      <td>-1.916519</td>\n",
       "      <td>0.072146</td>\n",
       "      <td>-1.377546</td>\n",
       "      <td>0.202760</td>\n",
       "      <td>-0.139086</td>\n",
       "      <td>0.387364</td>\n",
       "      <td>0.395673</td>\n",
       "      <td>0.627048</td>\n",
       "      <td>0.241457</td>\n",
       "      <td>-0.214066</td>\n",
       "      <td>0.465457</td>\n",
       "    </tr>\n",
       "    <tr>\n",
       "      <th>...</th>\n",
       "      <td>...</td>\n",
       "      <td>...</td>\n",
       "      <td>...</td>\n",
       "      <td>...</td>\n",
       "      <td>...</td>\n",
       "      <td>...</td>\n",
       "      <td>...</td>\n",
       "      <td>...</td>\n",
       "      <td>...</td>\n",
       "      <td>...</td>\n",
       "      <td>...</td>\n",
       "      <td>...</td>\n",
       "      <td>...</td>\n",
       "      <td>...</td>\n",
       "      <td>...</td>\n",
       "      <td>...</td>\n",
       "      <td>...</td>\n",
       "      <td>...</td>\n",
       "      <td>...</td>\n",
       "      <td>...</td>\n",
       "    </tr>\n",
       "    <tr>\n",
       "      <th>Thailand</th>\n",
       "      <td>-0.259910</td>\n",
       "      <td>-0.182931</td>\n",
       "      <td>-0.294931</td>\n",
       "      <td>-0.302581</td>\n",
       "      <td>-2.519699</td>\n",
       "      <td>-0.831981</td>\n",
       "      <td>-0.975507</td>\n",
       "      <td>-0.261459</td>\n",
       "      <td>-0.184866</td>\n",
       "      <td>NaN</td>\n",
       "      <td>-0.391067</td>\n",
       "      <td>-1.883727</td>\n",
       "      <td>-0.023339</td>\n",
       "      <td>0.168531</td>\n",
       "      <td>-0.019783</td>\n",
       "      <td>-0.128906</td>\n",
       "      <td>0.495813</td>\n",
       "      <td>0.327132</td>\n",
       "      <td>-0.555564</td>\n",
       "      <td>NaN</td>\n",
       "    </tr>\n",
       "    <tr>\n",
       "      <th>Ukraine</th>\n",
       "      <td>-0.971010</td>\n",
       "      <td>-0.515840</td>\n",
       "      <td>-0.805911</td>\n",
       "      <td>-0.564450</td>\n",
       "      <td>-2.546517</td>\n",
       "      <td>-0.925239</td>\n",
       "      <td>-0.911032</td>\n",
       "      <td>-0.565189</td>\n",
       "      <td>-0.189196</td>\n",
       "      <td>-1.987031</td>\n",
       "      <td>-0.558202</td>\n",
       "      <td>-1.739017</td>\n",
       "      <td>-0.315926</td>\n",
       "      <td>-0.231195</td>\n",
       "      <td>-0.084708</td>\n",
       "      <td>-0.524540</td>\n",
       "      <td>0.046869</td>\n",
       "      <td>-0.399282</td>\n",
       "      <td>-0.776195</td>\n",
       "      <td>-0.071598</td>\n",
       "    </tr>\n",
       "    <tr>\n",
       "      <th>United States</th>\n",
       "      <td>0.100471</td>\n",
       "      <td>-0.302644</td>\n",
       "      <td>-0.200694</td>\n",
       "      <td>-0.145361</td>\n",
       "      <td>-2.263234</td>\n",
       "      <td>-0.326915</td>\n",
       "      <td>-0.426955</td>\n",
       "      <td>-0.341894</td>\n",
       "      <td>0.200145</td>\n",
       "      <td>-2.501050</td>\n",
       "      <td>-0.131609</td>\n",
       "      <td>-1.064983</td>\n",
       "      <td>0.135465</td>\n",
       "      <td>0.018590</td>\n",
       "      <td>0.418189</td>\n",
       "      <td>0.297623</td>\n",
       "      <td>0.297606</td>\n",
       "      <td>-0.009941</td>\n",
       "      <td>-0.317677</td>\n",
       "      <td>0.378974</td>\n",
       "    </tr>\n",
       "    <tr>\n",
       "      <th>Vietnam</th>\n",
       "      <td>-0.406467</td>\n",
       "      <td>-0.636645</td>\n",
       "      <td>-0.600612</td>\n",
       "      <td>-1.061598</td>\n",
       "      <td>-2.815091</td>\n",
       "      <td>-0.802071</td>\n",
       "      <td>-0.335309</td>\n",
       "      <td>-1.211292</td>\n",
       "      <td>-0.650805</td>\n",
       "      <td>NaN</td>\n",
       "      <td>-0.792648</td>\n",
       "      <td>-2.081141</td>\n",
       "      <td>0.150855</td>\n",
       "      <td>NaN</td>\n",
       "      <td>-0.092217</td>\n",
       "      <td>-0.164613</td>\n",
       "      <td>-0.406773</td>\n",
       "      <td>0.158451</td>\n",
       "      <td>-0.484638</td>\n",
       "      <td>0.269282</td>\n",
       "    </tr>\n",
       "    <tr>\n",
       "      <th>Wales</th>\n",
       "      <td>-0.263247</td>\n",
       "      <td>-0.062514</td>\n",
       "      <td>-0.375377</td>\n",
       "      <td>-0.095891</td>\n",
       "      <td>NaN</td>\n",
       "      <td>-0.053091</td>\n",
       "      <td>-0.289550</td>\n",
       "      <td>-0.212436</td>\n",
       "      <td>0.085117</td>\n",
       "      <td>NaN</td>\n",
       "      <td>-0.358470</td>\n",
       "      <td>-0.760400</td>\n",
       "      <td>-0.002945</td>\n",
       "      <td>0.114868</td>\n",
       "      <td>-0.082269</td>\n",
       "      <td>-0.323854</td>\n",
       "      <td>-0.081257</td>\n",
       "      <td>-0.015045</td>\n",
       "      <td>-0.296245</td>\n",
       "      <td>0.189786</td>\n",
       "    </tr>\n",
       "  </tbody>\n",
       "</table>\n",
       "<p>61 rows × 20 columns</p>\n",
       "</div>"
      ],
      "text/plain": [
       "macro_style           Ale  Amber Ale      Bock  Brown/Dark Ale  Cocktails  \\\n",
       "country_brewery                                                             \n",
       "Argentina       -0.749725  -0.915617 -0.300116       -0.683294  -2.273014   \n",
       "Australia       -0.227078  -0.330493 -0.046049       -0.284360  -1.070205   \n",
       "Austria         -0.128614  -0.342642  0.042743       -0.280577   0.251225   \n",
       "Belarus         -1.676044  -0.494246 -1.180841       -0.778011        NaN   \n",
       "Belgium         -0.095466  -0.347591 -0.312706        0.205762  -0.174295   \n",
       "...                   ...        ...       ...             ...        ...   \n",
       "Thailand        -0.259910  -0.182931 -0.294931       -0.302581  -2.519699   \n",
       "Ukraine         -0.971010  -0.515840 -0.805911       -0.564450  -2.546517   \n",
       "United States    0.100471  -0.302644 -0.200694       -0.145361  -2.263234   \n",
       "Vietnam         -0.406467  -0.636645 -0.600612       -1.061598  -2.815091   \n",
       "Wales           -0.263247  -0.062514 -0.375377       -0.095891        NaN   \n",
       "\n",
       "macro_style      Dark Lager  Herbs/Vegetables  Hybrid Beer       IPA  \\\n",
       "country_brewery                                                        \n",
       "Argentina         -0.774077         -0.900112    -0.944117 -0.467432   \n",
       "Australia         -0.320086         -0.669589    -0.580065  0.149342   \n",
       "Austria           -0.721886         -0.562477    -0.365769  0.162718   \n",
       "Belarus           -1.002582         -1.503586    -1.264771 -0.194353   \n",
       "Belgium           -0.418066         -0.660245     0.161468  0.219899   \n",
       "...                     ...               ...          ...       ...   \n",
       "Thailand          -0.831981         -0.975507    -0.261459 -0.184866   \n",
       "Ukraine           -0.925239         -0.911032    -0.565189 -0.189196   \n",
       "United States     -0.326915         -0.426955    -0.341894  0.200145   \n",
       "Vietnam           -0.802071         -0.335309    -1.211292 -0.650805   \n",
       "Wales             -0.053091         -0.289550    -0.212436  0.085117   \n",
       "\n",
       "macro_style      Low Alcohol  Pale Ale  Pilsner & Pale Lager    Porter  \\\n",
       "country_brewery                                                          \n",
       "Argentina          -2.645912 -0.853580             -1.955552 -0.568582   \n",
       "Australia          -2.020448 -0.558433             -1.690852 -0.028254   \n",
       "Austria            -2.172654 -0.125734             -0.979921 -0.037206   \n",
       "Belarus            -1.735120 -0.393074             -1.872696 -0.736962   \n",
       "Belgium            -1.916519  0.072146             -1.377546  0.202760   \n",
       "...                      ...       ...                   ...       ...   \n",
       "Thailand                 NaN -0.391067             -1.883727 -0.023339   \n",
       "Ukraine            -1.987031 -0.558202             -1.739017 -0.315926   \n",
       "United States      -2.501050 -0.131609             -1.064983  0.135465   \n",
       "Vietnam                  NaN -0.792648             -2.081141  0.150855   \n",
       "Wales                    NaN -0.358470             -0.760400 -0.002945   \n",
       "\n",
       "macro_style        Smoked     Stout  Strong Ale  Strong Brown/Dark Ale  \\\n",
       "country_brewery                                                          \n",
       "Argentina       -0.266899 -0.345592   -0.631570              -0.470246   \n",
       "Australia       -0.011624  0.125820    0.062755               0.408501   \n",
       "Austria          0.056737  0.097649   -0.030606               0.365782   \n",
       "Belarus         -1.616323 -0.283914         NaN               0.435449   \n",
       "Belgium         -0.139086  0.387364    0.395673               0.627048   \n",
       "...                   ...       ...         ...                    ...   \n",
       "Thailand         0.168531 -0.019783   -0.128906               0.495813   \n",
       "Ukraine         -0.231195 -0.084708   -0.524540               0.046869   \n",
       "United States    0.018590  0.418189    0.297623               0.297606   \n",
       "Vietnam               NaN -0.092217   -0.164613              -0.406773   \n",
       "Wales            0.114868 -0.082269   -0.323854              -0.081257   \n",
       "\n",
       "macro_style      Strong Pale Ale  Wheat Beer  Wild/Sour Beer  \n",
       "country_brewery                                               \n",
       "Argentina              -0.596022   -0.858497       -0.657191  \n",
       "Australia              -0.007759   -0.626472        0.022519  \n",
       "Austria                -0.150043   -0.281544       -0.076780  \n",
       "Belarus                      NaN   -0.768916       -0.695496  \n",
       "Belgium                 0.241457   -0.214066        0.465457  \n",
       "...                          ...         ...             ...  \n",
       "Thailand                0.327132   -0.555564             NaN  \n",
       "Ukraine                -0.399282   -0.776195       -0.071598  \n",
       "United States          -0.009941   -0.317677        0.378974  \n",
       "Vietnam                 0.158451   -0.484638        0.269282  \n",
       "Wales                  -0.015045   -0.296245        0.189786  \n",
       "\n",
       "[61 rows x 20 columns]"
      ]
     },
     "execution_count": 33,
     "metadata": {},
     "output_type": "execute_result"
    }
   ],
   "source": [
    "gigi = pd.crosstab(weighted_scores['country_brewery'], weighted_scores['macro_style'], values=weighted_scores['final_score'], aggfunc='mean')\n",
    "gigi"
   ]
  },
  {
   "cell_type": "code",
   "execution_count": 34,
   "metadata": {},
   "outputs": [
    {
     "data": {
      "text/html": [
       "<div>\n",
       "<style scoped>\n",
       "    .dataframe tbody tr th:only-of-type {\n",
       "        vertical-align: middle;\n",
       "    }\n",
       "\n",
       "    .dataframe tbody tr th {\n",
       "        vertical-align: top;\n",
       "    }\n",
       "\n",
       "    .dataframe thead th {\n",
       "        text-align: right;\n",
       "    }\n",
       "</style>\n",
       "<table border=\"1\" class=\"dataframe\">\n",
       "  <thead>\n",
       "    <tr style=\"text-align: right;\">\n",
       "      <th></th>\n",
       "      <th>country_brewery</th>\n",
       "      <th>top_1</th>\n",
       "    </tr>\n",
       "  </thead>\n",
       "  <tbody>\n",
       "    <tr>\n",
       "      <th>0</th>\n",
       "      <td>Argentina</td>\n",
       "      <td>Smoked</td>\n",
       "    </tr>\n",
       "    <tr>\n",
       "      <th>1</th>\n",
       "      <td>Australia</td>\n",
       "      <td>Strong Brown/Dark Ale</td>\n",
       "    </tr>\n",
       "    <tr>\n",
       "      <th>2</th>\n",
       "      <td>Austria</td>\n",
       "      <td>Strong Brown/Dark Ale</td>\n",
       "    </tr>\n",
       "    <tr>\n",
       "      <th>3</th>\n",
       "      <td>Belarus</td>\n",
       "      <td>Strong Brown/Dark Ale</td>\n",
       "    </tr>\n",
       "    <tr>\n",
       "      <th>4</th>\n",
       "      <td>Belgium</td>\n",
       "      <td>Strong Brown/Dark Ale</td>\n",
       "    </tr>\n",
       "    <tr>\n",
       "      <th>...</th>\n",
       "      <td>...</td>\n",
       "      <td>...</td>\n",
       "    </tr>\n",
       "    <tr>\n",
       "      <th>56</th>\n",
       "      <td>Thailand</td>\n",
       "      <td>Strong Brown/Dark Ale</td>\n",
       "    </tr>\n",
       "    <tr>\n",
       "      <th>57</th>\n",
       "      <td>Ukraine</td>\n",
       "      <td>Strong Brown/Dark Ale</td>\n",
       "    </tr>\n",
       "    <tr>\n",
       "      <th>58</th>\n",
       "      <td>United States</td>\n",
       "      <td>Stout</td>\n",
       "    </tr>\n",
       "    <tr>\n",
       "      <th>59</th>\n",
       "      <td>Vietnam</td>\n",
       "      <td>Wild/Sour Beer</td>\n",
       "    </tr>\n",
       "    <tr>\n",
       "      <th>60</th>\n",
       "      <td>Wales</td>\n",
       "      <td>Wild/Sour Beer</td>\n",
       "    </tr>\n",
       "  </tbody>\n",
       "</table>\n",
       "<p>61 rows × 2 columns</p>\n",
       "</div>"
      ],
      "text/plain": [
       "   country_brewery                  top_1\n",
       "0        Argentina                 Smoked\n",
       "1        Australia  Strong Brown/Dark Ale\n",
       "2          Austria  Strong Brown/Dark Ale\n",
       "3          Belarus  Strong Brown/Dark Ale\n",
       "4          Belgium  Strong Brown/Dark Ale\n",
       "..             ...                    ...\n",
       "56        Thailand  Strong Brown/Dark Ale\n",
       "57         Ukraine  Strong Brown/Dark Ale\n",
       "58   United States                  Stout\n",
       "59         Vietnam         Wild/Sour Beer\n",
       "60           Wales         Wild/Sour Beer\n",
       "\n",
       "[61 rows x 2 columns]"
      ]
     },
     "execution_count": 34,
     "metadata": {},
     "output_type": "execute_result"
    }
   ],
   "source": [
    "top_beers = pd.DataFrame(gigi.idxmax(axis = 1), columns=['top_1'])\n",
    "top_beers = top_beers.reset_index()\n",
    "top_beers = top_beers.rename(columns = {'index':'country_brewery'})\n",
    "top_beers"
   ]
  },
  {
   "cell_type": "code",
   "execution_count": 55,
   "metadata": {},
   "outputs": [
    {
     "data": {
      "text/html": [
       "<div>\n",
       "<style scoped>\n",
       "    .dataframe tbody tr th:only-of-type {\n",
       "        vertical-align: middle;\n",
       "    }\n",
       "\n",
       "    .dataframe tbody tr th {\n",
       "        vertical-align: top;\n",
       "    }\n",
       "\n",
       "    .dataframe thead th {\n",
       "        text-align: right;\n",
       "    }\n",
       "</style>\n",
       "<table border=\"1\" class=\"dataframe\">\n",
       "  <thead>\n",
       "    <tr style=\"text-align: right;\">\n",
       "      <th></th>\n",
       "      <th>country_brewery</th>\n",
       "      <th>top_1</th>\n",
       "      <th>iso_alpha</th>\n",
       "    </tr>\n",
       "  </thead>\n",
       "  <tbody>\n",
       "    <tr>\n",
       "      <th>0</th>\n",
       "      <td>Argentina</td>\n",
       "      <td>Smoked</td>\n",
       "      <td>ARG</td>\n",
       "    </tr>\n",
       "    <tr>\n",
       "      <th>1</th>\n",
       "      <td>Australia</td>\n",
       "      <td>Strong Brown/Dark Ale</td>\n",
       "      <td>AUS</td>\n",
       "    </tr>\n",
       "    <tr>\n",
       "      <th>2</th>\n",
       "      <td>Austria</td>\n",
       "      <td>Strong Brown/Dark Ale</td>\n",
       "      <td>AUT</td>\n",
       "    </tr>\n",
       "    <tr>\n",
       "      <th>3</th>\n",
       "      <td>Belarus</td>\n",
       "      <td>Strong Brown/Dark Ale</td>\n",
       "      <td>BLR</td>\n",
       "    </tr>\n",
       "    <tr>\n",
       "      <th>4</th>\n",
       "      <td>Belgium</td>\n",
       "      <td>Strong Brown/Dark Ale</td>\n",
       "      <td>BEL</td>\n",
       "    </tr>\n",
       "    <tr>\n",
       "      <th>5</th>\n",
       "      <td>Brazil</td>\n",
       "      <td>Strong Ale</td>\n",
       "      <td>BRA</td>\n",
       "    </tr>\n",
       "    <tr>\n",
       "      <th>6</th>\n",
       "      <td>Bulgaria</td>\n",
       "      <td>Strong Ale</td>\n",
       "      <td>BGR</td>\n",
       "    </tr>\n",
       "    <tr>\n",
       "      <th>7</th>\n",
       "      <td>Canada</td>\n",
       "      <td>Strong Pale Ale</td>\n",
       "      <td>CAN</td>\n",
       "    </tr>\n",
       "    <tr>\n",
       "      <th>8</th>\n",
       "      <td>Chile</td>\n",
       "      <td>Smoked</td>\n",
       "      <td>CHL</td>\n",
       "    </tr>\n",
       "    <tr>\n",
       "      <th>9</th>\n",
       "      <td>China</td>\n",
       "      <td>Strong Brown/Dark Ale</td>\n",
       "      <td>CHN</td>\n",
       "    </tr>\n",
       "    <tr>\n",
       "      <th>10</th>\n",
       "      <td>Colombia</td>\n",
       "      <td>Strong Pale Ale</td>\n",
       "      <td>COL</td>\n",
       "    </tr>\n",
       "    <tr>\n",
       "      <th>11</th>\n",
       "      <td>Costa Rica</td>\n",
       "      <td>Stout</td>\n",
       "      <td>CRI</td>\n",
       "    </tr>\n",
       "    <tr>\n",
       "      <th>12</th>\n",
       "      <td>Croatia</td>\n",
       "      <td>Strong Brown/Dark Ale</td>\n",
       "      <td>HRV</td>\n",
       "    </tr>\n",
       "    <tr>\n",
       "      <th>13</th>\n",
       "      <td>Denmark</td>\n",
       "      <td>Porter</td>\n",
       "      <td>DNK</td>\n",
       "    </tr>\n",
       "    <tr>\n",
       "      <th>14</th>\n",
       "      <td>Ecuador</td>\n",
       "      <td>Wild/Sour Beer</td>\n",
       "      <td>ECU</td>\n",
       "    </tr>\n",
       "    <tr>\n",
       "      <th>15</th>\n",
       "      <td>Estonia</td>\n",
       "      <td>Strong Brown/Dark Ale</td>\n",
       "      <td>EST</td>\n",
       "    </tr>\n",
       "    <tr>\n",
       "      <th>16</th>\n",
       "      <td>Finland</td>\n",
       "      <td>Porter</td>\n",
       "      <td>FIN</td>\n",
       "    </tr>\n",
       "    <tr>\n",
       "      <th>17</th>\n",
       "      <td>France</td>\n",
       "      <td>Strong Brown/Dark Ale</td>\n",
       "      <td>FRA</td>\n",
       "    </tr>\n",
       "    <tr>\n",
       "      <th>18</th>\n",
       "      <td>Georgia</td>\n",
       "      <td>Stout</td>\n",
       "      <td>GEO</td>\n",
       "    </tr>\n",
       "    <tr>\n",
       "      <th>19</th>\n",
       "      <td>Germany</td>\n",
       "      <td>Smoked</td>\n",
       "      <td>DEU</td>\n",
       "    </tr>\n",
       "    <tr>\n",
       "      <th>20</th>\n",
       "      <td>Greece</td>\n",
       "      <td>Stout</td>\n",
       "      <td>GRC</td>\n",
       "    </tr>\n",
       "    <tr>\n",
       "      <th>21</th>\n",
       "      <td>Hong Kong</td>\n",
       "      <td>Strong Brown/Dark Ale</td>\n",
       "      <td>HKG</td>\n",
       "    </tr>\n",
       "    <tr>\n",
       "      <th>22</th>\n",
       "      <td>Hungary</td>\n",
       "      <td>Strong Brown/Dark Ale</td>\n",
       "      <td>HUN</td>\n",
       "    </tr>\n",
       "    <tr>\n",
       "      <th>23</th>\n",
       "      <td>India</td>\n",
       "      <td>Strong Brown/Dark Ale</td>\n",
       "      <td>IND</td>\n",
       "    </tr>\n",
       "    <tr>\n",
       "      <th>24</th>\n",
       "      <td>Ireland</td>\n",
       "      <td>Smoked</td>\n",
       "      <td>IRL</td>\n",
       "    </tr>\n",
       "    <tr>\n",
       "      <th>25</th>\n",
       "      <td>Israel</td>\n",
       "      <td>Strong Ale</td>\n",
       "      <td>ISR</td>\n",
       "    </tr>\n",
       "    <tr>\n",
       "      <th>26</th>\n",
       "      <td>Italy</td>\n",
       "      <td>Strong Brown/Dark Ale</td>\n",
       "      <td>ITA</td>\n",
       "    </tr>\n",
       "    <tr>\n",
       "      <th>27</th>\n",
       "      <td>Japan</td>\n",
       "      <td>Strong Ale</td>\n",
       "      <td>JPN</td>\n",
       "    </tr>\n",
       "    <tr>\n",
       "      <th>28</th>\n",
       "      <td>Kazakhstan</td>\n",
       "      <td>Porter</td>\n",
       "      <td>KAZ</td>\n",
       "    </tr>\n",
       "    <tr>\n",
       "      <th>29</th>\n",
       "      <td>Latvia</td>\n",
       "      <td>Strong Brown/Dark Ale</td>\n",
       "      <td>LVA</td>\n",
       "    </tr>\n",
       "    <tr>\n",
       "      <th>30</th>\n",
       "      <td>Lithuania</td>\n",
       "      <td>Smoked</td>\n",
       "      <td>LTU</td>\n",
       "    </tr>\n",
       "    <tr>\n",
       "      <th>31</th>\n",
       "      <td>Mexico</td>\n",
       "      <td>Wild/Sour Beer</td>\n",
       "      <td>MEX</td>\n",
       "    </tr>\n",
       "    <tr>\n",
       "      <th>32</th>\n",
       "      <td>Netherlands</td>\n",
       "      <td>Strong Brown/Dark Ale</td>\n",
       "      <td>NLD</td>\n",
       "    </tr>\n",
       "    <tr>\n",
       "      <th>33</th>\n",
       "      <td>New Zealand</td>\n",
       "      <td>Strong Brown/Dark Ale</td>\n",
       "      <td>NZL</td>\n",
       "    </tr>\n",
       "    <tr>\n",
       "      <th>34</th>\n",
       "      <td>Norway</td>\n",
       "      <td>Stout</td>\n",
       "      <td>NOR</td>\n",
       "    </tr>\n",
       "    <tr>\n",
       "      <th>35</th>\n",
       "      <td>Peru</td>\n",
       "      <td>Bock</td>\n",
       "      <td>PER</td>\n",
       "    </tr>\n",
       "    <tr>\n",
       "      <th>36</th>\n",
       "      <td>Philippines</td>\n",
       "      <td>Wild/Sour Beer</td>\n",
       "      <td>PHL</td>\n",
       "    </tr>\n",
       "    <tr>\n",
       "      <th>37</th>\n",
       "      <td>Poland</td>\n",
       "      <td>Strong Brown/Dark Ale</td>\n",
       "      <td>POL</td>\n",
       "    </tr>\n",
       "    <tr>\n",
       "      <th>38</th>\n",
       "      <td>Portugal</td>\n",
       "      <td>Porter</td>\n",
       "      <td>PRT</td>\n",
       "    </tr>\n",
       "    <tr>\n",
       "      <th>39</th>\n",
       "      <td>Romania</td>\n",
       "      <td>Stout</td>\n",
       "      <td>ROU</td>\n",
       "    </tr>\n",
       "    <tr>\n",
       "      <th>40</th>\n",
       "      <td>Serbia</td>\n",
       "      <td>IPA</td>\n",
       "      <td>SRB</td>\n",
       "    </tr>\n",
       "    <tr>\n",
       "      <th>41</th>\n",
       "      <td>Singapore</td>\n",
       "      <td>Strong Pale Ale</td>\n",
       "      <td>SGP</td>\n",
       "    </tr>\n",
       "    <tr>\n",
       "      <th>42</th>\n",
       "      <td>Slovenia</td>\n",
       "      <td>Wild/Sour Beer</td>\n",
       "      <td>SVN</td>\n",
       "    </tr>\n",
       "    <tr>\n",
       "      <th>43</th>\n",
       "      <td>South Africa</td>\n",
       "      <td>Smoked</td>\n",
       "      <td>ZAF</td>\n",
       "    </tr>\n",
       "    <tr>\n",
       "      <th>44</th>\n",
       "      <td>Spain</td>\n",
       "      <td>Stout</td>\n",
       "      <td>ESP</td>\n",
       "    </tr>\n",
       "    <tr>\n",
       "      <th>45</th>\n",
       "      <td>Sweden</td>\n",
       "      <td>Stout</td>\n",
       "      <td>SWE</td>\n",
       "    </tr>\n",
       "    <tr>\n",
       "      <th>46</th>\n",
       "      <td>Switzerland</td>\n",
       "      <td>Wild/Sour Beer</td>\n",
       "      <td>CHE</td>\n",
       "    </tr>\n",
       "    <tr>\n",
       "      <th>47</th>\n",
       "      <td>Thailand</td>\n",
       "      <td>Strong Brown/Dark Ale</td>\n",
       "      <td>THA</td>\n",
       "    </tr>\n",
       "    <tr>\n",
       "      <th>48</th>\n",
       "      <td>Ukraine</td>\n",
       "      <td>Strong Brown/Dark Ale</td>\n",
       "      <td>UKR</td>\n",
       "    </tr>\n",
       "  </tbody>\n",
       "</table>\n",
       "</div>"
      ],
      "text/plain": [
       "   country_brewery                  top_1 iso_alpha\n",
       "0        Argentina                 Smoked       ARG\n",
       "1        Australia  Strong Brown/Dark Ale       AUS\n",
       "2          Austria  Strong Brown/Dark Ale       AUT\n",
       "3          Belarus  Strong Brown/Dark Ale       BLR\n",
       "4          Belgium  Strong Brown/Dark Ale       BEL\n",
       "5           Brazil             Strong Ale       BRA\n",
       "6         Bulgaria             Strong Ale       BGR\n",
       "7           Canada        Strong Pale Ale       CAN\n",
       "8            Chile                 Smoked       CHL\n",
       "9            China  Strong Brown/Dark Ale       CHN\n",
       "10        Colombia        Strong Pale Ale       COL\n",
       "11      Costa Rica                  Stout       CRI\n",
       "12         Croatia  Strong Brown/Dark Ale       HRV\n",
       "13         Denmark                 Porter       DNK\n",
       "14         Ecuador         Wild/Sour Beer       ECU\n",
       "15         Estonia  Strong Brown/Dark Ale       EST\n",
       "16         Finland                 Porter       FIN\n",
       "17          France  Strong Brown/Dark Ale       FRA\n",
       "18         Georgia                  Stout       GEO\n",
       "19         Germany                 Smoked       DEU\n",
       "20          Greece                  Stout       GRC\n",
       "21       Hong Kong  Strong Brown/Dark Ale       HKG\n",
       "22         Hungary  Strong Brown/Dark Ale       HUN\n",
       "23           India  Strong Brown/Dark Ale       IND\n",
       "24         Ireland                 Smoked       IRL\n",
       "25          Israel             Strong Ale       ISR\n",
       "26           Italy  Strong Brown/Dark Ale       ITA\n",
       "27           Japan             Strong Ale       JPN\n",
       "28      Kazakhstan                 Porter       KAZ\n",
       "29          Latvia  Strong Brown/Dark Ale       LVA\n",
       "30       Lithuania                 Smoked       LTU\n",
       "31          Mexico         Wild/Sour Beer       MEX\n",
       "32     Netherlands  Strong Brown/Dark Ale       NLD\n",
       "33     New Zealand  Strong Brown/Dark Ale       NZL\n",
       "34          Norway                  Stout       NOR\n",
       "35            Peru                   Bock       PER\n",
       "36     Philippines         Wild/Sour Beer       PHL\n",
       "37          Poland  Strong Brown/Dark Ale       POL\n",
       "38        Portugal                 Porter       PRT\n",
       "39         Romania                  Stout       ROU\n",
       "40          Serbia                    IPA       SRB\n",
       "41       Singapore        Strong Pale Ale       SGP\n",
       "42        Slovenia         Wild/Sour Beer       SVN\n",
       "43    South Africa                 Smoked       ZAF\n",
       "44           Spain                  Stout       ESP\n",
       "45          Sweden                  Stout       SWE\n",
       "46     Switzerland         Wild/Sour Beer       CHE\n",
       "47        Thailand  Strong Brown/Dark Ale       THA\n",
       "48         Ukraine  Strong Brown/Dark Ale       UKR"
      ]
     },
     "execution_count": 55,
     "metadata": {},
     "output_type": "execute_result"
    }
   ],
   "source": [
    "iso_alpha = pd.read_csv('iso_alpha_countries.csv')\n",
    "iso_alpha = iso_alpha[['name', 'alpha-3']]\n",
    "iso_alpha = iso_alpha.rename(columns = {'name':'country_brewery', 'alpha-3':'iso_alpha'})\n",
    "\n",
    "merged = top_beers.merge(iso_alpha, on='country_brewery')\n",
    "merged"
   ]
  },
  {
   "cell_type": "code",
   "execution_count": 56,
   "metadata": {},
   "outputs": [
    {
     "data": {
      "text/html": [
       "<div>\n",
       "<style scoped>\n",
       "    .dataframe tbody tr th:only-of-type {\n",
       "        vertical-align: middle;\n",
       "    }\n",
       "\n",
       "    .dataframe tbody tr th {\n",
       "        vertical-align: top;\n",
       "    }\n",
       "\n",
       "    .dataframe thead th {\n",
       "        text-align: right;\n",
       "    }\n",
       "</style>\n",
       "<table border=\"1\" class=\"dataframe\">\n",
       "  <thead>\n",
       "    <tr style=\"text-align: right;\">\n",
       "      <th></th>\n",
       "      <th>country_brewery</th>\n",
       "      <th>top_1</th>\n",
       "      <th>iso_alpha</th>\n",
       "    </tr>\n",
       "  </thead>\n",
       "  <tbody>\n",
       "    <tr>\n",
       "      <th>0</th>\n",
       "      <td>Argentina</td>\n",
       "      <td>Smoked</td>\n",
       "      <td>ARG</td>\n",
       "    </tr>\n",
       "    <tr>\n",
       "      <th>1</th>\n",
       "      <td>Australia</td>\n",
       "      <td>Strong Brown/Dark Ale</td>\n",
       "      <td>AUS</td>\n",
       "    </tr>\n",
       "    <tr>\n",
       "      <th>2</th>\n",
       "      <td>Austria</td>\n",
       "      <td>Strong Brown/Dark Ale</td>\n",
       "      <td>AUT</td>\n",
       "    </tr>\n",
       "    <tr>\n",
       "      <th>3</th>\n",
       "      <td>Belarus</td>\n",
       "      <td>Strong Brown/Dark Ale</td>\n",
       "      <td>BLR</td>\n",
       "    </tr>\n",
       "    <tr>\n",
       "      <th>4</th>\n",
       "      <td>Belgium</td>\n",
       "      <td>Strong Brown/Dark Ale</td>\n",
       "      <td>BEL</td>\n",
       "    </tr>\n",
       "    <tr>\n",
       "      <th>...</th>\n",
       "      <td>...</td>\n",
       "      <td>...</td>\n",
       "      <td>...</td>\n",
       "    </tr>\n",
       "    <tr>\n",
       "      <th>32</th>\n",
       "      <td>Taiwan</td>\n",
       "      <td>Pilsner &amp; Pale Lager</td>\n",
       "      <td>TWN</td>\n",
       "    </tr>\n",
       "    <tr>\n",
       "      <th>33</th>\n",
       "      <td>Tanzania</td>\n",
       "      <td>Pilsner &amp; Pale Lager</td>\n",
       "      <td>TZA</td>\n",
       "    </tr>\n",
       "    <tr>\n",
       "      <th>35</th>\n",
       "      <td>Vatican City</td>\n",
       "      <td>Pale Ale</td>\n",
       "      <td>VAT</td>\n",
       "    </tr>\n",
       "    <tr>\n",
       "      <th>36</th>\n",
       "      <td>Venezuela</td>\n",
       "      <td>Pilsner &amp; Pale Lager</td>\n",
       "      <td>VEN</td>\n",
       "    </tr>\n",
       "    <tr>\n",
       "      <th>37</th>\n",
       "      <td>Vietnam</td>\n",
       "      <td>Pilsner &amp; Pale Lager</td>\n",
       "      <td>VNM</td>\n",
       "    </tr>\n",
       "  </tbody>\n",
       "</table>\n",
       "<p>81 rows × 3 columns</p>\n",
       "</div>"
      ],
      "text/plain": [
       "   country_brewery                  top_1 iso_alpha\n",
       "0        Argentina                 Smoked       ARG\n",
       "1        Australia  Strong Brown/Dark Ale       AUS\n",
       "2          Austria  Strong Brown/Dark Ale       AUT\n",
       "3          Belarus  Strong Brown/Dark Ale       BLR\n",
       "4          Belgium  Strong Brown/Dark Ale       BEL\n",
       "..             ...                    ...       ...\n",
       "32          Taiwan   Pilsner & Pale Lager       TWN\n",
       "33        Tanzania   Pilsner & Pale Lager       TZA\n",
       "35    Vatican City               Pale Ale       VAT\n",
       "36       Venezuela   Pilsner & Pale Lager       VEN\n",
       "37         Vietnam   Pilsner & Pale Lager       VNM\n",
       "\n",
       "[81 rows x 3 columns]"
      ]
     },
     "execution_count": 56,
     "metadata": {},
     "output_type": "execute_result"
    }
   ],
   "source": [
    "missing_iso = pd.read_csv('missing_iso_alpha.csv', sep=';')\n",
    "merged =pd.concat([merged, missing_iso])\n",
    "merged.dropna()"
   ]
  },
  {
   "cell_type": "code",
   "execution_count": 62,
   "metadata": {},
   "outputs": [
    {
     "data": {
      "application/vnd.plotly.v1+json": {
       "config": {
        "plotlyServerURL": "https://plot.ly"
       },
       "data": [
        {
         "colorscale": [
          [
           0,
           "#636efa"
          ],
          [
           1,
           "#636efa"
          ]
         ],
         "geo": "geo",
         "hovertemplate": "<b>%{hovertext}</b><br><br>top_1=Smoked<br>iso_alpha=%{location}<extra></extra>",
         "hovertext": [
          "Argentina",
          "Chile",
          "Germany",
          "Ireland",
          "Lithuania",
          "South Africa"
         ],
         "locations": [
          "ARG",
          "CHL",
          "DEU",
          "IRL",
          "LTU",
          "ZAF"
         ],
         "name": "Smoked",
         "showlegend": true,
         "showscale": false,
         "type": "choropleth",
         "z": [
          1,
          1,
          1,
          1,
          1,
          1
         ]
        },
        {
         "colorscale": [
          [
           0,
           "#EF553B"
          ],
          [
           1,
           "#EF553B"
          ]
         ],
         "geo": "geo",
         "hovertemplate": "<b>%{hovertext}</b><br><br>top_1=Strong Brown/Dark Ale<br>iso_alpha=%{location}<extra></extra>",
         "hovertext": [
          "Australia",
          "Austria",
          "Belarus",
          "Belgium",
          "China",
          "Croatia",
          "Estonia",
          "France",
          "Hong Kong",
          "Hungary",
          "India",
          "Italy",
          "Latvia",
          "Netherlands",
          "New Zealand",
          "Poland",
          "Thailand",
          "Ukraine",
          "Tibet"
         ],
         "locations": [
          "AUS",
          "AUT",
          "BLR",
          "BEL",
          "CHN",
          "HRV",
          "EST",
          "FRA",
          "HKG",
          "HUN",
          "IND",
          "ITA",
          "LVA",
          "NLD",
          "NZL",
          "POL",
          "THA",
          "UKR",
          null
         ],
         "name": "Strong Brown/Dark Ale",
         "showlegend": true,
         "showscale": false,
         "type": "choropleth",
         "z": [
          1,
          1,
          1,
          1,
          1,
          1,
          1,
          1,
          1,
          1,
          1,
          1,
          1,
          1,
          1,
          1,
          1,
          1,
          1
         ]
        },
        {
         "colorscale": [
          [
           0,
           "#00cc96"
          ],
          [
           1,
           "#00cc96"
          ]
         ],
         "geo": "geo",
         "hovertemplate": "<b>%{hovertext}</b><br><br>top_1=Strong Ale<br>iso_alpha=%{location}<extra></extra>",
         "hovertext": [
          "Brazil",
          "Bulgaria",
          "Israel",
          "Japan",
          "Micronesia",
          "Saint Vincent and The Grenadines"
         ],
         "locations": [
          "BRA",
          "BGR",
          "ISR",
          "JPN",
          "FSM",
          "VCT"
         ],
         "name": "Strong Ale",
         "showlegend": true,
         "showscale": false,
         "type": "choropleth",
         "z": [
          1,
          1,
          1,
          1,
          1,
          1
         ]
        },
        {
         "colorscale": [
          [
           0,
           "#ab63fa"
          ],
          [
           1,
           "#ab63fa"
          ]
         ],
         "geo": "geo",
         "hovertemplate": "<b>%{hovertext}</b><br><br>top_1=Strong Pale Ale<br>iso_alpha=%{location}<extra></extra>",
         "hovertext": [
          "Canada",
          "Colombia",
          "Singapore",
          "South Georgia and South Sandwich Islands"
         ],
         "locations": [
          "CAN",
          "COL",
          "SGP",
          "SGS"
         ],
         "name": "Strong Pale Ale",
         "showlegend": true,
         "showscale": false,
         "type": "choropleth",
         "z": [
          1,
          1,
          1,
          1
         ]
        },
        {
         "colorscale": [
          [
           0,
           "#FFA15A"
          ],
          [
           1,
           "#FFA15A"
          ]
         ],
         "geo": "geo",
         "hovertemplate": "<b>%{hovertext}</b><br><br>top_1=Stout<br>iso_alpha=%{location}<extra></extra>",
         "hovertext": [
          "Costa Rica",
          "Georgia",
          "Greece",
          "Norway",
          "Romania",
          "Spain",
          "Sweden",
          "Svalbard and Jan Mayen Islands"
         ],
         "locations": [
          "CRI",
          "GEO",
          "GRC",
          "NOR",
          "ROU",
          "ESP",
          "SWE",
          "SJM"
         ],
         "name": "Stout",
         "showlegend": true,
         "showscale": false,
         "type": "choropleth",
         "z": [
          1,
          1,
          1,
          1,
          1,
          1,
          1,
          1
         ]
        },
        {
         "colorscale": [
          [
           0,
           "#19d3f3"
          ],
          [
           1,
           "#19d3f3"
          ]
         ],
         "geo": "geo",
         "hovertemplate": "<b>%{hovertext}</b><br><br>top_1=Porter<br>iso_alpha=%{location}<extra></extra>",
         "hovertext": [
          "Denmark",
          "Finland",
          "Kazakhstan",
          "Portugal"
         ],
         "locations": [
          "DNK",
          "FIN",
          "KAZ",
          "PRT"
         ],
         "name": "Porter",
         "showlegend": true,
         "showscale": false,
         "type": "choropleth",
         "z": [
          1,
          1,
          1,
          1
         ]
        },
        {
         "colorscale": [
          [
           0,
           "#FF6692"
          ],
          [
           1,
           "#FF6692"
          ]
         ],
         "geo": "geo",
         "hovertemplate": "<b>%{hovertext}</b><br><br>top_1=Wild/Sour Beer<br>iso_alpha=%{location}<extra></extra>",
         "hovertext": [
          "Ecuador",
          "Mexico",
          "Philippines",
          "Slovenia",
          "Switzerland",
          "Ivory Coast",
          "Malvinas"
         ],
         "locations": [
          "ECU",
          "MEX",
          "PHL",
          "SVN",
          "CHE",
          "CIV",
          "FLK"
         ],
         "name": "Wild/Sour Beer",
         "showlegend": true,
         "showscale": false,
         "type": "choropleth",
         "z": [
          1,
          1,
          1,
          1,
          1,
          1,
          1
         ]
        },
        {
         "colorscale": [
          [
           0,
           "#B6E880"
          ],
          [
           1,
           "#B6E880"
          ]
         ],
         "geo": "geo",
         "hovertemplate": "<b>%{hovertext}</b><br><br>top_1=Bock<br>iso_alpha=%{location}<extra></extra>",
         "hovertext": [
          "Peru"
         ],
         "locations": [
          "PER"
         ],
         "name": "Bock",
         "showlegend": true,
         "showscale": false,
         "type": "choropleth",
         "z": [
          1
         ]
        },
        {
         "colorscale": [
          [
           0,
           "#FF97FF"
          ],
          [
           1,
           "#FF97FF"
          ]
         ],
         "geo": "geo",
         "hovertemplate": "<b>%{hovertext}</b><br><br>top_1=IPA<br>iso_alpha=%{location}<extra></extra>",
         "hovertext": [
          "Serbia",
          "Falkland Islands",
          "Fiji Islands",
          "Heard and McDonald Islands",
          "Saint Helena"
         ],
         "locations": [
          "SRB",
          "FLK",
          "FJI",
          "HMD",
          null
         ],
         "name": "IPA",
         "showlegend": true,
         "showscale": false,
         "type": "choropleth",
         "z": [
          1,
          1,
          1,
          1,
          1
         ]
        },
        {
         "colorscale": [
          [
           0,
           "#FECB52"
          ],
          [
           1,
           "#FECB52"
          ]
         ],
         "geo": "geo",
         "hovertemplate": "<b>%{hovertext}</b><br><br>top_1=Herbs/Vegetables<br>iso_alpha=%{location}<extra></extra>",
         "hovertext": [
          "Abkhazia",
          "Sint Maarten"
         ],
         "locations": [
          null,
          "SXM"
         ],
         "name": "Herbs/Vegetables",
         "showlegend": true,
         "showscale": false,
         "type": "choropleth",
         "z": [
          1,
          1
         ]
        },
        {
         "colorscale": [
          [
           0,
           "#636efa"
          ],
          [
           1,
           "#636efa"
          ]
         ],
         "geo": "geo",
         "hovertemplate": "<b>%{hovertext}</b><br><br>top_1=Pale Ale<br>iso_alpha=%{location}<extra></extra>",
         "hovertext": [
          "Aotearoa",
          "Ascension Island",
          "Macau",
          "Vatican City"
         ],
         "locations": [
          "NZL",
          "SHN",
          "MAC",
          "VAT"
         ],
         "name": "Pale Ale",
         "showlegend": true,
         "showscale": false,
         "type": "choropleth",
         "z": [
          1,
          1,
          1,
          1
         ]
        },
        {
         "colorscale": [
          [
           0,
           "#EF553B"
          ],
          [
           1,
           "#EF553B"
          ]
         ],
         "geo": "geo",
         "hovertemplate": "<b>%{hovertext}</b><br><br>top_1=Pilsner & Pale Lager<br>iso_alpha=%{location}<extra></extra>",
         "hovertext": [
          "Bolivia",
          "Czech Republic",
          "East Timor",
          "Kosovo",
          "Laos",
          "Macedonia",
          "Moldova",
          "Nagorno-Karabakh",
          "North Korea",
          "Russia",
          "Slovak Republic",
          "South Korea",
          "Taiwan",
          "Tanzania",
          "Venezuela",
          "Vietnam"
         ],
         "locations": [
          "BOL",
          "CZE",
          "TLS",
          null,
          "LAO",
          "MKD",
          "MDA",
          null,
          "PRK",
          "RUS",
          "SVK",
          "KOR",
          "TWN",
          "TZA",
          "VEN",
          "VNM"
         ],
         "name": "Pilsner & Pale Lager",
         "showlegend": true,
         "showscale": false,
         "type": "choropleth",
         "z": [
          1,
          1,
          1,
          1,
          1,
          1,
          1,
          1,
          1,
          1,
          1,
          1,
          1,
          1,
          1,
          1
         ]
        },
        {
         "colorscale": [
          [
           0,
           "#00cc96"
          ],
          [
           1,
           "#00cc96"
          ]
         ],
         "geo": "geo",
         "hovertemplate": "<b>%{hovertext}</b><br><br>top_1=Dark Lager<br>iso_alpha=%{location}<extra></extra>",
         "hovertext": [
          "Dem Rep of Congo",
          "Palestine",
          "Syria"
         ],
         "locations": [
          "COD",
          "PSE",
          "SYR"
         ],
         "name": "Dark Lager",
         "showlegend": true,
         "showscale": false,
         "type": "choropleth",
         "z": [
          1,
          1,
          1
         ]
        },
        {
         "colorscale": [
          [
           0,
           "#ab63fa"
          ],
          [
           1,
           "#ab63fa"
          ]
         ],
         "geo": "geo",
         "hovertemplate": "<b>%{hovertext}</b><br><br>top_1=Brown/Dark Ale<br>iso_alpha=%{location}<extra></extra>",
         "hovertext": [
          "Hawaii"
         ],
         "locations": [
          null
         ],
         "name": "Brown/Dark Ale",
         "showlegend": true,
         "showscale": false,
         "type": "choropleth",
         "z": [
          1
         ]
        },
        {
         "colorscale": [
          [
           0,
           "#FFA15A"
          ],
          [
           1,
           "#FFA15A"
          ]
         ],
         "geo": "geo",
         "hovertemplate": "<b>%{hovertext}</b><br><br>top_1=Hybrid Beer<br>iso_alpha=%{location}<extra></extra>",
         "hovertext": [
          "Iran"
         ],
         "locations": [
          "IRN"
         ],
         "name": "Hybrid Beer",
         "showlegend": true,
         "showscale": false,
         "type": "choropleth",
         "z": [
          1
         ]
        }
       ],
       "layout": {
        "geo": {
         "center": {},
         "domain": {
          "x": [
           0,
           1
          ],
          "y": [
           0,
           1
          ]
         }
        },
        "legend": {
         "title": {
          "text": "top_1"
         },
         "tracegroupgap": 0
        },
        "margin": {
         "t": 60
        },
        "template": {
         "data": {
          "bar": [
           {
            "error_x": {
             "color": "#2a3f5f"
            },
            "error_y": {
             "color": "#2a3f5f"
            },
            "marker": {
             "line": {
              "color": "#E5ECF6",
              "width": 0.5
             },
             "pattern": {
              "fillmode": "overlay",
              "size": 10,
              "solidity": 0.2
             }
            },
            "type": "bar"
           }
          ],
          "barpolar": [
           {
            "marker": {
             "line": {
              "color": "#E5ECF6",
              "width": 0.5
             },
             "pattern": {
              "fillmode": "overlay",
              "size": 10,
              "solidity": 0.2
             }
            },
            "type": "barpolar"
           }
          ],
          "carpet": [
           {
            "aaxis": {
             "endlinecolor": "#2a3f5f",
             "gridcolor": "white",
             "linecolor": "white",
             "minorgridcolor": "white",
             "startlinecolor": "#2a3f5f"
            },
            "baxis": {
             "endlinecolor": "#2a3f5f",
             "gridcolor": "white",
             "linecolor": "white",
             "minorgridcolor": "white",
             "startlinecolor": "#2a3f5f"
            },
            "type": "carpet"
           }
          ],
          "choropleth": [
           {
            "colorbar": {
             "outlinewidth": 0,
             "ticks": ""
            },
            "type": "choropleth"
           }
          ],
          "contour": [
           {
            "colorbar": {
             "outlinewidth": 0,
             "ticks": ""
            },
            "colorscale": [
             [
              0,
              "#0d0887"
             ],
             [
              0.1111111111111111,
              "#46039f"
             ],
             [
              0.2222222222222222,
              "#7201a8"
             ],
             [
              0.3333333333333333,
              "#9c179e"
             ],
             [
              0.4444444444444444,
              "#bd3786"
             ],
             [
              0.5555555555555556,
              "#d8576b"
             ],
             [
              0.6666666666666666,
              "#ed7953"
             ],
             [
              0.7777777777777778,
              "#fb9f3a"
             ],
             [
              0.8888888888888888,
              "#fdca26"
             ],
             [
              1,
              "#f0f921"
             ]
            ],
            "type": "contour"
           }
          ],
          "contourcarpet": [
           {
            "colorbar": {
             "outlinewidth": 0,
             "ticks": ""
            },
            "type": "contourcarpet"
           }
          ],
          "heatmap": [
           {
            "colorbar": {
             "outlinewidth": 0,
             "ticks": ""
            },
            "colorscale": [
             [
              0,
              "#0d0887"
             ],
             [
              0.1111111111111111,
              "#46039f"
             ],
             [
              0.2222222222222222,
              "#7201a8"
             ],
             [
              0.3333333333333333,
              "#9c179e"
             ],
             [
              0.4444444444444444,
              "#bd3786"
             ],
             [
              0.5555555555555556,
              "#d8576b"
             ],
             [
              0.6666666666666666,
              "#ed7953"
             ],
             [
              0.7777777777777778,
              "#fb9f3a"
             ],
             [
              0.8888888888888888,
              "#fdca26"
             ],
             [
              1,
              "#f0f921"
             ]
            ],
            "type": "heatmap"
           }
          ],
          "heatmapgl": [
           {
            "colorbar": {
             "outlinewidth": 0,
             "ticks": ""
            },
            "colorscale": [
             [
              0,
              "#0d0887"
             ],
             [
              0.1111111111111111,
              "#46039f"
             ],
             [
              0.2222222222222222,
              "#7201a8"
             ],
             [
              0.3333333333333333,
              "#9c179e"
             ],
             [
              0.4444444444444444,
              "#bd3786"
             ],
             [
              0.5555555555555556,
              "#d8576b"
             ],
             [
              0.6666666666666666,
              "#ed7953"
             ],
             [
              0.7777777777777778,
              "#fb9f3a"
             ],
             [
              0.8888888888888888,
              "#fdca26"
             ],
             [
              1,
              "#f0f921"
             ]
            ],
            "type": "heatmapgl"
           }
          ],
          "histogram": [
           {
            "marker": {
             "pattern": {
              "fillmode": "overlay",
              "size": 10,
              "solidity": 0.2
             }
            },
            "type": "histogram"
           }
          ],
          "histogram2d": [
           {
            "colorbar": {
             "outlinewidth": 0,
             "ticks": ""
            },
            "colorscale": [
             [
              0,
              "#0d0887"
             ],
             [
              0.1111111111111111,
              "#46039f"
             ],
             [
              0.2222222222222222,
              "#7201a8"
             ],
             [
              0.3333333333333333,
              "#9c179e"
             ],
             [
              0.4444444444444444,
              "#bd3786"
             ],
             [
              0.5555555555555556,
              "#d8576b"
             ],
             [
              0.6666666666666666,
              "#ed7953"
             ],
             [
              0.7777777777777778,
              "#fb9f3a"
             ],
             [
              0.8888888888888888,
              "#fdca26"
             ],
             [
              1,
              "#f0f921"
             ]
            ],
            "type": "histogram2d"
           }
          ],
          "histogram2dcontour": [
           {
            "colorbar": {
             "outlinewidth": 0,
             "ticks": ""
            },
            "colorscale": [
             [
              0,
              "#0d0887"
             ],
             [
              0.1111111111111111,
              "#46039f"
             ],
             [
              0.2222222222222222,
              "#7201a8"
             ],
             [
              0.3333333333333333,
              "#9c179e"
             ],
             [
              0.4444444444444444,
              "#bd3786"
             ],
             [
              0.5555555555555556,
              "#d8576b"
             ],
             [
              0.6666666666666666,
              "#ed7953"
             ],
             [
              0.7777777777777778,
              "#fb9f3a"
             ],
             [
              0.8888888888888888,
              "#fdca26"
             ],
             [
              1,
              "#f0f921"
             ]
            ],
            "type": "histogram2dcontour"
           }
          ],
          "mesh3d": [
           {
            "colorbar": {
             "outlinewidth": 0,
             "ticks": ""
            },
            "type": "mesh3d"
           }
          ],
          "parcoords": [
           {
            "line": {
             "colorbar": {
              "outlinewidth": 0,
              "ticks": ""
             }
            },
            "type": "parcoords"
           }
          ],
          "pie": [
           {
            "automargin": true,
            "type": "pie"
           }
          ],
          "scatter": [
           {
            "fillpattern": {
             "fillmode": "overlay",
             "size": 10,
             "solidity": 0.2
            },
            "type": "scatter"
           }
          ],
          "scatter3d": [
           {
            "line": {
             "colorbar": {
              "outlinewidth": 0,
              "ticks": ""
             }
            },
            "marker": {
             "colorbar": {
              "outlinewidth": 0,
              "ticks": ""
             }
            },
            "type": "scatter3d"
           }
          ],
          "scattercarpet": [
           {
            "marker": {
             "colorbar": {
              "outlinewidth": 0,
              "ticks": ""
             }
            },
            "type": "scattercarpet"
           }
          ],
          "scattergeo": [
           {
            "marker": {
             "colorbar": {
              "outlinewidth": 0,
              "ticks": ""
             }
            },
            "type": "scattergeo"
           }
          ],
          "scattergl": [
           {
            "marker": {
             "colorbar": {
              "outlinewidth": 0,
              "ticks": ""
             }
            },
            "type": "scattergl"
           }
          ],
          "scattermapbox": [
           {
            "marker": {
             "colorbar": {
              "outlinewidth": 0,
              "ticks": ""
             }
            },
            "type": "scattermapbox"
           }
          ],
          "scatterpolar": [
           {
            "marker": {
             "colorbar": {
              "outlinewidth": 0,
              "ticks": ""
             }
            },
            "type": "scatterpolar"
           }
          ],
          "scatterpolargl": [
           {
            "marker": {
             "colorbar": {
              "outlinewidth": 0,
              "ticks": ""
             }
            },
            "type": "scatterpolargl"
           }
          ],
          "scatterternary": [
           {
            "marker": {
             "colorbar": {
              "outlinewidth": 0,
              "ticks": ""
             }
            },
            "type": "scatterternary"
           }
          ],
          "surface": [
           {
            "colorbar": {
             "outlinewidth": 0,
             "ticks": ""
            },
            "colorscale": [
             [
              0,
              "#0d0887"
             ],
             [
              0.1111111111111111,
              "#46039f"
             ],
             [
              0.2222222222222222,
              "#7201a8"
             ],
             [
              0.3333333333333333,
              "#9c179e"
             ],
             [
              0.4444444444444444,
              "#bd3786"
             ],
             [
              0.5555555555555556,
              "#d8576b"
             ],
             [
              0.6666666666666666,
              "#ed7953"
             ],
             [
              0.7777777777777778,
              "#fb9f3a"
             ],
             [
              0.8888888888888888,
              "#fdca26"
             ],
             [
              1,
              "#f0f921"
             ]
            ],
            "type": "surface"
           }
          ],
          "table": [
           {
            "cells": {
             "fill": {
              "color": "#EBF0F8"
             },
             "line": {
              "color": "white"
             }
            },
            "header": {
             "fill": {
              "color": "#C8D4E3"
             },
             "line": {
              "color": "white"
             }
            },
            "type": "table"
           }
          ]
         },
         "layout": {
          "annotationdefaults": {
           "arrowcolor": "#2a3f5f",
           "arrowhead": 0,
           "arrowwidth": 1
          },
          "autotypenumbers": "strict",
          "coloraxis": {
           "colorbar": {
            "outlinewidth": 0,
            "ticks": ""
           }
          },
          "colorscale": {
           "diverging": [
            [
             0,
             "#8e0152"
            ],
            [
             0.1,
             "#c51b7d"
            ],
            [
             0.2,
             "#de77ae"
            ],
            [
             0.3,
             "#f1b6da"
            ],
            [
             0.4,
             "#fde0ef"
            ],
            [
             0.5,
             "#f7f7f7"
            ],
            [
             0.6,
             "#e6f5d0"
            ],
            [
             0.7,
             "#b8e186"
            ],
            [
             0.8,
             "#7fbc41"
            ],
            [
             0.9,
             "#4d9221"
            ],
            [
             1,
             "#276419"
            ]
           ],
           "sequential": [
            [
             0,
             "#0d0887"
            ],
            [
             0.1111111111111111,
             "#46039f"
            ],
            [
             0.2222222222222222,
             "#7201a8"
            ],
            [
             0.3333333333333333,
             "#9c179e"
            ],
            [
             0.4444444444444444,
             "#bd3786"
            ],
            [
             0.5555555555555556,
             "#d8576b"
            ],
            [
             0.6666666666666666,
             "#ed7953"
            ],
            [
             0.7777777777777778,
             "#fb9f3a"
            ],
            [
             0.8888888888888888,
             "#fdca26"
            ],
            [
             1,
             "#f0f921"
            ]
           ],
           "sequentialminus": [
            [
             0,
             "#0d0887"
            ],
            [
             0.1111111111111111,
             "#46039f"
            ],
            [
             0.2222222222222222,
             "#7201a8"
            ],
            [
             0.3333333333333333,
             "#9c179e"
            ],
            [
             0.4444444444444444,
             "#bd3786"
            ],
            [
             0.5555555555555556,
             "#d8576b"
            ],
            [
             0.6666666666666666,
             "#ed7953"
            ],
            [
             0.7777777777777778,
             "#fb9f3a"
            ],
            [
             0.8888888888888888,
             "#fdca26"
            ],
            [
             1,
             "#f0f921"
            ]
           ]
          },
          "colorway": [
           "#636efa",
           "#EF553B",
           "#00cc96",
           "#ab63fa",
           "#FFA15A",
           "#19d3f3",
           "#FF6692",
           "#B6E880",
           "#FF97FF",
           "#FECB52"
          ],
          "font": {
           "color": "#2a3f5f"
          },
          "geo": {
           "bgcolor": "white",
           "lakecolor": "white",
           "landcolor": "#E5ECF6",
           "showlakes": true,
           "showland": true,
           "subunitcolor": "white"
          },
          "hoverlabel": {
           "align": "left"
          },
          "hovermode": "closest",
          "mapbox": {
           "style": "light"
          },
          "paper_bgcolor": "white",
          "plot_bgcolor": "#E5ECF6",
          "polar": {
           "angularaxis": {
            "gridcolor": "white",
            "linecolor": "white",
            "ticks": ""
           },
           "bgcolor": "#E5ECF6",
           "radialaxis": {
            "gridcolor": "white",
            "linecolor": "white",
            "ticks": ""
           }
          },
          "scene": {
           "xaxis": {
            "backgroundcolor": "#E5ECF6",
            "gridcolor": "white",
            "gridwidth": 2,
            "linecolor": "white",
            "showbackground": true,
            "ticks": "",
            "zerolinecolor": "white"
           },
           "yaxis": {
            "backgroundcolor": "#E5ECF6",
            "gridcolor": "white",
            "gridwidth": 2,
            "linecolor": "white",
            "showbackground": true,
            "ticks": "",
            "zerolinecolor": "white"
           },
           "zaxis": {
            "backgroundcolor": "#E5ECF6",
            "gridcolor": "white",
            "gridwidth": 2,
            "linecolor": "white",
            "showbackground": true,
            "ticks": "",
            "zerolinecolor": "white"
           }
          },
          "shapedefaults": {
           "line": {
            "color": "#2a3f5f"
           }
          },
          "ternary": {
           "aaxis": {
            "gridcolor": "white",
            "linecolor": "white",
            "ticks": ""
           },
           "baxis": {
            "gridcolor": "white",
            "linecolor": "white",
            "ticks": ""
           },
           "bgcolor": "#E5ECF6",
           "caxis": {
            "gridcolor": "white",
            "linecolor": "white",
            "ticks": ""
           }
          },
          "title": {
           "x": 0.05
          },
          "xaxis": {
           "automargin": true,
           "gridcolor": "white",
           "linecolor": "white",
           "ticks": "",
           "title": {
            "standoff": 15
           },
           "zerolinecolor": "white",
           "zerolinewidth": 2
          },
          "yaxis": {
           "automargin": true,
           "gridcolor": "white",
           "linecolor": "white",
           "ticks": "",
           "title": {
            "standoff": 15
           },
           "zerolinecolor": "white",
           "zerolinewidth": 2
          }
         }
        }
       }
      }
     },
     "metadata": {},
     "output_type": "display_data"
    }
   ],
   "source": [
    "df = px.data.gapminder().query(\"year==2007\")\n",
    "\n",
    "fig = px.choropleth(merged, locations=\"iso_alpha\", \n",
    "                    color=\"top_1\", # lifeExp is a column of gapminder\n",
    "                    hover_name=\"country_brewery\", # column to add to hover information\n",
    "                    color_continuous_scale= palette_styles) #Color\n",
    "fig.show()"
   ]
  },
  {
   "cell_type": "markdown",
   "metadata": {},
   "source": [
    "### Trimesteric beer style preference by country\n"
   ]
  },
  {
   "cell_type": "markdown",
   "metadata": {},
   "source": [
    "### Locality VS industriality by country\n",
    "Bi-directional plot"
   ]
  },
  {
   "cell_type": "markdown",
   "metadata": {},
   "source": [
    "### Text analysis associated to the beer styles\n",
    "wordclouds"
   ]
  },
  {
   "cell_type": "markdown",
   "metadata": {},
   "source": [
    "### Prediction of country\n",
    "Tree"
   ]
  },
  {
   "cell_type": "markdown",
   "metadata": {},
   "source": []
  }
 ],
 "metadata": {
  "kernelspec": {
   "display_name": "ada",
   "language": "python",
   "name": "python3"
  },
  "language_info": {
   "codemirror_mode": {
    "name": "ipython",
    "version": 3
   },
   "file_extension": ".py",
   "mimetype": "text/x-python",
   "name": "python",
   "nbconvert_exporter": "python",
   "pygments_lexer": "ipython3",
   "version": "3.9.18"
  }
 },
 "nbformat": 4,
 "nbformat_minor": 2
}
