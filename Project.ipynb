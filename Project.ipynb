{
 "cells": [
  {
   "cell_type": "markdown",
   "metadata": {},
   "source": [
    "# Data upload"
   ]
  },
  {
   "cell_type": "code",
   "execution_count": 111,
   "metadata": {},
   "outputs": [],
   "source": [
    "import tarfile\n",
    "import pandas as pd\n",
    "import numpy as np\n",
    "import re\n",
    "import os\n",
    "import gzip\n",
    "\n",
    "directory = os.getcwd()\n",
    "data_path = os.path.join(directory, 'Data')\n",
    "\n",
    "# List the .tar files in the source directory\n",
    "tar_files = [file for file in os.listdir(data_path) if file.endswith('.gz')]\n",
    "\n",
    "for tar_file in tar_files:\n",
    "    tar_file_path = os.path.join(data_path, tar_file)\n",
    "\n",
    "    extraction_folder_name = os.path.basename(tar_file_path).split('.', 1)[0]\n",
    "    folder_path = os.path.join(data_path, extraction_folder_name)\n",
    "    os.makedirs(folder_path, exist_ok=True)\n",
    "\n",
    "    with tarfile.open(tar_file_path, 'r') as tar:\n",
    "        tar.extractall(path=folder_path)"
   ]
  },
  {
   "cell_type": "code",
   "execution_count": 112,
   "metadata": {},
   "outputs": [],
   "source": [
    "def text_to_csv(path, filename):\n",
    "    '''\n",
    "        DESCRIPTION TO BE WRITTEN\n",
    "    '''\n",
    "    main_path = os.path.join(path, filename)\n",
    "    if not os.path.exists(main_path + '.tsv'):\n",
    "        with gzip.open(main_path + '.txt.gz', 'rt', encoding=\"utf8\") as file_txt:\n",
    "            with open(main_path + '.tsv', 'w', encoding=\"utf8\") as file_tsv:\n",
    "                first = True\n",
    "                obj = {}\n",
    "                for line in file_txt:\n",
    "                    if line == '\\n':\n",
    "                        if first:\n",
    "                            file_tsv.write(\"\\t\".join(obj.keys()) + \"\\n\")\n",
    "                            first=False\n",
    "                        file_tsv.write(\"\\t\".join(obj.values()) + \"\\n\")\n",
    "                        obj = {}\n",
    "                        continue\n",
    "\n",
    "                    line = re.sub(r'\\bnan\\b', '', line)\n",
    "                    key, value = line.strip().split(\":\", 1)\n",
    "                    obj[key] = value\n",
    "                \n",
    "                if obj: file_tsv.write(\"\\t\".join(obj.values()) + \"\\n\")\n",
    "\n",
    "    df = pd.read_csv(main_path + '.tsv', sep='\\t')\n",
    "    return(df)"
   ]
  },
  {
   "cell_type": "code",
   "execution_count": 118,
   "metadata": {},
   "outputs": [],
   "source": [
    "# Definining the path for the files\n",
    "RB_path = os.path.join(data_path, 'RateBeer')\n",
    "BA_path = os.path.join(data_path, 'BeerAdvocate')\n",
    "MB_path = os.path.join(data_path, 'matched_beer_data')\n",
    "\n",
    "# Uploading the files and assigning variables\n",
    "RB_beers = pd.read_csv(RB_path + '/beers.csv')\n",
    "RB_breweries = pd.read_csv(RB_path + '/breweries.csv')\n",
    "RB_users = pd.read_csv(RB_path + '/users.csv')\n",
    "RB_ratings = text_to_csv(RB_path, 'ratings')\n",
    "RB_reviews = text_to_csv(RB_path, 'reviews')\n",
    "\n",
    "BA_beers = pd.read_csv(BA_path + '/beers.csv')\n",
    "BA_breweries = pd.read_csv(BA_path + '/breweries.csv')\n",
    "BA_users = pd.read_csv(BA_path + '/users.csv')\n",
    "BA_ratings = text_to_csv(BA_path, 'ratings')\n",
    "BA_reviews = text_to_csv(BA_path, 'reviews')\n",
    "\n",
    "MB_beers = pd.read_csv(MB_path + '/beers.csv', header=1)\n",
    "MB_breweries = pd.read_csv(MB_path + '/breweries.csv', header=1)\n",
    "MB_users = pd.read_csv(MB_path + '/users.csv', header=1)\n",
    "MB_users_approx = pd.read_csv(MB_path + '/users_approx.csv', header=1)\n",
    "MB_ratings = pd.read_csv(MB_path + '/ratings.csv', header=1)\n",
    "MB_ratingsBA = text_to_csv(MB_path, 'ratings_ba')\n",
    "MB_ratingsBA_txt = text_to_csv(MB_path, 'ratings_with_text_ba')\n",
    "MB_ratingsRB = text_to_csv(MB_path, 'ratings_rb')\n",
    "MB_ratingsRB_txt = text_to_csv(MB_path, 'ratings_with_text_rb')\n",
    "\n",
    "'''\n",
    "    We need to check what the last 5 dataframes are and label them correctly\n",
    "'''"
   ]
  },
  {
   "cell_type": "code",
   "execution_count": null,
   "metadata": {},
   "outputs": [],
   "source": [
    "beers.nbr_matched_valid_ratings.unique()"
   ]
  },
  {
   "cell_type": "code",
   "execution_count": null,
   "metadata": {},
   "outputs": [],
   "source": [
    "display(beers)\n",
    "display(breweries)\n",
    "display(users)"
   ]
  },
  {
   "cell_type": "code",
   "execution_count": null,
   "metadata": {},
   "outputs": [],
   "source": [
    "users['nbr_ratings'].sort_values(ascending=False).plot(kind='hist', range = (20,1000), bins= 100)\n",
    "# average rating/ overall rating in time"
   ]
  }
 ],
 "metadata": {
  "kernelspec": {
   "display_name": "ada",
   "language": "python",
   "name": "python3"
  },
  "language_info": {
   "codemirror_mode": {
    "name": "ipython",
    "version": 3
   },
   "file_extension": ".py",
   "mimetype": "text/x-python",
   "name": "python",
   "nbconvert_exporter": "python",
   "pygments_lexer": "ipython3",
   "version": "3.9.18"
  },
  "orig_nbformat": 4
 },
 "nbformat": 4,
 "nbformat_minor": 2
}
