{
 "cells": [
  {
   "cell_type": "code",
   "execution_count": 1,
   "metadata": {},
   "outputs": [],
   "source": [
    "import tarfile\n",
    "import pandas as pd\n",
    "import numpy as np\n",
    "import matplotlib.pyplot as plt\n",
    "import re\n",
    "import os\n",
    "import gzip\n",
    "import Preprocessing as pproc \n",
    "\n",
    "directory = os.getcwd()\n",
    "data_path = os.path.join(directory, 'Data')\n",
    "\n",
    "# Definining the path for the files\n",
    "RB_path = os.path.join(data_path, 'RateBeer')\n",
    "BA_path = os.path.join(data_path, 'BeerAdvocate')\n",
    "MB_path = os.path.join(data_path, 'matched_beer_data')"
   ]
  },
  {
   "cell_type": "code",
   "execution_count": 2,
   "metadata": {},
   "outputs": [],
   "source": [
    "#Transformation of the .txt files\n",
    "pproc.text_to_csv(RB_path, 'ratings')\n",
    "pproc.text_to_csv(RB_path, 'reviews')\n",
    "\n",
    "pproc.text_to_csv(BA_path, 'ratings')\n",
    "pproc.text_to_csv(BA_path, 'reviews')\n",
    "\n",
    "pproc.text_to_csv(MB_path, 'ratings_ba')\n",
    "pproc.text_to_csv(MB_path, 'ratings_with_text_ba')\n",
    "pproc.text_to_csv(MB_path, 'ratings_rb')\n",
    "pproc.text_to_csv(MB_path, 'ratings_with_text_rb')"
   ]
  },
  {
   "cell_type": "code",
   "execution_count": 38,
   "metadata": {},
   "outputs": [],
   "source": [
    "#MATCHING BEERS:\n",
    "MB_beers = pd.read_csv(MB_path + '/beers.csv', header=1)\n",
    "MB_breweries = pd.read_csv(MB_path + '/breweries.csv', header=1)\n",
    "MB_users = pd.read_csv(MB_path + '/users.csv', header=1)\n",
    "MB_users_approx = pd.read_csv(MB_path + '/users_approx.csv', header=1)\n",
    "MB_ratings = pd.read_csv(MB_path + '/ratings.csv', header=1)\n"
   ]
  },
  {
   "cell_type": "code",
   "execution_count": 4,
   "metadata": {},
   "outputs": [],
   "source": [
    "#RATEBEERS WEB:\n",
    "RB_beers = pd.read_csv(RB_path + '/beers.csv')\n",
    "RB_breweries = pd.read_csv(RB_path + '/breweries.csv')\n",
    "RB_users = pd.read_csv(RB_path + '/users.csv')"
   ]
  },
  {
   "cell_type": "code",
   "execution_count": 15,
   "metadata": {},
   "outputs": [],
   "source": [
    "#BEERADVOCATES WEB:\n",
    "BA_beers = pd.read_csv(BA_path + '/beers.csv')\n",
    "BA_breweries = pd.read_csv(BA_path + '/breweries.csv')\n",
    "BA_users = pd.read_csv(BA_path + '/users.csv')\n",
    "BA_ratings = pd.read_csv(BA_path + '/ratings.tsv', sep='\\t')\n",
    "BA_reviews = pd.read_csv(BA_path + '/reviews.tsv', sep='\\t')"
   ]
  },
  {
   "cell_type": "code",
   "execution_count": 59,
   "metadata": {},
   "outputs": [],
   "source": [
    "MB_ratings['date'] =pd.to_datetime(MB_ratings.date, unit='s')\n",
    "MB_ratings['year'] = MB_ratings['date'].dt.year\n",
    "columns_to_keep = ['user_id', 'rating','year']\n",
    "filter_MB_ratings = MB_ratings.filter(columns_to_keep)\n"
   ]
  },
  {
   "cell_type": "code",
   "execution_count": 60,
   "metadata": {},
   "outputs": [
    {
     "data": {
      "text/html": [
       "<div>\n",
       "<style scoped>\n",
       "    .dataframe tbody tr th:only-of-type {\n",
       "        vertical-align: middle;\n",
       "    }\n",
       "\n",
       "    .dataframe tbody tr th {\n",
       "        vertical-align: top;\n",
       "    }\n",
       "\n",
       "    .dataframe thead th {\n",
       "        text-align: right;\n",
       "    }\n",
       "</style>\n",
       "<table border=\"1\" class=\"dataframe\">\n",
       "  <thead>\n",
       "    <tr style=\"text-align: right;\">\n",
       "      <th></th>\n",
       "      <th>user_id</th>\n",
       "      <th>rating</th>\n",
       "      <th>year</th>\n",
       "    </tr>\n",
       "  </thead>\n",
       "  <tbody>\n",
       "    <tr>\n",
       "      <th>0</th>\n",
       "      <td>erzengel.248045</td>\n",
       "      <td>4.8</td>\n",
       "      <td>1970</td>\n",
       "    </tr>\n",
       "    <tr>\n",
       "      <th>1</th>\n",
       "      <td>visionthing.639993</td>\n",
       "      <td>3.0</td>\n",
       "      <td>1970</td>\n",
       "    </tr>\n",
       "  </tbody>\n",
       "</table>\n",
       "</div>"
      ],
      "text/plain": [
       "              user_id  rating  year\n",
       "0     erzengel.248045     4.8  1970\n",
       "1  visionthing.639993     3.0  1970"
      ]
     },
     "execution_count": 60,
     "metadata": {},
     "output_type": "execute_result"
    }
   ],
   "source": [
    "filter_MB_ratings.head(2)"
   ]
  },
  {
   "cell_type": "markdown",
   "metadata": {},
   "source": [
    "So with the previous datasets we have the geographical location and the brewery name. Furthermore, it can be merged by the userID that coincides in both columns."
   ]
  },
  {
   "cell_type": "code",
   "execution_count": 73,
   "metadata": {},
   "outputs": [],
   "source": [
    "geo_beers = pd.merge(filter_MB_ratings, MB_users[['user_id','location']], on='user_id', how='outer')"
   ]
  },
  {
   "cell_type": "code",
   "execution_count": 74,
   "metadata": {},
   "outputs": [
    {
     "data": {
      "text/html": [
       "<div>\n",
       "<style scoped>\n",
       "    .dataframe tbody tr th:only-of-type {\n",
       "        vertical-align: middle;\n",
       "    }\n",
       "\n",
       "    .dataframe tbody tr th {\n",
       "        vertical-align: top;\n",
       "    }\n",
       "\n",
       "    .dataframe thead th {\n",
       "        text-align: right;\n",
       "    }\n",
       "</style>\n",
       "<table border=\"1\" class=\"dataframe\">\n",
       "  <thead>\n",
       "    <tr style=\"text-align: right;\">\n",
       "      <th></th>\n",
       "      <th>user_id</th>\n",
       "      <th>rating</th>\n",
       "      <th>year</th>\n",
       "      <th>location</th>\n",
       "    </tr>\n",
       "  </thead>\n",
       "  <tbody>\n",
       "    <tr>\n",
       "      <th>0</th>\n",
       "      <td>erzengel.248045</td>\n",
       "      <td>4.80</td>\n",
       "      <td>1970.0</td>\n",
       "      <td>Germany</td>\n",
       "    </tr>\n",
       "    <tr>\n",
       "      <th>1</th>\n",
       "      <td>visionthing.639993</td>\n",
       "      <td>3.00</td>\n",
       "      <td>1970.0</td>\n",
       "      <td>Estonia</td>\n",
       "    </tr>\n",
       "    <tr>\n",
       "      <th>2</th>\n",
       "      <td>tiong.608427</td>\n",
       "      <td>3.85</td>\n",
       "      <td>1970.0</td>\n",
       "      <td>Finland</td>\n",
       "    </tr>\n",
       "    <tr>\n",
       "      <th>3</th>\n",
       "      <td>tiong.608427</td>\n",
       "      <td>3.68</td>\n",
       "      <td>1970.0</td>\n",
       "      <td>Finland</td>\n",
       "    </tr>\n",
       "    <tr>\n",
       "      <th>4</th>\n",
       "      <td>tiong.608427</td>\n",
       "      <td>4.00</td>\n",
       "      <td>1970.0</td>\n",
       "      <td>Finland</td>\n",
       "    </tr>\n",
       "    <tr>\n",
       "      <th>...</th>\n",
       "      <td>...</td>\n",
       "      <td>...</td>\n",
       "      <td>...</td>\n",
       "      <td>...</td>\n",
       "    </tr>\n",
       "    <tr>\n",
       "      <th>24100</th>\n",
       "      <td>shadesofgray.371155</td>\n",
       "      <td>NaN</td>\n",
       "      <td>NaN</td>\n",
       "      <td>United States, Pennsylvania</td>\n",
       "    </tr>\n",
       "    <tr>\n",
       "      <th>24101</th>\n",
       "      <td>ypsifly.8833</td>\n",
       "      <td>NaN</td>\n",
       "      <td>NaN</td>\n",
       "      <td>United States, Michigan</td>\n",
       "    </tr>\n",
       "    <tr>\n",
       "      <th>24102</th>\n",
       "      <td>hardtarget.1712</td>\n",
       "      <td>NaN</td>\n",
       "      <td>NaN</td>\n",
       "      <td>United States, Texas</td>\n",
       "    </tr>\n",
       "    <tr>\n",
       "      <th>24103</th>\n",
       "      <td>nelsonsaigon.897449</td>\n",
       "      <td>NaN</td>\n",
       "      <td>NaN</td>\n",
       "      <td>Vietnam</td>\n",
       "    </tr>\n",
       "    <tr>\n",
       "      <th>24104</th>\n",
       "      <td>delikat.111593</td>\n",
       "      <td>NaN</td>\n",
       "      <td>NaN</td>\n",
       "      <td>Sweden</td>\n",
       "    </tr>\n",
       "  </tbody>\n",
       "</table>\n",
       "<p>24105 rows × 4 columns</p>\n",
       "</div>"
      ],
      "text/plain": [
       "                   user_id  rating    year                     location\n",
       "0          erzengel.248045    4.80  1970.0                      Germany\n",
       "1       visionthing.639993    3.00  1970.0                      Estonia\n",
       "2             tiong.608427    3.85  1970.0                      Finland\n",
       "3             tiong.608427    3.68  1970.0                      Finland\n",
       "4             tiong.608427    4.00  1970.0                      Finland\n",
       "...                    ...     ...     ...                          ...\n",
       "24100  shadesofgray.371155     NaN     NaN  United States, Pennsylvania\n",
       "24101         ypsifly.8833     NaN     NaN      United States, Michigan\n",
       "24102      hardtarget.1712     NaN     NaN         United States, Texas\n",
       "24103  nelsonsaigon.897449     NaN     NaN                      Vietnam\n",
       "24104       delikat.111593     NaN     NaN                       Sweden\n",
       "\n",
       "[24105 rows x 4 columns]"
      ]
     },
     "execution_count": 74,
     "metadata": {},
     "output_type": "execute_result"
    }
   ],
   "source": [
    "geo_beers"
   ]
  }
 ],
 "metadata": {
  "kernelspec": {
   "display_name": "ada",
   "language": "python",
   "name": "python3"
  },
  "language_info": {
   "codemirror_mode": {
    "name": "ipython",
    "version": 3
   },
   "file_extension": ".py",
   "mimetype": "text/x-python",
   "name": "python",
   "nbconvert_exporter": "python",
   "pygments_lexer": "ipython3",
   "version": "3.9.17"
  }
 },
 "nbformat": 4,
 "nbformat_minor": 2
}
