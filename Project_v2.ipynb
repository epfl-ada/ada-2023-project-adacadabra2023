{
 "cells": [
  {
   "cell_type": "markdown",
   "metadata": {},
   "source": [
    "# Data upload"
   ]
  },
  {
   "cell_type": "code",
   "execution_count": 1,
   "metadata": {
    "tags": []
   },
   "outputs": [],
   "source": [
    "import tarfile\n",
    "import pandas as pd\n",
    "import numpy as np\n",
    "import matplotlib.pyplot as plt\n",
    "import re\n",
    "import os\n",
    "import gzip\n",
    "import Preprocessing as pproc \n",
    "import HerdingFunctions as hf\n",
    "import statsmodels.api as sm\n",
    "\n",
    "directory = os.getcwd()\n",
    "data_path = os.path.join(directory, 'Data')\n",
    "\n",
    "# Definining the path for the files\n",
    "RB_path = os.path.join(data_path, 'RateBeer')\n",
    "BA_path = os.path.join(data_path, 'BeerAdvocate')\n",
    "MB_path = os.path.join(data_path, 'matched_beer_data')"
   ]
  },
  {
   "cell_type": "markdown",
   "metadata": {
    "tags": []
   },
   "source": [
    "# Extraction of the data and preprocessing of the files"
   ]
  },
  {
   "cell_type": "code",
   "execution_count": 2,
   "metadata": {
    "tags": []
   },
   "outputs": [],
   "source": [
    "# Extraction of the .tar files\n",
    "pproc.extract_tar_files(data_path)"
   ]
  },
  {
   "cell_type": "code",
   "execution_count": 5,
   "metadata": {},
   "outputs": [],
   "source": [
    "#Transformation of the .txt files\n",
    "pproc.text_to_csv(RB_path, 'ratings')\n",
    "pproc.text_to_csv(RB_path, 'reviews')\n",
    "\n",
    "pproc.text_to_csv(BA_path, 'ratings')\n",
    "pproc.text_to_csv(BA_path, 'reviews')\n",
    "\n",
    "pproc.text_to_csv(MB_path, 'ratings_ba')\n",
    "pproc.text_to_csv(MB_path, 'ratings_with_text_ba')\n",
    "pproc.text_to_csv(MB_path, 'ratings_rb')\n",
    "pproc.text_to_csv(MB_path, 'ratings_with_text_rb')"
   ]
  },
  {
   "cell_type": "markdown",
   "metadata": {
    "tags": []
   },
   "source": [
    "# Creation of dataframes"
   ]
  },
  {
   "cell_type": "markdown",
   "metadata": {},
   "source": [
    "Matching data:"
   ]
  },
  {
   "cell_type": "code",
   "execution_count": 2,
   "metadata": {
    "tags": []
   },
   "outputs": [],
   "source": [
    "MB_beers = pd.read_csv(MB_path + '/beers.csv', header=1)\n",
    "MB_breweries = pd.read_csv(MB_path + '/breweries.csv', header=1)\n",
    "MB_users = pd.read_csv(MB_path + '/users.csv', header=1)\n",
    "MB_users_approx = pd.read_csv(MB_path + '/users_approx.csv', header=1)"
   ]
  },
  {
   "cell_type": "code",
   "execution_count": 3,
   "metadata": {
    "tags": []
   },
   "outputs": [],
   "source": [
    "MB_ratings = pd.read_csv(MB_path + '/ratings.csv', header=1)\n",
    "MB_ratingsBA = pd.read_csv(MB_path + '/ratings_ba.tsv', sep='\\t')\n",
    "MB_ratingsBA_txt = pd.read_csv(MB_path + '/ratings_with_text_ba.tsv', sep='\\t')\n",
    "MB_ratingsRB = pd.read_csv(MB_path + '/ratings_rb.tsv', sep='\\t')\n",
    "MB_ratingsRB_txt = pd.read_csv(MB_path + '/ratings_with_text_rb.tsv', sep='\\t')"
   ]
  },
  {
   "cell_type": "markdown",
   "metadata": {},
   "source": [
    "Rest of the data:"
   ]
  },
  {
   "cell_type": "code",
   "execution_count": 4,
   "metadata": {
    "tags": []
   },
   "outputs": [],
   "source": [
    "RB_beers = pd.read_csv(RB_path + '/beers.csv')\n",
    "RB_breweries = pd.read_csv(RB_path + '/breweries.csv')\n",
    "RB_users = pd.read_csv(RB_path + '/users.csv')\n",
    "RB_ratings = pd.read_csv(RB_path + '/ratings.tsv', sep='\\t')\n",
    "RB_reviews = pd.read_csv(RB_path + '/reviews.tsv', sep='\\t')"
   ]
  },
  {
   "cell_type": "code",
   "execution_count": 5,
   "metadata": {
    "tags": []
   },
   "outputs": [],
   "source": [
    "BA_beers = pd.read_csv(BA_path + '/beers.csv')\n",
    "BA_breweries = pd.read_csv(BA_path + '/breweries.csv')\n",
    "BA_users = pd.read_csv(BA_path + '/users.csv')\n",
    "BA_ratings = pd.read_csv(BA_path + '/ratings.tsv', sep='\\t')\n",
    "BA_reviews = pd.read_csv(BA_path + '/reviews.tsv', sep='\\t')"
   ]
  },
  {
   "cell_type": "code",
   "execution_count": 6,
   "metadata": {
    "tags": []
   },
   "outputs": [
    {
     "data": {
      "text/html": [
       "<div>\n",
       "<style scoped>\n",
       "    .dataframe tbody tr th:only-of-type {\n",
       "        vertical-align: middle;\n",
       "    }\n",
       "\n",
       "    .dataframe tbody tr th {\n",
       "        vertical-align: top;\n",
       "    }\n",
       "\n",
       "    .dataframe thead th {\n",
       "        text-align: right;\n",
       "    }\n",
       "</style>\n",
       "<table border=\"1\" class=\"dataframe\">\n",
       "  <thead>\n",
       "    <tr style=\"text-align: right;\">\n",
       "      <th></th>\n",
       "      <th>beer_name</th>\n",
       "      <th>beer_id</th>\n",
       "      <th>brewery_name</th>\n",
       "      <th>brewery_id</th>\n",
       "      <th>style</th>\n",
       "      <th>abv</th>\n",
       "      <th>date</th>\n",
       "      <th>user_name</th>\n",
       "      <th>user_id</th>\n",
       "      <th>appearance</th>\n",
       "      <th>aroma</th>\n",
       "      <th>palate</th>\n",
       "      <th>taste</th>\n",
       "      <th>overall</th>\n",
       "      <th>rating</th>\n",
       "      <th>text</th>\n",
       "      <th>review</th>\n",
       "    </tr>\n",
       "  </thead>\n",
       "  <tbody>\n",
       "    <tr>\n",
       "      <th>0</th>\n",
       "      <td>Régab</td>\n",
       "      <td>142544</td>\n",
       "      <td>Societe des Brasseries du Gabon (SOBRAGA)</td>\n",
       "      <td>37262</td>\n",
       "      <td>Euro Pale Lager</td>\n",
       "      <td>4.5</td>\n",
       "      <td>1440064800</td>\n",
       "      <td>nmann08</td>\n",
       "      <td>nmann08.184925</td>\n",
       "      <td>3.25</td>\n",
       "      <td>2.75</td>\n",
       "      <td>3.25</td>\n",
       "      <td>2.75</td>\n",
       "      <td>3.0</td>\n",
       "      <td>2.88</td>\n",
       "      <td>From a bottle, pours a piss yellow color with...</td>\n",
       "      <td>True</td>\n",
       "    </tr>\n",
       "    <tr>\n",
       "      <th>1</th>\n",
       "      <td>Barelegs Brew</td>\n",
       "      <td>19590</td>\n",
       "      <td>Strangford Lough Brewing Company Ltd</td>\n",
       "      <td>10093</td>\n",
       "      <td>English Pale Ale</td>\n",
       "      <td>4.5</td>\n",
       "      <td>1235127600</td>\n",
       "      <td>StJamesGate</td>\n",
       "      <td>stjamesgate.163714</td>\n",
       "      <td>3.00</td>\n",
       "      <td>3.50</td>\n",
       "      <td>3.50</td>\n",
       "      <td>4.00</td>\n",
       "      <td>3.5</td>\n",
       "      <td>3.67</td>\n",
       "      <td>Pours pale copper with a thin head that quick...</td>\n",
       "      <td>True</td>\n",
       "    </tr>\n",
       "    <tr>\n",
       "      <th>2</th>\n",
       "      <td>Barelegs Brew</td>\n",
       "      <td>19590</td>\n",
       "      <td>Strangford Lough Brewing Company Ltd</td>\n",
       "      <td>10093</td>\n",
       "      <td>English Pale Ale</td>\n",
       "      <td>4.5</td>\n",
       "      <td>1142247600</td>\n",
       "      <td>mdagnew</td>\n",
       "      <td>mdagnew.19527</td>\n",
       "      <td>4.00</td>\n",
       "      <td>3.50</td>\n",
       "      <td>3.50</td>\n",
       "      <td>4.00</td>\n",
       "      <td>3.5</td>\n",
       "      <td>3.73</td>\n",
       "      <td>500ml Bottle bought from The Vintage, Antrim....</td>\n",
       "      <td>True</td>\n",
       "    </tr>\n",
       "    <tr>\n",
       "      <th>3</th>\n",
       "      <td>Barelegs Brew</td>\n",
       "      <td>19590</td>\n",
       "      <td>Strangford Lough Brewing Company Ltd</td>\n",
       "      <td>10093</td>\n",
       "      <td>English Pale Ale</td>\n",
       "      <td>4.5</td>\n",
       "      <td>1101898800</td>\n",
       "      <td>helloloser12345</td>\n",
       "      <td>helloloser12345.10867</td>\n",
       "      <td>4.00</td>\n",
       "      <td>3.50</td>\n",
       "      <td>4.00</td>\n",
       "      <td>4.00</td>\n",
       "      <td>4.5</td>\n",
       "      <td>3.98</td>\n",
       "      <td>Serving: 500ml brown bottlePour: Good head wi...</td>\n",
       "      <td>True</td>\n",
       "    </tr>\n",
       "    <tr>\n",
       "      <th>4</th>\n",
       "      <td>Barelegs Brew</td>\n",
       "      <td>19590</td>\n",
       "      <td>Strangford Lough Brewing Company Ltd</td>\n",
       "      <td>10093</td>\n",
       "      <td>English Pale Ale</td>\n",
       "      <td>4.5</td>\n",
       "      <td>1093860000</td>\n",
       "      <td>cypressbob</td>\n",
       "      <td>cypressbob.3708</td>\n",
       "      <td>4.00</td>\n",
       "      <td>4.00</td>\n",
       "      <td>4.00</td>\n",
       "      <td>4.00</td>\n",
       "      <td>4.0</td>\n",
       "      <td>4.00</td>\n",
       "      <td>500ml bottlePours with a light, slightly hazy...</td>\n",
       "      <td>True</td>\n",
       "    </tr>\n",
       "    <tr>\n",
       "      <th>...</th>\n",
       "      <td>...</td>\n",
       "      <td>...</td>\n",
       "      <td>...</td>\n",
       "      <td>...</td>\n",
       "      <td>...</td>\n",
       "      <td>...</td>\n",
       "      <td>...</td>\n",
       "      <td>...</td>\n",
       "      <td>...</td>\n",
       "      <td>...</td>\n",
       "      <td>...</td>\n",
       "      <td>...</td>\n",
       "      <td>...</td>\n",
       "      <td>...</td>\n",
       "      <td>...</td>\n",
       "      <td>...</td>\n",
       "      <td>...</td>\n",
       "    </tr>\n",
       "    <tr>\n",
       "      <th>8393027</th>\n",
       "      <td>Kölsch Ale</td>\n",
       "      <td>19139</td>\n",
       "      <td>Summit Station Restaurant &amp; Brewery</td>\n",
       "      <td>885</td>\n",
       "      <td>Kölsch</td>\n",
       "      <td>5.0</td>\n",
       "      <td>1141038000</td>\n",
       "      <td>jaluria</td>\n",
       "      <td>jaluria.31362</td>\n",
       "      <td>3.50</td>\n",
       "      <td>3.50</td>\n",
       "      <td>3.50</td>\n",
       "      <td>4.00</td>\n",
       "      <td>4.0</td>\n",
       "      <td>3.80</td>\n",
       "      <td>I'll start off reviewing this beer with the f...</td>\n",
       "      <td>True</td>\n",
       "    </tr>\n",
       "    <tr>\n",
       "      <th>8393028</th>\n",
       "      <td>Kölsch Ale</td>\n",
       "      <td>19139</td>\n",
       "      <td>Summit Station Restaurant &amp; Brewery</td>\n",
       "      <td>885</td>\n",
       "      <td>Kölsch</td>\n",
       "      <td>5.0</td>\n",
       "      <td>1140346800</td>\n",
       "      <td>Dithyramb</td>\n",
       "      <td>dithyramb.4413</td>\n",
       "      <td>3.00</td>\n",
       "      <td>3.00</td>\n",
       "      <td>3.00</td>\n",
       "      <td>2.50</td>\n",
       "      <td>3.0</td>\n",
       "      <td>2.80</td>\n",
       "      <td>Served on draft at the pub. Poured a clear ye...</td>\n",
       "      <td>True</td>\n",
       "    </tr>\n",
       "    <tr>\n",
       "      <th>8393029</th>\n",
       "      <td>Kölsch Ale</td>\n",
       "      <td>19139</td>\n",
       "      <td>Summit Station Restaurant &amp; Brewery</td>\n",
       "      <td>885</td>\n",
       "      <td>Kölsch</td>\n",
       "      <td>5.0</td>\n",
       "      <td>1092132000</td>\n",
       "      <td>ManekiNeko</td>\n",
       "      <td>manekineko.2654</td>\n",
       "      <td>3.00</td>\n",
       "      <td>1.50</td>\n",
       "      <td>1.00</td>\n",
       "      <td>1.50</td>\n",
       "      <td>1.5</td>\n",
       "      <td>1.54</td>\n",
       "      <td>Served on tap at the brewpub in a pint glass....</td>\n",
       "      <td>True</td>\n",
       "    </tr>\n",
       "    <tr>\n",
       "      <th>8393030</th>\n",
       "      <td>Nut Brown Ale</td>\n",
       "      <td>19140</td>\n",
       "      <td>Summit Station Restaurant &amp; Brewery</td>\n",
       "      <td>885</td>\n",
       "      <td>English Brown Ale</td>\n",
       "      <td>5.3</td>\n",
       "      <td>1341741600</td>\n",
       "      <td>Redsox1539</td>\n",
       "      <td>redsox1539.683632</td>\n",
       "      <td>NaN</td>\n",
       "      <td>NaN</td>\n",
       "      <td>NaN</td>\n",
       "      <td>NaN</td>\n",
       "      <td>NaN</td>\n",
       "      <td>3.50</td>\n",
       "      <td>NaN</td>\n",
       "      <td>False</td>\n",
       "    </tr>\n",
       "    <tr>\n",
       "      <th>8393031</th>\n",
       "      <td>Nut Brown Ale</td>\n",
       "      <td>19140</td>\n",
       "      <td>Summit Station Restaurant &amp; Brewery</td>\n",
       "      <td>885</td>\n",
       "      <td>English Brown Ale</td>\n",
       "      <td>5.3</td>\n",
       "      <td>1140346800</td>\n",
       "      <td>Dithyramb</td>\n",
       "      <td>dithyramb.4413</td>\n",
       "      <td>3.00</td>\n",
       "      <td>3.00</td>\n",
       "      <td>3.00</td>\n",
       "      <td>3.00</td>\n",
       "      <td>3.0</td>\n",
       "      <td>3.00</td>\n",
       "      <td>Dark brown brew served on tap at the brewpub....</td>\n",
       "      <td>True</td>\n",
       "    </tr>\n",
       "  </tbody>\n",
       "</table>\n",
       "<p>8393032 rows × 17 columns</p>\n",
       "</div>"
      ],
      "text/plain": [
       "              beer_name  beer_id                                brewery_name  \\\n",
       "0                 Régab   142544   Societe des Brasseries du Gabon (SOBRAGA)   \n",
       "1         Barelegs Brew    19590        Strangford Lough Brewing Company Ltd   \n",
       "2         Barelegs Brew    19590        Strangford Lough Brewing Company Ltd   \n",
       "3         Barelegs Brew    19590        Strangford Lough Brewing Company Ltd   \n",
       "4         Barelegs Brew    19590        Strangford Lough Brewing Company Ltd   \n",
       "...                 ...      ...                                         ...   \n",
       "8393027      Kölsch Ale    19139         Summit Station Restaurant & Brewery   \n",
       "8393028      Kölsch Ale    19139         Summit Station Restaurant & Brewery   \n",
       "8393029      Kölsch Ale    19139         Summit Station Restaurant & Brewery   \n",
       "8393030   Nut Brown Ale    19140         Summit Station Restaurant & Brewery   \n",
       "8393031   Nut Brown Ale    19140         Summit Station Restaurant & Brewery   \n",
       "\n",
       "         brewery_id               style  abv        date         user_name  \\\n",
       "0             37262     Euro Pale Lager  4.5  1440064800           nmann08   \n",
       "1             10093    English Pale Ale  4.5  1235127600       StJamesGate   \n",
       "2             10093    English Pale Ale  4.5  1142247600           mdagnew   \n",
       "3             10093    English Pale Ale  4.5  1101898800   helloloser12345   \n",
       "4             10093    English Pale Ale  4.5  1093860000        cypressbob   \n",
       "...             ...                 ...  ...         ...               ...   \n",
       "8393027         885              Kölsch  5.0  1141038000           jaluria   \n",
       "8393028         885              Kölsch  5.0  1140346800         Dithyramb   \n",
       "8393029         885              Kölsch  5.0  1092132000        ManekiNeko   \n",
       "8393030         885   English Brown Ale  5.3  1341741600        Redsox1539   \n",
       "8393031         885   English Brown Ale  5.3  1140346800         Dithyramb   \n",
       "\n",
       "                        user_id  appearance  aroma  palate  taste  overall  \\\n",
       "0                nmann08.184925        3.25   2.75    3.25   2.75      3.0   \n",
       "1            stjamesgate.163714        3.00   3.50    3.50   4.00      3.5   \n",
       "2                 mdagnew.19527        4.00   3.50    3.50   4.00      3.5   \n",
       "3         helloloser12345.10867        4.00   3.50    4.00   4.00      4.5   \n",
       "4               cypressbob.3708        4.00   4.00    4.00   4.00      4.0   \n",
       "...                         ...         ...    ...     ...    ...      ...   \n",
       "8393027           jaluria.31362        3.50   3.50    3.50   4.00      4.0   \n",
       "8393028          dithyramb.4413        3.00   3.00    3.00   2.50      3.0   \n",
       "8393029         manekineko.2654        3.00   1.50    1.00   1.50      1.5   \n",
       "8393030       redsox1539.683632         NaN    NaN     NaN    NaN      NaN   \n",
       "8393031          dithyramb.4413        3.00   3.00    3.00   3.00      3.0   \n",
       "\n",
       "         rating                                               text  review  \n",
       "0          2.88   From a bottle, pours a piss yellow color with...    True  \n",
       "1          3.67   Pours pale copper with a thin head that quick...    True  \n",
       "2          3.73   500ml Bottle bought from The Vintage, Antrim....    True  \n",
       "3          3.98   Serving: 500ml brown bottlePour: Good head wi...    True  \n",
       "4          4.00   500ml bottlePours with a light, slightly hazy...    True  \n",
       "...         ...                                                ...     ...  \n",
       "8393027    3.80   I'll start off reviewing this beer with the f...    True  \n",
       "8393028    2.80   Served on draft at the pub. Poured a clear ye...    True  \n",
       "8393029    1.54   Served on tap at the brewpub in a pint glass....    True  \n",
       "8393030    3.50                                                NaN   False  \n",
       "8393031    3.00   Dark brown brew served on tap at the brewpub....    True  \n",
       "\n",
       "[8393032 rows x 17 columns]"
      ]
     },
     "execution_count": 6,
     "metadata": {},
     "output_type": "execute_result"
    }
   ],
   "source": [
    "BA_ratings"
   ]
  },
  {
   "cell_type": "markdown",
   "metadata": {},
   "source": [
    "# Minimization of the herding effect in the z-score"
   ]
  },
  {
   "cell_type": "markdown",
   "metadata": {},
   "source": [
    "For our analysis, we will be using the matched dataset since we are not considering a comparison between BeerAdvocate and RateBeer but using the data globally. According to the article by G. Lederrey and R. West (https://doi.org/10.1145/3178876.3186160), the matched set has gone through internal and external validity in terms of being unbiased with respect to countries and beer style distributions and rating being \"approximately independent of site and product properties\".\n",
    "\n",
    "However, in order to analyze the top ranked beers for each year or merge scores and ratings from both sources, we would need to consider the herding effect. In other words, if for a certain year there is a larger number of ratings coming from the database that has being positively impacted by the herding effect, the average in rating will be higher than in the opposite case. One could consider that this effect would be mitigated by doing a macro-average but sometimes this is not the goal we are looking for and, if for a certain year, for example, we only have beers coming from the same source, the herding effect would still be present.\n",
    "\n",
    "Also important to note is that the herding effect, although continuing to be present, has a lower effect when the number of ratings for the beer is higher. It becomes approximately a stable value after the 5th rating. "
   ]
  },
  {
   "cell_type": "code",
   "execution_count": 7,
   "metadata": {
    "tags": []
   },
   "outputs": [],
   "source": [
    "# Addition of a time column in an interpretable format. Also, addition of a 'year' column.\n",
    "MB_ratingsBA = hf.correct_time(MB_ratingsBA).copy(deep=True)\n",
    "BA_ratings = hf.correct_time(BA_ratings).copy(deep=True)\n",
    "\n",
    "MB_ratingsRB = hf.correct_time(MB_ratingsRB).copy(deep=True)\n",
    "RB_ratings = hf.correct_time(RB_ratings).copy(deep=True)"
   ]
  },
  {
   "cell_type": "markdown",
   "metadata": {},
   "source": [
    "For each of the merged ratings, we will get the z-score from the original dataframe. Note that this rating score was transformed to z-score following the protocol described in the cited paper (https://doi.org/10.1145/3178876.3186160). Then, a linear regression model was fitted for each type of beer, modelling the difference between the z-score for the ith rating and the expanding average until that point. This was then detrended from the z-score value and added as an additional column ('detrend')."
   ]
  },
  {
   "cell_type": "code",
   "execution_count": 8,
   "metadata": {
    "tags": []
   },
   "outputs": [],
   "source": [
    "MB_ratingsBA = hf.zscore_merge(BA_ratings, MB_ratingsBA).copy(deep=True)\n",
    "MB_ratingsRB = hf.zscore_merge(RB_ratings, MB_ratingsRB).copy(deep=True)\n",
    "\n",
    "MB_ratings_BA = hf.he_correction(MB_ratingsBA)\n",
    "MB_ratings_RB = hf.he_correction(MB_ratingsRB)"
   ]
  },
  {
   "cell_type": "code",
   "execution_count": null,
   "metadata": {},
   "outputs": [],
   "source": [
    "MB_ratings_RB"
   ]
  },
  {
   "cell_type": "markdown",
   "metadata": {},
   "source": [
    "# Popularity analysis over time"
   ]
  },
  {
   "cell_type": "markdown",
   "metadata": {},
   "source": [
    "The rationale behind this idea is to be able to match or provide fun facts to the users of our social network about which would have been the perfect year for them to live in according to their preferences. Thus, we try to uncover trends in beers over the years.\n",
    "\n",
    "We will start by analyzing the distribution of the number of ratings for each merged beer id to discard the beers with a very low number of ratings. Although the scores have been detrended, analyzing popularity involves getting consistently a high score. If we only considered the score of the beers, a beer with a single rating but maximum score could be considered as the most popular beer for a certain year and this does not seem to reflect the situation."
   ]
  },
  {
   "cell_type": "code",
   "execution_count": 7,
   "metadata": {
    "tags": []
   },
   "outputs": [
    {
     "data": {
      "text/html": [
       "<div>\n",
       "<style scoped>\n",
       "    .dataframe tbody tr th:only-of-type {\n",
       "        vertical-align: middle;\n",
       "    }\n",
       "\n",
       "    .dataframe tbody tr th {\n",
       "        vertical-align: top;\n",
       "    }\n",
       "\n",
       "    .dataframe thead th {\n",
       "        text-align: right;\n",
       "    }\n",
       "</style>\n",
       "<table border=\"1\" class=\"dataframe\">\n",
       "  <thead>\n",
       "    <tr style=\"text-align: right;\">\n",
       "      <th></th>\n",
       "      <th>beer_id_BA</th>\n",
       "      <th>beer_name_BA</th>\n",
       "      <th>beer_id_RB</th>\n",
       "      <th>beer_name_RB</th>\n",
       "      <th>nbr_ratings_BA</th>\n",
       "      <th>nbr_ratings_RB</th>\n",
       "      <th>style_BA</th>\n",
       "      <th>style_RB</th>\n",
       "      <th>diff</th>\n",
       "      <th>sim</th>\n",
       "    </tr>\n",
       "  </thead>\n",
       "  <tbody>\n",
       "    <tr>\n",
       "      <th>0</th>\n",
       "      <td>19827</td>\n",
       "      <td>Legbiter</td>\n",
       "      <td>37923</td>\n",
       "      <td>Strangford Lough Legbiter</td>\n",
       "      <td>75</td>\n",
       "      <td>89</td>\n",
       "      <td>English Pale Ale</td>\n",
       "      <td>Golden Ale/Blond Ale</td>\n",
       "      <td>1.000000</td>\n",
       "      <td>1.0</td>\n",
       "    </tr>\n",
       "    <tr>\n",
       "      <th>1</th>\n",
       "      <td>20841</td>\n",
       "      <td>St. Patrick's Ale</td>\n",
       "      <td>41286</td>\n",
       "      <td>Strangford Lough St. Patricks Ale</td>\n",
       "      <td>8</td>\n",
       "      <td>11</td>\n",
       "      <td>English Pale Ale</td>\n",
       "      <td>Irish Ale</td>\n",
       "      <td>0.527141</td>\n",
       "      <td>1.0</td>\n",
       "    </tr>\n",
       "    <tr>\n",
       "      <th>2</th>\n",
       "      <td>20842</td>\n",
       "      <td>St. Patrick's Best</td>\n",
       "      <td>41287</td>\n",
       "      <td>Strangford Lough St. Patricks Best</td>\n",
       "      <td>64</td>\n",
       "      <td>74</td>\n",
       "      <td>English Bitter</td>\n",
       "      <td>Bitter</td>\n",
       "      <td>0.527141</td>\n",
       "      <td>1.0</td>\n",
       "    </tr>\n",
       "    <tr>\n",
       "      <th>3</th>\n",
       "      <td>22659</td>\n",
       "      <td>St. Patrick's Gold</td>\n",
       "      <td>41285</td>\n",
       "      <td>Strangford Lough St. Patricks Gold</td>\n",
       "      <td>1</td>\n",
       "      <td>4</td>\n",
       "      <td>American Pale Wheat Ale</td>\n",
       "      <td>Amber Ale</td>\n",
       "      <td>0.527141</td>\n",
       "      <td>1.0</td>\n",
       "    </tr>\n",
       "    <tr>\n",
       "      <th>4</th>\n",
       "      <td>178681</td>\n",
       "      <td>Sheelin Stout</td>\n",
       "      <td>230283</td>\n",
       "      <td>Sheelin Stout</td>\n",
       "      <td>0</td>\n",
       "      <td>2</td>\n",
       "      <td>Irish Dry Stout</td>\n",
       "      <td>Mild Ale</td>\n",
       "      <td>1.000000</td>\n",
       "      <td>1.0</td>\n",
       "    </tr>\n",
       "    <tr>\n",
       "      <th>...</th>\n",
       "      <td>...</td>\n",
       "      <td>...</td>\n",
       "      <td>...</td>\n",
       "      <td>...</td>\n",
       "      <td>...</td>\n",
       "      <td>...</td>\n",
       "      <td>...</td>\n",
       "      <td>...</td>\n",
       "      <td>...</td>\n",
       "      <td>...</td>\n",
       "    </tr>\n",
       "    <tr>\n",
       "      <th>45635</th>\n",
       "      <td>96911</td>\n",
       "      <td>Pale Ale</td>\n",
       "      <td>242782</td>\n",
       "      <td>Do Can Pale Ale</td>\n",
       "      <td>4</td>\n",
       "      <td>1</td>\n",
       "      <td>English Pale Ale</td>\n",
       "      <td>India Pale Ale (IPA)</td>\n",
       "      <td>1.000000</td>\n",
       "      <td>1.0</td>\n",
       "    </tr>\n",
       "    <tr>\n",
       "      <th>45636</th>\n",
       "      <td>37457</td>\n",
       "      <td>Mustang Gold Ale</td>\n",
       "      <td>68764</td>\n",
       "      <td>Warbird Mustang Gold Ale</td>\n",
       "      <td>22</td>\n",
       "      <td>57</td>\n",
       "      <td>American Blonde Ale</td>\n",
       "      <td>Golden Ale/Blond Ale</td>\n",
       "      <td>0.806680</td>\n",
       "      <td>1.0</td>\n",
       "    </tr>\n",
       "    <tr>\n",
       "      <th>45637</th>\n",
       "      <td>47287</td>\n",
       "      <td>Shanty Irish</td>\n",
       "      <td>76984</td>\n",
       "      <td>Warbird Shanty Irish</td>\n",
       "      <td>10</td>\n",
       "      <td>50</td>\n",
       "      <td>Irish Red Ale</td>\n",
       "      <td>Irish Ale</td>\n",
       "      <td>1.000000</td>\n",
       "      <td>1.0</td>\n",
       "    </tr>\n",
       "    <tr>\n",
       "      <th>45638</th>\n",
       "      <td>37177</td>\n",
       "      <td>Thunderbolt Wheat</td>\n",
       "      <td>78298</td>\n",
       "      <td>Warbird Thunderbolt Wheat</td>\n",
       "      <td>21</td>\n",
       "      <td>59</td>\n",
       "      <td>Hefeweizen</td>\n",
       "      <td>German Hefeweizen</td>\n",
       "      <td>1.000000</td>\n",
       "      <td>1.0</td>\n",
       "    </tr>\n",
       "    <tr>\n",
       "      <th>45639</th>\n",
       "      <td>36418</td>\n",
       "      <td>Warhawk Pale Ale</td>\n",
       "      <td>68765</td>\n",
       "      <td>Warbird Warhawk Pale Ale</td>\n",
       "      <td>38</td>\n",
       "      <td>69</td>\n",
       "      <td>American Pale Ale (APA)</td>\n",
       "      <td>American Pale Ale</td>\n",
       "      <td>0.806680</td>\n",
       "      <td>1.0</td>\n",
       "    </tr>\n",
       "  </tbody>\n",
       "</table>\n",
       "<p>45640 rows × 10 columns</p>\n",
       "</div>"
      ],
      "text/plain": [
       "       beer_id_BA        beer_name_BA  beer_id_RB  \\\n",
       "0           19827            Legbiter       37923   \n",
       "1           20841   St. Patrick's Ale       41286   \n",
       "2           20842  St. Patrick's Best       41287   \n",
       "3           22659  St. Patrick's Gold       41285   \n",
       "4          178681       Sheelin Stout      230283   \n",
       "...           ...                 ...         ...   \n",
       "45635       96911            Pale Ale      242782   \n",
       "45636       37457    Mustang Gold Ale       68764   \n",
       "45637       47287        Shanty Irish       76984   \n",
       "45638       37177   Thunderbolt Wheat       78298   \n",
       "45639       36418    Warhawk Pale Ale       68765   \n",
       "\n",
       "                             beer_name_RB  nbr_ratings_BA  nbr_ratings_RB  \\\n",
       "0               Strangford Lough Legbiter              75              89   \n",
       "1       Strangford Lough St. Patricks Ale               8              11   \n",
       "2      Strangford Lough St. Patricks Best              64              74   \n",
       "3      Strangford Lough St. Patricks Gold               1               4   \n",
       "4                           Sheelin Stout               0               2   \n",
       "...                                   ...             ...             ...   \n",
       "45635                     Do Can Pale Ale               4               1   \n",
       "45636            Warbird Mustang Gold Ale              22              57   \n",
       "45637                Warbird Shanty Irish              10              50   \n",
       "45638          Warbird Thunderbolt Wheat               21              59   \n",
       "45639            Warbird Warhawk Pale Ale              38              69   \n",
       "\n",
       "                      style_BA              style_RB      diff  sim  \n",
       "0             English Pale Ale  Golden Ale/Blond Ale  1.000000  1.0  \n",
       "1             English Pale Ale             Irish Ale  0.527141  1.0  \n",
       "2               English Bitter                Bitter  0.527141  1.0  \n",
       "3      American Pale Wheat Ale             Amber Ale  0.527141  1.0  \n",
       "4              Irish Dry Stout              Mild Ale  1.000000  1.0  \n",
       "...                        ...                   ...       ...  ...  \n",
       "45635         English Pale Ale  India Pale Ale (IPA)  1.000000  1.0  \n",
       "45636      American Blonde Ale  Golden Ale/Blond Ale  0.806680  1.0  \n",
       "45637            Irish Red Ale             Irish Ale  1.000000  1.0  \n",
       "45638               Hefeweizen     German Hefeweizen  1.000000  1.0  \n",
       "45639  American Pale Ale (APA)     American Pale Ale  0.806680  1.0  \n",
       "\n",
       "[45640 rows x 10 columns]"
      ]
     },
     "execution_count": 7,
     "metadata": {},
     "output_type": "execute_result"
    }
   ],
   "source": [
    "# Filtering of the data to only keep the useful columns\n",
    "columns_to_keep = ['beer_id', 'beer_name','beer_id.1','beer_name.1','nbr_ratings', 'nbr_ratings.1', 'style', 'style.1','diff','sim']\n",
    "\n",
    "# Keep the specified columns\n",
    "MB_beers_filtered = MB_beers.filter(columns_to_keep)\n",
    "MB_beers_filtered = MB_beers_filtered.rename(columns={'beer_id': 'beer_id_BA', 'beer_name': 'beer_name_BA', 'beer_id.1': 'beer_id_RB', 'beer_name.1': 'beer_name_RB', 'nbr_ratings': 'nbr_ratings_BA', 'nbr_ratings.1': 'nbr_ratings_RB', 'style': 'style_BA', 'style.1': 'style_RB'})\n",
    "MB_beers_filtered"
   ]
  },
  {
   "cell_type": "code",
   "execution_count": 8,
   "metadata": {
    "tags": []
   },
   "outputs": [
    {
     "data": {
      "text/plain": [
       "Text(0.5, 0, 'Number of ratings (RB)')"
      ]
     },
     "execution_count": 8,
     "metadata": {},
     "output_type": "execute_result"
    },
    {
     "data": {
      "image/png": "[encoded data removed]",
      "text/plain": [
       "<Figure size 1400x400 with 2 Axes>"
      ]
     },
     "metadata": {},
     "output_type": "display_data"
    }
   ],
   "source": [
    "f,axs = plt.subplots(nrows=1, ncols=2, figsize=(14,4), sharey=False, gridspec_kw={'width_ratios':[1,1], 'wspace': 0.5})\n",
    "\n",
    "MB_beers_filtered['nbr_ratings_BA'].sort_values().plot(kind='hist', range = (0, 100), bins= 100, ax=axs[0])\n",
    "axs[0].set_xlabel('Number of ratings (BA)')\n",
    "MB_beers_filtered['nbr_ratings_RB'].sort_values().plot(kind='hist', range = (0, 150), bins= 150, ax=axs[1])\n",
    "axs[1].set_xlabel('Number of ratings (RB)')"
   ]
  },
  {
   "cell_type": "code",
   "execution_count": 9,
   "metadata": {
    "tags": []
   },
   "outputs": [
    {
     "data": {
      "text/plain": [
       "count    45640.000000\n",
       "mean        20.945837\n",
       "std        137.768038\n",
       "min          0.000000\n",
       "25%          1.000000\n",
       "50%          3.000000\n",
       "75%          8.000000\n",
       "max       9228.000000\n",
       "Name: nbr_ratings_BA, dtype: float64"
      ]
     },
     "execution_count": 9,
     "metadata": {},
     "output_type": "execute_result"
    }
   ],
   "source": [
    "MB_beers_filtered.nbr_ratings_BA.describe()"
   ]
  },
  {
   "cell_type": "code",
   "execution_count": 10,
   "metadata": {
    "tags": []
   },
   "outputs": [
    {
     "data": {
      "text/plain": [
       "count    45640.000000\n",
       "mean        22.362796\n",
       "std         80.107455\n",
       "min          0.000000\n",
       "25%          2.000000\n",
       "50%          5.000000\n",
       "75%         16.000000\n",
       "max       5272.000000\n",
       "Name: nbr_ratings_RB, dtype: float64"
      ]
     },
     "execution_count": 10,
     "metadata": {},
     "output_type": "execute_result"
    }
   ],
   "source": [
    "MB_beers_filtered.nbr_ratings_RB.describe()"
   ]
  },
  {
   "cell_type": "markdown",
   "metadata": {},
   "source": [
    "Seeing this basic statistics and having observed the histograms we will filter out so that we keep beers with at least 5 ratings for both of the datasets (columns 'nbr_ratings_BA' and 'nbr_ratings_RB'). This will later help us in dimishing the **herding effect**."
   ]
  },
  {
   "cell_type": "code",
   "execution_count": 11,
   "metadata": {
    "tags": []
   },
   "outputs": [],
   "source": [
    "filt_MB_beers = MB_beers_filtered[(MB_beers_filtered['nbr_ratings_BA'] >= 5) & (MB_beers_filtered['nbr_ratings_RB'] >= 5)].copy(deep=True) "
   ]
  },
  {
   "cell_type": "markdown",
   "metadata": {},
   "source": [
    "Fig. 6 in the previously mentioned paper, shows that the herding effect, although never converging to 0, becomes stable with a larger number of ratings with respect to the first one. Thus, we will keep the beers with at least 5 ratings. Note that 5 is the median value of the number of ratings in RateBeer but, in the case of BearAdvocate, it is below it. However, discarding these samples still leaves us with approximately 30% of the data which is a large amount of data (12890 beers).\n",
    "Then, we will devide the data into 3 groups, trying to make groups with a similar amount of data (although not exactly equal) in terms of the number of received ratings by using the tertiales of the filtered dataframe."
   ]
  },
  {
   "cell_type": "code",
   "execution_count": 12,
   "metadata": {
    "tags": []
   },
   "outputs": [
    {
     "data": {
      "text/plain": [
       "0.33    11.0\n",
       "0.67    31.0\n",
       "Name: nbr_ratings_BA, dtype: float64"
      ]
     },
     "metadata": {},
     "output_type": "display_data"
    },
    {
     "data": {
      "text/plain": [
       "0.33    11.0\n",
       "0.67    36.0\n",
       "Name: nbr_ratings_RB, dtype: float64"
      ]
     },
     "execution_count": 12,
     "metadata": {},
     "output_type": "execute_result"
    }
   ],
   "source": [
    "display(filt_MB_beers['nbr_ratings_BA'].quantile([0.33, 0.67]))\n",
    "filt_MB_beers['nbr_ratings_RB'].quantile([0.33, 0.67])"
   ]
  },
  {
   "cell_type": "markdown",
   "metadata": {},
   "source": [
    "Now, we will do a scatter plot for each beer (in different colors) to see the trend in the herding effect. We will quantize the effect as the relation with respect to the average of the previous ratings. Note that this graph will be measured up until the minimum number of ratings used to determine the partition in the previous step (since this is the assured number of ratings that all the beers in the group will have).\n",
    "\n",
    "Since we are planning to do a time analysis throughout the different years, we will transform the date column to an interpretable data type. This will also be used to calculate the z-score for each of the ratings."
   ]
  },
  {
   "cell_type": "markdown",
   "metadata": {},
   "source": [
    "### Preprocessing of the data required for time-analysis"
   ]
  },
  {
   "cell_type": "markdown",
   "metadata": {},
   "source": [
    "### BA data"
   ]
  },
  {
   "cell_type": "code",
   "execution_count": 14,
   "metadata": {
    "tags": []
   },
   "outputs": [
    {
     "data": {
      "image/png": "[encoded data removed]",
      "text/plain": [
       "<Figure size 640x480 with 1 Axes>"
      ]
     },
     "metadata": {},
     "output_type": "display_data"
    }
   ],
   "source": [
    "# BA data\n",
    "S_beer_id_BA = filt_MB_beers.beer_id_BA[filt_MB_beers['nbr_ratings_BA']<=11].to_numpy()\n",
    "M_beer_id_BA = filt_MB_beers.beer_id_BA[(filt_MB_beers['nbr_ratings_BA']>11) & (filt_MB_beers['nbr_ratings_BA']<=31)].to_numpy()\n",
    "L_beer_id_BA = filt_MB_beers.beer_id_BA[filt_MB_beers['nbr_ratings_BA']>31].to_numpy()\n",
    "\n",
    "S_ratings_BA = MB_ratingsBA[MB_ratingsBA['beer_id'].isin(S_beer_id_BA)].copy(deep=True)\n",
    "M_ratings_BA = MB_ratingsBA[MB_ratingsBA['beer_id'].isin(M_beer_id_BA)].copy(deep=True)\n",
    "L_ratings_BA = MB_ratingsBA[MB_ratingsBA['beer_id'].isin(L_beer_id_BA)].copy(deep=True)\n",
    "\n",
    "S_ratings_BA = hf.he_correction(S_ratings_BA, 5, plotting=True)\n",
    "M_ratings_BA = hf.he_correction(M_ratings_BA, 12)\n",
    "L_ratings_BA = hf.he_correction(L_ratings_BA, 32)"
   ]
  },
  {
   "cell_type": "markdown",
   "metadata": {
    "tags": []
   },
   "source": [
    "### RB data"
   ]
  },
  {
   "cell_type": "code",
   "execution_count": 15,
   "metadata": {},
   "outputs": [],
   "source": [
    "# RB data\n",
    "S_beer_id_RB = filt_MB_beers.beer_id_RB[filt_MB_beers['nbr_ratings_RB']<=11].to_numpy()\n",
    "M_beer_id_RB = filt_MB_beers.beer_id_RB[(filt_MB_beers['nbr_ratings_RB']>11) & (filt_MB_beers['nbr_ratings_BA']<=36)].to_numpy()\n",
    "L_beer_id_RB = filt_MB_beers.beer_id_RB[filt_MB_beers['nbr_ratings_RB']>36].to_numpy()\n",
    "\n",
    "S_ratings_RB = MB_ratingsRB[MB_ratingsRB['beer_id'].isin(S_beer_id_RB)].copy(deep=True)\n",
    "M_ratings_RB = MB_ratingsRB[MB_ratingsRB['beer_id'].isin(M_beer_id_RB)].copy(deep=True)\n",
    "L_ratings_RB = MB_ratingsRB[MB_ratingsRB['beer_id'].isin(L_beer_id_RB)].copy(deep=True)\n",
    "\n",
    "S_ratings_RB = hf.he_correction(S_ratings_RB, 5)\n",
    "M_ratings_RB = hf.he_correction(M_ratings_RB, 12)\n",
    "L_ratings_RB = hf.he_correction(L_ratings_RB, 37)"
   ]
  },
  {
   "cell_type": "markdown",
   "metadata": {},
   "source": [
    "### Macro-averages"
   ]
  },
  {
   "cell_type": "code",
   "execution_count": 16,
   "metadata": {},
   "outputs": [],
   "source": [
    "MB_ratingsBA = MB_ratingsBA.merge(pd.concat([S_ratings_BA, M_ratings_BA, L_ratings_BA])).copy(deep=True)\n",
    "MB_ratingsRB = MB_ratingsRB.merge(pd.concat([S_ratings_RB, M_ratings_RB, L_ratings_RB])).copy(deep=True)"
   ]
  },
  {
   "cell_type": "code",
   "execution_count": 37,
   "metadata": {},
   "outputs": [],
   "source": [
    "avgBA = MB_ratingsBA.groupby(['year', 'beer_id'])['detrend'].mean()\n",
    "avgRB = MB_ratingsRB.groupby(['year', 'beer_id'])['detrend'].mean()"
   ]
  },
  {
   "cell_type": "code",
   "execution_count": 38,
   "metadata": {},
   "outputs": [],
   "source": [
    "avgBA_df = avgBA.reset_index()\n",
    "avgBA_df = avgBA_df.rename(columns={'detrend': 'detrend_BA', 'beer_id': 'beer_id_BA'})\n",
    "avgRB_df = avgRB.reset_index()\n",
    "avgRB_df = avgRB_df.rename(columns={'detrend': 'detrend_RB', 'beer_id': 'beer_id_RB'})\n",
    "\n",
    "matching_RB_id = []\n",
    "for number in avgBA_df['beer_id_BA']:\n",
    "    matching_RB_id.append(filt_MB_beers.beer_id_RB[filt_MB_beers['beer_id_BA']== number].to_numpy()[0])\n",
    "       \n",
    "avgBA_df['beer_id_RB'] = matching_RB_id"
   ]
  },
  {
   "cell_type": "code",
   "execution_count": 39,
   "metadata": {
    "tags": []
   },
   "outputs": [],
   "source": [
    "macro = avgBA_df.merge(avgRB_df, on=['beer_id_RB', 'year'], how='outer')\n",
    "macro = macro.drop('beer_id_BA', axis=1)\n",
    "\n",
    "macro['average'] = macro[['detrend_BA', 'detrend_RB']].mean(axis=1)"
   ]
  },
  {
   "cell_type": "code",
   "execution_count": 40,
   "metadata": {
    "tags": []
   },
   "outputs": [
    {
     "data": {
      "text/html": [
       "<div>\n",
       "<style scoped>\n",
       "    .dataframe tbody tr th:only-of-type {\n",
       "        vertical-align: middle;\n",
       "    }\n",
       "\n",
       "    .dataframe tbody tr th {\n",
       "        vertical-align: top;\n",
       "    }\n",
       "\n",
       "    .dataframe thead th {\n",
       "        text-align: right;\n",
       "    }\n",
       "</style>\n",
       "<table border=\"1\" class=\"dataframe\">\n",
       "  <thead>\n",
       "    <tr style=\"text-align: right;\">\n",
       "      <th></th>\n",
       "      <th>year</th>\n",
       "      <th>detrend_BA</th>\n",
       "      <th>beer_id_RB</th>\n",
       "      <th>detrend_RB</th>\n",
       "      <th>average</th>\n",
       "    </tr>\n",
       "  </thead>\n",
       "  <tbody>\n",
       "    <tr>\n",
       "      <th>0</th>\n",
       "      <td>1998</td>\n",
       "      <td>0.574938</td>\n",
       "      <td>966</td>\n",
       "      <td>NaN</td>\n",
       "      <td>0.574938</td>\n",
       "    </tr>\n",
       "    <tr>\n",
       "      <th>1</th>\n",
       "      <td>1998</td>\n",
       "      <td>-0.882523</td>\n",
       "      <td>529</td>\n",
       "      <td>NaN</td>\n",
       "      <td>-0.882523</td>\n",
       "    </tr>\n",
       "    <tr>\n",
       "      <th>2</th>\n",
       "      <td>1998</td>\n",
       "      <td>-0.994041</td>\n",
       "      <td>528</td>\n",
       "      <td>NaN</td>\n",
       "      <td>-0.994041</td>\n",
       "    </tr>\n",
       "    <tr>\n",
       "      <th>3</th>\n",
       "      <td>1998</td>\n",
       "      <td>-0.834351</td>\n",
       "      <td>8735</td>\n",
       "      <td>NaN</td>\n",
       "      <td>-0.834351</td>\n",
       "    </tr>\n",
       "    <tr>\n",
       "      <th>4</th>\n",
       "      <td>1998</td>\n",
       "      <td>-0.224596</td>\n",
       "      <td>8330</td>\n",
       "      <td>NaN</td>\n",
       "      <td>-0.224596</td>\n",
       "    </tr>\n",
       "    <tr>\n",
       "      <th>...</th>\n",
       "      <td>...</td>\n",
       "      <td>...</td>\n",
       "      <td>...</td>\n",
       "      <td>...</td>\n",
       "      <td>...</td>\n",
       "    </tr>\n",
       "    <tr>\n",
       "      <th>67041</th>\n",
       "      <td>2017</td>\n",
       "      <td>NaN</td>\n",
       "      <td>460124</td>\n",
       "      <td>0.386939</td>\n",
       "      <td>0.386939</td>\n",
       "    </tr>\n",
       "    <tr>\n",
       "      <th>67042</th>\n",
       "      <td>2017</td>\n",
       "      <td>NaN</td>\n",
       "      <td>460203</td>\n",
       "      <td>-1.584041</td>\n",
       "      <td>-1.584041</td>\n",
       "    </tr>\n",
       "    <tr>\n",
       "      <th>67043</th>\n",
       "      <td>2017</td>\n",
       "      <td>NaN</td>\n",
       "      <td>461933</td>\n",
       "      <td>-0.071984</td>\n",
       "      <td>-0.071984</td>\n",
       "    </tr>\n",
       "    <tr>\n",
       "      <th>67044</th>\n",
       "      <td>2017</td>\n",
       "      <td>NaN</td>\n",
       "      <td>462240</td>\n",
       "      <td>-0.192898</td>\n",
       "      <td>-0.192898</td>\n",
       "    </tr>\n",
       "    <tr>\n",
       "      <th>67045</th>\n",
       "      <td>2017</td>\n",
       "      <td>NaN</td>\n",
       "      <td>463937</td>\n",
       "      <td>0.492026</td>\n",
       "      <td>0.492026</td>\n",
       "    </tr>\n",
       "  </tbody>\n",
       "</table>\n",
       "<p>67046 rows × 5 columns</p>\n",
       "</div>"
      ],
      "text/plain": [
       "       year  detrend_BA  beer_id_RB  detrend_RB   average\n",
       "0      1998    0.574938         966         NaN  0.574938\n",
       "1      1998   -0.882523         529         NaN -0.882523\n",
       "2      1998   -0.994041         528         NaN -0.994041\n",
       "3      1998   -0.834351        8735         NaN -0.834351\n",
       "4      1998   -0.224596        8330         NaN -0.224596\n",
       "...     ...         ...         ...         ...       ...\n",
       "67041  2017         NaN      460124    0.386939  0.386939\n",
       "67042  2017         NaN      460203   -1.584041 -1.584041\n",
       "67043  2017         NaN      461933   -0.071984 -0.071984\n",
       "67044  2017         NaN      462240   -0.192898 -0.192898\n",
       "67045  2017         NaN      463937    0.492026  0.492026\n",
       "\n",
       "[67046 rows x 5 columns]"
      ]
     },
     "execution_count": 40,
     "metadata": {},
     "output_type": "execute_result"
    }
   ],
   "source": [
    "macro"
   ]
  },
  {
   "cell_type": "markdown",
   "metadata": {},
   "source": [
    "### Top beer each year"
   ]
  },
  {
   "cell_type": "code",
   "execution_count": 41,
   "metadata": {
    "tags": []
   },
   "outputs": [],
   "source": [
    "result = macro.loc[macro.groupby('year')['average'].idxmax()]"
   ]
  },
  {
   "cell_type": "code",
   "execution_count": 42,
   "metadata": {
    "tags": []
   },
   "outputs": [
    {
     "data": {
      "text/html": [
       "<div>\n",
       "<style scoped>\n",
       "    .dataframe tbody tr th:only-of-type {\n",
       "        vertical-align: middle;\n",
       "    }\n",
       "\n",
       "    .dataframe tbody tr th {\n",
       "        vertical-align: top;\n",
       "    }\n",
       "\n",
       "    .dataframe thead th {\n",
       "        text-align: right;\n",
       "    }\n",
       "</style>\n",
       "<table border=\"1\" class=\"dataframe\">\n",
       "  <thead>\n",
       "    <tr style=\"text-align: right;\">\n",
       "      <th></th>\n",
       "      <th>year</th>\n",
       "      <th>detrend_BA</th>\n",
       "      <th>beer_id_RB</th>\n",
       "      <th>detrend_RB</th>\n",
       "      <th>average</th>\n",
       "    </tr>\n",
       "  </thead>\n",
       "  <tbody>\n",
       "    <tr>\n",
       "      <th>0</th>\n",
       "      <td>1998</td>\n",
       "      <td>0.574938</td>\n",
       "      <td>966</td>\n",
       "      <td>NaN</td>\n",
       "      <td>0.574938</td>\n",
       "    </tr>\n",
       "    <tr>\n",
       "      <th>6</th>\n",
       "      <td>1999</td>\n",
       "      <td>-0.165385</td>\n",
       "      <td>2094</td>\n",
       "      <td>NaN</td>\n",
       "      <td>-0.165385</td>\n",
       "    </tr>\n",
       "    <tr>\n",
       "      <th>53817</th>\n",
       "      <td>2000</td>\n",
       "      <td>NaN</td>\n",
       "      <td>6075</td>\n",
       "      <td>1.441052</td>\n",
       "      <td>1.441052</td>\n",
       "    </tr>\n",
       "    <tr>\n",
       "      <th>53959</th>\n",
       "      <td>2001</td>\n",
       "      <td>NaN</td>\n",
       "      <td>5941</td>\n",
       "      <td>1.695255</td>\n",
       "      <td>1.695255</td>\n",
       "    </tr>\n",
       "    <tr>\n",
       "      <th>54429</th>\n",
       "      <td>2002</td>\n",
       "      <td>NaN</td>\n",
       "      <td>16520</td>\n",
       "      <td>1.716757</td>\n",
       "      <td>1.716757</td>\n",
       "    </tr>\n",
       "    <tr>\n",
       "      <th>888</th>\n",
       "      <td>2003</td>\n",
       "      <td>1.724326</td>\n",
       "      <td>22663</td>\n",
       "      <td>NaN</td>\n",
       "      <td>1.724326</td>\n",
       "    </tr>\n",
       "    <tr>\n",
       "      <th>55236</th>\n",
       "      <td>2004</td>\n",
       "      <td>NaN</td>\n",
       "      <td>25325</td>\n",
       "      <td>1.733733</td>\n",
       "      <td>1.733733</td>\n",
       "    </tr>\n",
       "    <tr>\n",
       "      <th>55798</th>\n",
       "      <td>2005</td>\n",
       "      <td>NaN</td>\n",
       "      <td>32190</td>\n",
       "      <td>2.338038</td>\n",
       "      <td>2.338038</td>\n",
       "    </tr>\n",
       "    <tr>\n",
       "      <th>56193</th>\n",
       "      <td>2006</td>\n",
       "      <td>NaN</td>\n",
       "      <td>15127</td>\n",
       "      <td>1.787023</td>\n",
       "      <td>1.787023</td>\n",
       "    </tr>\n",
       "    <tr>\n",
       "      <th>57376</th>\n",
       "      <td>2007</td>\n",
       "      <td>NaN</td>\n",
       "      <td>82103</td>\n",
       "      <td>2.020311</td>\n",
       "      <td>2.020311</td>\n",
       "    </tr>\n",
       "    <tr>\n",
       "      <th>58102</th>\n",
       "      <td>2008</td>\n",
       "      <td>NaN</td>\n",
       "      <td>91969</td>\n",
       "      <td>2.040184</td>\n",
       "      <td>2.040184</td>\n",
       "    </tr>\n",
       "    <tr>\n",
       "      <th>58450</th>\n",
       "      <td>2009</td>\n",
       "      <td>NaN</td>\n",
       "      <td>23581</td>\n",
       "      <td>1.866355</td>\n",
       "      <td>1.866355</td>\n",
       "    </tr>\n",
       "    <tr>\n",
       "      <th>59384</th>\n",
       "      <td>2010</td>\n",
       "      <td>NaN</td>\n",
       "      <td>44780</td>\n",
       "      <td>2.744307</td>\n",
       "      <td>2.744307</td>\n",
       "    </tr>\n",
       "    <tr>\n",
       "      <th>60333</th>\n",
       "      <td>2011</td>\n",
       "      <td>NaN</td>\n",
       "      <td>85754</td>\n",
       "      <td>2.550876</td>\n",
       "      <td>2.550876</td>\n",
       "    </tr>\n",
       "    <tr>\n",
       "      <th>61521</th>\n",
       "      <td>2012</td>\n",
       "      <td>NaN</td>\n",
       "      <td>187745</td>\n",
       "      <td>2.793126</td>\n",
       "      <td>2.793126</td>\n",
       "    </tr>\n",
       "    <tr>\n",
       "      <th>62563</th>\n",
       "      <td>2013</td>\n",
       "      <td>NaN</td>\n",
       "      <td>242325</td>\n",
       "      <td>2.636249</td>\n",
       "      <td>2.636249</td>\n",
       "    </tr>\n",
       "    <tr>\n",
       "      <th>23451</th>\n",
       "      <td>2014</td>\n",
       "      <td>2.425156</td>\n",
       "      <td>56321</td>\n",
       "      <td>NaN</td>\n",
       "      <td>2.425156</td>\n",
       "    </tr>\n",
       "    <tr>\n",
       "      <th>63678</th>\n",
       "      <td>2015</td>\n",
       "      <td>NaN</td>\n",
       "      <td>139485</td>\n",
       "      <td>2.786528</td>\n",
       "      <td>2.786528</td>\n",
       "    </tr>\n",
       "    <tr>\n",
       "      <th>65023</th>\n",
       "      <td>2016</td>\n",
       "      <td>NaN</td>\n",
       "      <td>248525</td>\n",
       "      <td>2.994035</td>\n",
       "      <td>2.994035</td>\n",
       "    </tr>\n",
       "    <tr>\n",
       "      <th>50490</th>\n",
       "      <td>2017</td>\n",
       "      <td>3.403345</td>\n",
       "      <td>304296</td>\n",
       "      <td>NaN</td>\n",
       "      <td>3.403345</td>\n",
       "    </tr>\n",
       "  </tbody>\n",
       "</table>\n",
       "</div>"
      ],
      "text/plain": [
       "       year  detrend_BA  beer_id_RB  detrend_RB   average\n",
       "0      1998    0.574938         966         NaN  0.574938\n",
       "6      1999   -0.165385        2094         NaN -0.165385\n",
       "53817  2000         NaN        6075    1.441052  1.441052\n",
       "53959  2001         NaN        5941    1.695255  1.695255\n",
       "54429  2002         NaN       16520    1.716757  1.716757\n",
       "888    2003    1.724326       22663         NaN  1.724326\n",
       "55236  2004         NaN       25325    1.733733  1.733733\n",
       "55798  2005         NaN       32190    2.338038  2.338038\n",
       "56193  2006         NaN       15127    1.787023  1.787023\n",
       "57376  2007         NaN       82103    2.020311  2.020311\n",
       "58102  2008         NaN       91969    2.040184  2.040184\n",
       "58450  2009         NaN       23581    1.866355  1.866355\n",
       "59384  2010         NaN       44780    2.744307  2.744307\n",
       "60333  2011         NaN       85754    2.550876  2.550876\n",
       "61521  2012         NaN      187745    2.793126  2.793126\n",
       "62563  2013         NaN      242325    2.636249  2.636249\n",
       "23451  2014    2.425156       56321         NaN  2.425156\n",
       "63678  2015         NaN      139485    2.786528  2.786528\n",
       "65023  2016         NaN      248525    2.994035  2.994035\n",
       "50490  2017    3.403345      304296         NaN  3.403345"
      ]
     },
     "execution_count": 42,
     "metadata": {},
     "output_type": "execute_result"
    }
   ],
   "source": [
    "result"
   ]
  },
  {
   "cell_type": "code",
   "execution_count": null,
   "metadata": {},
   "outputs": [],
   "source": []
  }
 ],
 "metadata": {
  "kernelspec": {
   "display_name": "Python 3 (ipykernel)",
   "language": "python",
   "name": "python3"
  },
  "language_info": {
   "codemirror_mode": {
    "name": "ipython",
    "version": 3
   },
   "file_extension": ".py",
   "mimetype": "text/x-python",
   "name": "python",
   "nbconvert_exporter": "python",
   "pygments_lexer": "ipython3",
   "version": "3.9.18"
  }
 },
 "nbformat": 4,
 "nbformat_minor": 4
}
