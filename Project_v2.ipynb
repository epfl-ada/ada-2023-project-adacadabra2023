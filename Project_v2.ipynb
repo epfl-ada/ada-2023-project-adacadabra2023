{
 "cells": [
  {
   "cell_type": "markdown",
   "metadata": {},
   "source": [
    "# Data upload"
   ]
  },
  {
   "cell_type": "code",
   "execution_count": 1,
   "metadata": {
    "tags": []
   },
   "outputs": [],
   "source": [
    "import tarfile\n",
    "import pandas as pd\n",
    "import numpy as np\n",
    "import matplotlib.pyplot as plt\n",
    "import re\n",
    "import os\n",
    "import gzip\n",
    "import Preprocessing as pproc \n",
    "import HerdingFunctions as hf\n",
    "\n",
    "directory = os.getcwd()\n",
    "data_path = os.path.join(directory, 'Data')\n",
    "\n",
    "# Definining the path for the files\n",
    "RB_path = os.path.join(data_path, 'RateBeer')\n",
    "BA_path = os.path.join(data_path, 'BeerAdvocate')\n",
    "MB_path = os.path.join(data_path, 'matched_beer_data')"
   ]
  },
  {
   "cell_type": "markdown",
   "metadata": {
    "jp-MarkdownHeadingCollapsed": true,
    "tags": []
   },
   "source": [
    "# Extraction of the data and preprocessing of the files"
   ]
  },
  {
   "cell_type": "code",
   "execution_count": 2,
   "metadata": {
    "tags": []
   },
   "outputs": [],
   "source": [
    "# Extraction of the .tar files\n",
    "pproc.extract_tar_files(data_path)"
   ]
  },
  {
   "cell_type": "code",
   "execution_count": 5,
   "metadata": {},
   "outputs": [],
   "source": [
    "#Transformation of the .txt files\n",
    "pproc.text_to_csv(RB_path, 'ratings')\n",
    "pproc.text_to_csv(RB_path, 'reviews')\n",
    "\n",
    "pproc.text_to_csv(BA_path, 'ratings')\n",
    "pproc.text_to_csv(BA_path, 'reviews')\n",
    "\n",
    "pproc.text_to_csv(MB_path, 'ratings_ba')\n",
    "pproc.text_to_csv(MB_path, 'ratings_with_text_ba')\n",
    "pproc.text_to_csv(MB_path, 'ratings_rb')\n",
    "pproc.text_to_csv(MB_path, 'ratings_with_text_rb')"
   ]
  },
  {
   "cell_type": "markdown",
   "metadata": {
    "tags": []
   },
   "source": [
    "# Creation of dataframes"
   ]
  },
  {
   "cell_type": "markdown",
   "metadata": {},
   "source": [
    "Matching data:"
   ]
  },
  {
   "cell_type": "code",
   "execution_count": 2,
   "metadata": {
    "tags": []
   },
   "outputs": [],
   "source": [
    "MB_beers = pd.read_csv(MB_path + '/beers.csv', header=1)\n",
    "MB_breweries = pd.read_csv(MB_path + '/breweries.csv', header=1)\n",
    "MB_users = pd.read_csv(MB_path + '/users.csv', header=1)\n",
    "MB_users_approx = pd.read_csv(MB_path + '/users_approx.csv', header=1)"
   ]
  },
  {
   "cell_type": "code",
   "execution_count": 3,
   "metadata": {
    "tags": []
   },
   "outputs": [],
   "source": [
    "MB_ratings = pd.read_csv(MB_path + '/ratings.csv', header=1)\n",
    "MB_ratingsBA = pd.read_csv(MB_path + '/ratings_ba.tsv', sep='\\t')\n",
    "MB_ratingsBA_txt = pd.read_csv(MB_path + '/ratings_with_text_ba.tsv', sep='\\t')\n",
    "MB_ratingsRB = pd.read_csv(MB_path + '/ratings_rb.tsv', sep='\\t')\n",
    "MB_ratingsRB_txt = pd.read_csv(MB_path + '/ratings_with_text_rb.tsv', sep='\\t')"
   ]
  },
  {
   "cell_type": "markdown",
   "metadata": {},
   "source": [
    "Rest of the data:"
   ]
  },
  {
   "cell_type": "code",
   "execution_count": 4,
   "metadata": {
    "tags": []
   },
   "outputs": [],
   "source": [
    "RB_beers = pd.read_csv(RB_path + '/beers.csv')\n",
    "RB_breweries = pd.read_csv(RB_path + '/breweries.csv')\n",
    "RB_users = pd.read_csv(RB_path + '/users.csv')\n",
    "RB_ratings = pd.read_csv(RB_path + '/ratings.tsv', sep='\\t')\n",
    "RB_reviews = pd.read_csv(RB_path + '/reviews.tsv', sep='\\t')"
   ]
  },
  {
   "cell_type": "code",
   "execution_count": 5,
   "metadata": {
    "tags": []
   },
   "outputs": [],
   "source": [
    "BA_beers = pd.read_csv(BA_path + '/beers.csv')\n",
    "BA_breweries = pd.read_csv(BA_path + '/breweries.csv')\n",
    "BA_users = pd.read_csv(BA_path + '/users.csv')\n",
    "BA_ratings = pd.read_csv(BA_path + '/ratings.tsv', sep='\\t')\n",
    "BA_reviews = pd.read_csv(BA_path + '/reviews.tsv', sep='\\t')"
   ]
  },
  {
   "cell_type": "code",
   "execution_count": 18,
   "metadata": {
    "tags": []
   },
   "outputs": [
    {
     "data": {
      "text/html": [
       "<div>\n",
       "<style scoped>\n",
       "    .dataframe tbody tr th:only-of-type {\n",
       "        vertical-align: middle;\n",
       "    }\n",
       "\n",
       "    .dataframe tbody tr th {\n",
       "        vertical-align: top;\n",
       "    }\n",
       "\n",
       "    .dataframe thead th {\n",
       "        text-align: right;\n",
       "    }\n",
       "</style>\n",
       "<table border=\"1\" class=\"dataframe\">\n",
       "  <thead>\n",
       "    <tr style=\"text-align: right;\">\n",
       "      <th></th>\n",
       "      <th>beer_name</th>\n",
       "      <th>beer_id</th>\n",
       "      <th>brewery_name</th>\n",
       "      <th>brewery_id</th>\n",
       "      <th>style</th>\n",
       "      <th>abv</th>\n",
       "      <th>date</th>\n",
       "      <th>user_name</th>\n",
       "      <th>user_id</th>\n",
       "      <th>appearance</th>\n",
       "      <th>aroma</th>\n",
       "      <th>palate</th>\n",
       "      <th>taste</th>\n",
       "      <th>overall</th>\n",
       "      <th>rating</th>\n",
       "      <th>text</th>\n",
       "      <th>review</th>\n",
       "    </tr>\n",
       "  </thead>\n",
       "  <tbody>\n",
       "    <tr>\n",
       "      <th>0</th>\n",
       "      <td>Régab</td>\n",
       "      <td>142544</td>\n",
       "      <td>Societe des Brasseries du Gabon (SOBRAGA)</td>\n",
       "      <td>37262</td>\n",
       "      <td>Euro Pale Lager</td>\n",
       "      <td>4.5</td>\n",
       "      <td>1440064800</td>\n",
       "      <td>nmann08</td>\n",
       "      <td>nmann08.184925</td>\n",
       "      <td>3.25</td>\n",
       "      <td>2.75</td>\n",
       "      <td>3.25</td>\n",
       "      <td>2.75</td>\n",
       "      <td>3.0</td>\n",
       "      <td>2.88</td>\n",
       "      <td>From a bottle, pours a piss yellow color with...</td>\n",
       "      <td>True</td>\n",
       "    </tr>\n",
       "    <tr>\n",
       "      <th>1</th>\n",
       "      <td>Barelegs Brew</td>\n",
       "      <td>19590</td>\n",
       "      <td>Strangford Lough Brewing Company Ltd</td>\n",
       "      <td>10093</td>\n",
       "      <td>English Pale Ale</td>\n",
       "      <td>4.5</td>\n",
       "      <td>1235127600</td>\n",
       "      <td>StJamesGate</td>\n",
       "      <td>stjamesgate.163714</td>\n",
       "      <td>3.00</td>\n",
       "      <td>3.50</td>\n",
       "      <td>3.50</td>\n",
       "      <td>4.00</td>\n",
       "      <td>3.5</td>\n",
       "      <td>3.67</td>\n",
       "      <td>Pours pale copper with a thin head that quick...</td>\n",
       "      <td>True</td>\n",
       "    </tr>\n",
       "    <tr>\n",
       "      <th>2</th>\n",
       "      <td>Barelegs Brew</td>\n",
       "      <td>19590</td>\n",
       "      <td>Strangford Lough Brewing Company Ltd</td>\n",
       "      <td>10093</td>\n",
       "      <td>English Pale Ale</td>\n",
       "      <td>4.5</td>\n",
       "      <td>1142247600</td>\n",
       "      <td>mdagnew</td>\n",
       "      <td>mdagnew.19527</td>\n",
       "      <td>4.00</td>\n",
       "      <td>3.50</td>\n",
       "      <td>3.50</td>\n",
       "      <td>4.00</td>\n",
       "      <td>3.5</td>\n",
       "      <td>3.73</td>\n",
       "      <td>500ml Bottle bought from The Vintage, Antrim....</td>\n",
       "      <td>True</td>\n",
       "    </tr>\n",
       "    <tr>\n",
       "      <th>3</th>\n",
       "      <td>Barelegs Brew</td>\n",
       "      <td>19590</td>\n",
       "      <td>Strangford Lough Brewing Company Ltd</td>\n",
       "      <td>10093</td>\n",
       "      <td>English Pale Ale</td>\n",
       "      <td>4.5</td>\n",
       "      <td>1101898800</td>\n",
       "      <td>helloloser12345</td>\n",
       "      <td>helloloser12345.10867</td>\n",
       "      <td>4.00</td>\n",
       "      <td>3.50</td>\n",
       "      <td>4.00</td>\n",
       "      <td>4.00</td>\n",
       "      <td>4.5</td>\n",
       "      <td>3.98</td>\n",
       "      <td>Serving: 500ml brown bottlePour: Good head wi...</td>\n",
       "      <td>True</td>\n",
       "    </tr>\n",
       "    <tr>\n",
       "      <th>4</th>\n",
       "      <td>Barelegs Brew</td>\n",
       "      <td>19590</td>\n",
       "      <td>Strangford Lough Brewing Company Ltd</td>\n",
       "      <td>10093</td>\n",
       "      <td>English Pale Ale</td>\n",
       "      <td>4.5</td>\n",
       "      <td>1093860000</td>\n",
       "      <td>cypressbob</td>\n",
       "      <td>cypressbob.3708</td>\n",
       "      <td>4.00</td>\n",
       "      <td>4.00</td>\n",
       "      <td>4.00</td>\n",
       "      <td>4.00</td>\n",
       "      <td>4.0</td>\n",
       "      <td>4.00</td>\n",
       "      <td>500ml bottlePours with a light, slightly hazy...</td>\n",
       "      <td>True</td>\n",
       "    </tr>\n",
       "    <tr>\n",
       "      <th>...</th>\n",
       "      <td>...</td>\n",
       "      <td>...</td>\n",
       "      <td>...</td>\n",
       "      <td>...</td>\n",
       "      <td>...</td>\n",
       "      <td>...</td>\n",
       "      <td>...</td>\n",
       "      <td>...</td>\n",
       "      <td>...</td>\n",
       "      <td>...</td>\n",
       "      <td>...</td>\n",
       "      <td>...</td>\n",
       "      <td>...</td>\n",
       "      <td>...</td>\n",
       "      <td>...</td>\n",
       "      <td>...</td>\n",
       "      <td>...</td>\n",
       "    </tr>\n",
       "    <tr>\n",
       "      <th>8393027</th>\n",
       "      <td>Kölsch Ale</td>\n",
       "      <td>19139</td>\n",
       "      <td>Summit Station Restaurant &amp; Brewery</td>\n",
       "      <td>885</td>\n",
       "      <td>Kölsch</td>\n",
       "      <td>5.0</td>\n",
       "      <td>1141038000</td>\n",
       "      <td>jaluria</td>\n",
       "      <td>jaluria.31362</td>\n",
       "      <td>3.50</td>\n",
       "      <td>3.50</td>\n",
       "      <td>3.50</td>\n",
       "      <td>4.00</td>\n",
       "      <td>4.0</td>\n",
       "      <td>3.80</td>\n",
       "      <td>I'll start off reviewing this beer with the f...</td>\n",
       "      <td>True</td>\n",
       "    </tr>\n",
       "    <tr>\n",
       "      <th>8393028</th>\n",
       "      <td>Kölsch Ale</td>\n",
       "      <td>19139</td>\n",
       "      <td>Summit Station Restaurant &amp; Brewery</td>\n",
       "      <td>885</td>\n",
       "      <td>Kölsch</td>\n",
       "      <td>5.0</td>\n",
       "      <td>1140346800</td>\n",
       "      <td>Dithyramb</td>\n",
       "      <td>dithyramb.4413</td>\n",
       "      <td>3.00</td>\n",
       "      <td>3.00</td>\n",
       "      <td>3.00</td>\n",
       "      <td>2.50</td>\n",
       "      <td>3.0</td>\n",
       "      <td>2.80</td>\n",
       "      <td>Served on draft at the pub. Poured a clear ye...</td>\n",
       "      <td>True</td>\n",
       "    </tr>\n",
       "    <tr>\n",
       "      <th>8393029</th>\n",
       "      <td>Kölsch Ale</td>\n",
       "      <td>19139</td>\n",
       "      <td>Summit Station Restaurant &amp; Brewery</td>\n",
       "      <td>885</td>\n",
       "      <td>Kölsch</td>\n",
       "      <td>5.0</td>\n",
       "      <td>1092132000</td>\n",
       "      <td>ManekiNeko</td>\n",
       "      <td>manekineko.2654</td>\n",
       "      <td>3.00</td>\n",
       "      <td>1.50</td>\n",
       "      <td>1.00</td>\n",
       "      <td>1.50</td>\n",
       "      <td>1.5</td>\n",
       "      <td>1.54</td>\n",
       "      <td>Served on tap at the brewpub in a pint glass....</td>\n",
       "      <td>True</td>\n",
       "    </tr>\n",
       "    <tr>\n",
       "      <th>8393030</th>\n",
       "      <td>Nut Brown Ale</td>\n",
       "      <td>19140</td>\n",
       "      <td>Summit Station Restaurant &amp; Brewery</td>\n",
       "      <td>885</td>\n",
       "      <td>English Brown Ale</td>\n",
       "      <td>5.3</td>\n",
       "      <td>1341741600</td>\n",
       "      <td>Redsox1539</td>\n",
       "      <td>redsox1539.683632</td>\n",
       "      <td>NaN</td>\n",
       "      <td>NaN</td>\n",
       "      <td>NaN</td>\n",
       "      <td>NaN</td>\n",
       "      <td>NaN</td>\n",
       "      <td>3.50</td>\n",
       "      <td>NaN</td>\n",
       "      <td>False</td>\n",
       "    </tr>\n",
       "    <tr>\n",
       "      <th>8393031</th>\n",
       "      <td>Nut Brown Ale</td>\n",
       "      <td>19140</td>\n",
       "      <td>Summit Station Restaurant &amp; Brewery</td>\n",
       "      <td>885</td>\n",
       "      <td>English Brown Ale</td>\n",
       "      <td>5.3</td>\n",
       "      <td>1140346800</td>\n",
       "      <td>Dithyramb</td>\n",
       "      <td>dithyramb.4413</td>\n",
       "      <td>3.00</td>\n",
       "      <td>3.00</td>\n",
       "      <td>3.00</td>\n",
       "      <td>3.00</td>\n",
       "      <td>3.0</td>\n",
       "      <td>3.00</td>\n",
       "      <td>Dark brown brew served on tap at the brewpub....</td>\n",
       "      <td>True</td>\n",
       "    </tr>\n",
       "  </tbody>\n",
       "</table>\n",
       "<p>8393032 rows × 17 columns</p>\n",
       "</div>"
      ],
      "text/plain": [
       "              beer_name  beer_id                                brewery_name  \\\n",
       "0                 Régab   142544   Societe des Brasseries du Gabon (SOBRAGA)   \n",
       "1         Barelegs Brew    19590        Strangford Lough Brewing Company Ltd   \n",
       "2         Barelegs Brew    19590        Strangford Lough Brewing Company Ltd   \n",
       "3         Barelegs Brew    19590        Strangford Lough Brewing Company Ltd   \n",
       "4         Barelegs Brew    19590        Strangford Lough Brewing Company Ltd   \n",
       "...                 ...      ...                                         ...   \n",
       "8393027      Kölsch Ale    19139         Summit Station Restaurant & Brewery   \n",
       "8393028      Kölsch Ale    19139         Summit Station Restaurant & Brewery   \n",
       "8393029      Kölsch Ale    19139         Summit Station Restaurant & Brewery   \n",
       "8393030   Nut Brown Ale    19140         Summit Station Restaurant & Brewery   \n",
       "8393031   Nut Brown Ale    19140         Summit Station Restaurant & Brewery   \n",
       "\n",
       "         brewery_id               style  abv        date         user_name  \\\n",
       "0             37262     Euro Pale Lager  4.5  1440064800           nmann08   \n",
       "1             10093    English Pale Ale  4.5  1235127600       StJamesGate   \n",
       "2             10093    English Pale Ale  4.5  1142247600           mdagnew   \n",
       "3             10093    English Pale Ale  4.5  1101898800   helloloser12345   \n",
       "4             10093    English Pale Ale  4.5  1093860000        cypressbob   \n",
       "...             ...                 ...  ...         ...               ...   \n",
       "8393027         885              Kölsch  5.0  1141038000           jaluria   \n",
       "8393028         885              Kölsch  5.0  1140346800         Dithyramb   \n",
       "8393029         885              Kölsch  5.0  1092132000        ManekiNeko   \n",
       "8393030         885   English Brown Ale  5.3  1341741600        Redsox1539   \n",
       "8393031         885   English Brown Ale  5.3  1140346800         Dithyramb   \n",
       "\n",
       "                        user_id  appearance  aroma  palate  taste  overall  \\\n",
       "0                nmann08.184925        3.25   2.75    3.25   2.75      3.0   \n",
       "1            stjamesgate.163714        3.00   3.50    3.50   4.00      3.5   \n",
       "2                 mdagnew.19527        4.00   3.50    3.50   4.00      3.5   \n",
       "3         helloloser12345.10867        4.00   3.50    4.00   4.00      4.5   \n",
       "4               cypressbob.3708        4.00   4.00    4.00   4.00      4.0   \n",
       "...                         ...         ...    ...     ...    ...      ...   \n",
       "8393027           jaluria.31362        3.50   3.50    3.50   4.00      4.0   \n",
       "8393028          dithyramb.4413        3.00   3.00    3.00   2.50      3.0   \n",
       "8393029         manekineko.2654        3.00   1.50    1.00   1.50      1.5   \n",
       "8393030       redsox1539.683632         NaN    NaN     NaN    NaN      NaN   \n",
       "8393031          dithyramb.4413        3.00   3.00    3.00   3.00      3.0   \n",
       "\n",
       "         rating                                               text  review  \n",
       "0          2.88   From a bottle, pours a piss yellow color with...    True  \n",
       "1          3.67   Pours pale copper with a thin head that quick...    True  \n",
       "2          3.73   500ml Bottle bought from The Vintage, Antrim....    True  \n",
       "3          3.98   Serving: 500ml brown bottlePour: Good head wi...    True  \n",
       "4          4.00   500ml bottlePours with a light, slightly hazy...    True  \n",
       "...         ...                                                ...     ...  \n",
       "8393027    3.80   I'll start off reviewing this beer with the f...    True  \n",
       "8393028    2.80   Served on draft at the pub. Poured a clear ye...    True  \n",
       "8393029    1.54   Served on tap at the brewpub in a pint glass....    True  \n",
       "8393030    3.50                                                NaN   False  \n",
       "8393031    3.00   Dark brown brew served on tap at the brewpub....    True  \n",
       "\n",
       "[8393032 rows x 17 columns]"
      ]
     },
     "execution_count": 18,
     "metadata": {},
     "output_type": "execute_result"
    }
   ],
   "source": [
    "BA_ratings"
   ]
  },
  {
   "cell_type": "markdown",
   "metadata": {},
   "source": [
    "# Popularity analysis over time"
   ]
  },
  {
   "cell_type": "markdown",
   "metadata": {},
   "source": [
    "The rationale behind this idea is to be able to match or provide fun facts to the users of our social network about which would have been the perfect year for them to live in according to their preferences.\n",
    "\n",
    "Doing a time analysis of beer popularity over time, we will be using the matched dataset since we are not considering a comparison between BeerAdvocate and RateBeer but uncovering trends in beers over the years. According to the article by G. Lederrey and R. West (https://doi.org/10.1145/3178876.3186160), the matched set has gone through internal and external validity in terms of being unbiased with respect to countries and beer style distributions and rating being \"approximately independent of site and product properties\".\n",
    "\n",
    "However, in order to analyze the top ranked beers for each year, we would need to consider the herding effect. In other words, if for a certain year there is a larger number of ratings coming from the database that has being positively impacted by the herding effect, the average in rating will be higher than in the opposite case. Also, the herding effect although continuing to be present, has a lower effect when the number of ratings for the beer is higher. It becomes approximately a stable value after the 5th rating.\n",
    "\n",
    "Thus, we will start by analyzing the distribution of the number of ratings for each bear to discard the beers with a very low number of ratings. Then, dividing the beers into 3 groups (small = S, medium = M and large = L) according to the number of ratings, we will perform the relative ratios from the average between the previous reviews in each webpage and the review n, to quantify the hearding effect and perform detrending before computing the macro-average to determine the top 3 ranked beers per year."
   ]
  },
  {
   "cell_type": "code",
   "execution_count": 10,
   "metadata": {
    "tags": []
   },
   "outputs": [
    {
     "data": {
      "text/html": [
       "<div>\n",
       "<style scoped>\n",
       "    .dataframe tbody tr th:only-of-type {\n",
       "        vertical-align: middle;\n",
       "    }\n",
       "\n",
       "    .dataframe tbody tr th {\n",
       "        vertical-align: top;\n",
       "    }\n",
       "\n",
       "    .dataframe thead th {\n",
       "        text-align: right;\n",
       "    }\n",
       "</style>\n",
       "<table border=\"1\" class=\"dataframe\">\n",
       "  <thead>\n",
       "    <tr style=\"text-align: right;\">\n",
       "      <th></th>\n",
       "      <th>beer_id_BA</th>\n",
       "      <th>beer_name_BA</th>\n",
       "      <th>beer_id_RB</th>\n",
       "      <th>beer_name_RB</th>\n",
       "      <th>nbr_ratings_BA</th>\n",
       "      <th>nbr_ratings_RB</th>\n",
       "      <th>style_BA</th>\n",
       "      <th>style_RB</th>\n",
       "      <th>diff</th>\n",
       "      <th>sim</th>\n",
       "    </tr>\n",
       "  </thead>\n",
       "  <tbody>\n",
       "    <tr>\n",
       "      <th>0</th>\n",
       "      <td>19827</td>\n",
       "      <td>Legbiter</td>\n",
       "      <td>37923</td>\n",
       "      <td>Strangford Lough Legbiter</td>\n",
       "      <td>75</td>\n",
       "      <td>89</td>\n",
       "      <td>English Pale Ale</td>\n",
       "      <td>Golden Ale/Blond Ale</td>\n",
       "      <td>1.000000</td>\n",
       "      <td>1.0</td>\n",
       "    </tr>\n",
       "    <tr>\n",
       "      <th>1</th>\n",
       "      <td>20841</td>\n",
       "      <td>St. Patrick's Ale</td>\n",
       "      <td>41286</td>\n",
       "      <td>Strangford Lough St. Patricks Ale</td>\n",
       "      <td>8</td>\n",
       "      <td>11</td>\n",
       "      <td>English Pale Ale</td>\n",
       "      <td>Irish Ale</td>\n",
       "      <td>0.527141</td>\n",
       "      <td>1.0</td>\n",
       "    </tr>\n",
       "    <tr>\n",
       "      <th>2</th>\n",
       "      <td>20842</td>\n",
       "      <td>St. Patrick's Best</td>\n",
       "      <td>41287</td>\n",
       "      <td>Strangford Lough St. Patricks Best</td>\n",
       "      <td>64</td>\n",
       "      <td>74</td>\n",
       "      <td>English Bitter</td>\n",
       "      <td>Bitter</td>\n",
       "      <td>0.527141</td>\n",
       "      <td>1.0</td>\n",
       "    </tr>\n",
       "    <tr>\n",
       "      <th>3</th>\n",
       "      <td>22659</td>\n",
       "      <td>St. Patrick's Gold</td>\n",
       "      <td>41285</td>\n",
       "      <td>Strangford Lough St. Patricks Gold</td>\n",
       "      <td>1</td>\n",
       "      <td>4</td>\n",
       "      <td>American Pale Wheat Ale</td>\n",
       "      <td>Amber Ale</td>\n",
       "      <td>0.527141</td>\n",
       "      <td>1.0</td>\n",
       "    </tr>\n",
       "    <tr>\n",
       "      <th>4</th>\n",
       "      <td>178681</td>\n",
       "      <td>Sheelin Stout</td>\n",
       "      <td>230283</td>\n",
       "      <td>Sheelin Stout</td>\n",
       "      <td>0</td>\n",
       "      <td>2</td>\n",
       "      <td>Irish Dry Stout</td>\n",
       "      <td>Mild Ale</td>\n",
       "      <td>1.000000</td>\n",
       "      <td>1.0</td>\n",
       "    </tr>\n",
       "    <tr>\n",
       "      <th>...</th>\n",
       "      <td>...</td>\n",
       "      <td>...</td>\n",
       "      <td>...</td>\n",
       "      <td>...</td>\n",
       "      <td>...</td>\n",
       "      <td>...</td>\n",
       "      <td>...</td>\n",
       "      <td>...</td>\n",
       "      <td>...</td>\n",
       "      <td>...</td>\n",
       "    </tr>\n",
       "    <tr>\n",
       "      <th>45635</th>\n",
       "      <td>96911</td>\n",
       "      <td>Pale Ale</td>\n",
       "      <td>242782</td>\n",
       "      <td>Do Can Pale Ale</td>\n",
       "      <td>4</td>\n",
       "      <td>1</td>\n",
       "      <td>English Pale Ale</td>\n",
       "      <td>India Pale Ale (IPA)</td>\n",
       "      <td>1.000000</td>\n",
       "      <td>1.0</td>\n",
       "    </tr>\n",
       "    <tr>\n",
       "      <th>45636</th>\n",
       "      <td>37457</td>\n",
       "      <td>Mustang Gold Ale</td>\n",
       "      <td>68764</td>\n",
       "      <td>Warbird Mustang Gold Ale</td>\n",
       "      <td>22</td>\n",
       "      <td>57</td>\n",
       "      <td>American Blonde Ale</td>\n",
       "      <td>Golden Ale/Blond Ale</td>\n",
       "      <td>0.806680</td>\n",
       "      <td>1.0</td>\n",
       "    </tr>\n",
       "    <tr>\n",
       "      <th>45637</th>\n",
       "      <td>47287</td>\n",
       "      <td>Shanty Irish</td>\n",
       "      <td>76984</td>\n",
       "      <td>Warbird Shanty Irish</td>\n",
       "      <td>10</td>\n",
       "      <td>50</td>\n",
       "      <td>Irish Red Ale</td>\n",
       "      <td>Irish Ale</td>\n",
       "      <td>1.000000</td>\n",
       "      <td>1.0</td>\n",
       "    </tr>\n",
       "    <tr>\n",
       "      <th>45638</th>\n",
       "      <td>37177</td>\n",
       "      <td>Thunderbolt Wheat</td>\n",
       "      <td>78298</td>\n",
       "      <td>Warbird Thunderbolt Wheat</td>\n",
       "      <td>21</td>\n",
       "      <td>59</td>\n",
       "      <td>Hefeweizen</td>\n",
       "      <td>German Hefeweizen</td>\n",
       "      <td>1.000000</td>\n",
       "      <td>1.0</td>\n",
       "    </tr>\n",
       "    <tr>\n",
       "      <th>45639</th>\n",
       "      <td>36418</td>\n",
       "      <td>Warhawk Pale Ale</td>\n",
       "      <td>68765</td>\n",
       "      <td>Warbird Warhawk Pale Ale</td>\n",
       "      <td>38</td>\n",
       "      <td>69</td>\n",
       "      <td>American Pale Ale (APA)</td>\n",
       "      <td>American Pale Ale</td>\n",
       "      <td>0.806680</td>\n",
       "      <td>1.0</td>\n",
       "    </tr>\n",
       "  </tbody>\n",
       "</table>\n",
       "<p>45640 rows × 10 columns</p>\n",
       "</div>"
      ],
      "text/plain": [
       "       beer_id_BA        beer_name_BA  beer_id_RB  \\\n",
       "0           19827            Legbiter       37923   \n",
       "1           20841   St. Patrick's Ale       41286   \n",
       "2           20842  St. Patrick's Best       41287   \n",
       "3           22659  St. Patrick's Gold       41285   \n",
       "4          178681       Sheelin Stout      230283   \n",
       "...           ...                 ...         ...   \n",
       "45635       96911            Pale Ale      242782   \n",
       "45636       37457    Mustang Gold Ale       68764   \n",
       "45637       47287        Shanty Irish       76984   \n",
       "45638       37177   Thunderbolt Wheat       78298   \n",
       "45639       36418    Warhawk Pale Ale       68765   \n",
       "\n",
       "                             beer_name_RB  nbr_ratings_BA  nbr_ratings_RB  \\\n",
       "0               Strangford Lough Legbiter              75              89   \n",
       "1       Strangford Lough St. Patricks Ale               8              11   \n",
       "2      Strangford Lough St. Patricks Best              64              74   \n",
       "3      Strangford Lough St. Patricks Gold               1               4   \n",
       "4                           Sheelin Stout               0               2   \n",
       "...                                   ...             ...             ...   \n",
       "45635                     Do Can Pale Ale               4               1   \n",
       "45636            Warbird Mustang Gold Ale              22              57   \n",
       "45637                Warbird Shanty Irish              10              50   \n",
       "45638          Warbird Thunderbolt Wheat               21              59   \n",
       "45639            Warbird Warhawk Pale Ale              38              69   \n",
       "\n",
       "                      style_BA              style_RB      diff  sim  \n",
       "0             English Pale Ale  Golden Ale/Blond Ale  1.000000  1.0  \n",
       "1             English Pale Ale             Irish Ale  0.527141  1.0  \n",
       "2               English Bitter                Bitter  0.527141  1.0  \n",
       "3      American Pale Wheat Ale             Amber Ale  0.527141  1.0  \n",
       "4              Irish Dry Stout              Mild Ale  1.000000  1.0  \n",
       "...                        ...                   ...       ...  ...  \n",
       "45635         English Pale Ale  India Pale Ale (IPA)  1.000000  1.0  \n",
       "45636      American Blonde Ale  Golden Ale/Blond Ale  0.806680  1.0  \n",
       "45637            Irish Red Ale             Irish Ale  1.000000  1.0  \n",
       "45638               Hefeweizen     German Hefeweizen  1.000000  1.0  \n",
       "45639  American Pale Ale (APA)     American Pale Ale  0.806680  1.0  \n",
       "\n",
       "[45640 rows x 10 columns]"
      ]
     },
     "execution_count": 10,
     "metadata": {},
     "output_type": "execute_result"
    }
   ],
   "source": [
    "# Filtering of the data to only keep the useful columns\n",
    "columns_to_keep = ['beer_id', 'beer_name','beer_id.1','beer_name.1','nbr_ratings', 'nbr_ratings.1', 'style', 'style.1','diff','sim']\n",
    "\n",
    "# Keep the specified columns\n",
    "MB_beers_filtered = MB_beers.filter(columns_to_keep)\n",
    "MB_beers_filtered = MB_beers_filtered.rename(columns={'beer_id': 'beer_id_BA', 'beer_name': 'beer_name_BA', 'beer_id.1': 'beer_id_RB', 'beer_name.1': 'beer_name_RB', 'nbr_ratings': 'nbr_ratings_BA', 'nbr_ratings.1': 'nbr_ratings_RB', 'style': 'style_BA', 'style.1': 'style_RB'})\n",
    "MB_beers_filtered"
   ]
  },
  {
   "cell_type": "code",
   "execution_count": 11,
   "metadata": {
    "tags": []
   },
   "outputs": [
    {
     "data": {
      "text/plain": [
       "Text(0.5, 0, 'Number of ratings (RB)')"
      ]
     },
     "execution_count": 11,
     "metadata": {},
     "output_type": "execute_result"
    },
    {
     "data": {
      "image/png": "[encoded data removed]",
      "text/plain": [
       "<Figure size 1400x400 with 2 Axes>"
      ]
     },
     "metadata": {},
     "output_type": "display_data"
    }
   ],
   "source": [
    "f,axs = plt.subplots(nrows=1, ncols=2, figsize=(14,4), sharey=False, gridspec_kw={'width_ratios':[1,1], 'wspace': 0.5})\n",
    "\n",
    "MB_beers_filtered['nbr_ratings_BA'].sort_values().plot(kind='hist', range = (0, 100), bins= 100, ax=axs[0])\n",
    "axs[0].set_xlabel('Number of ratings (BA)')\n",
    "MB_beers_filtered['nbr_ratings_RB'].sort_values().plot(kind='hist', range = (0, 150), bins= 150, ax=axs[1])\n",
    "axs[1].set_xlabel('Number of ratings (RB)')"
   ]
  },
  {
   "cell_type": "code",
   "execution_count": 12,
   "metadata": {
    "tags": []
   },
   "outputs": [
    {
     "data": {
      "text/plain": [
       "count    45640.000000\n",
       "mean        20.945837\n",
       "std        137.768038\n",
       "min          0.000000\n",
       "25%          1.000000\n",
       "50%          3.000000\n",
       "75%          8.000000\n",
       "max       9228.000000\n",
       "Name: nbr_ratings_BA, dtype: float64"
      ]
     },
     "execution_count": 12,
     "metadata": {},
     "output_type": "execute_result"
    }
   ],
   "source": [
    "MB_beers_filtered.nbr_ratings_BA.describe()"
   ]
  },
  {
   "cell_type": "code",
   "execution_count": 13,
   "metadata": {
    "tags": []
   },
   "outputs": [
    {
     "data": {
      "text/plain": [
       "count    45640.000000\n",
       "mean        22.362796\n",
       "std         80.107455\n",
       "min          0.000000\n",
       "25%          2.000000\n",
       "50%          5.000000\n",
       "75%         16.000000\n",
       "max       5272.000000\n",
       "Name: nbr_ratings_RB, dtype: float64"
      ]
     },
     "execution_count": 13,
     "metadata": {},
     "output_type": "execute_result"
    }
   ],
   "source": [
    "MB_beers_filtered.nbr_ratings_RB.describe()"
   ]
  },
  {
   "cell_type": "markdown",
   "metadata": {},
   "source": [
    "Seeing this basic statistics and having observed the histograms we will filter out so that we keep beers with at least 5 ratings for both of the datasets (columns 'nbr_ratings_BA' and 'nbr_ratings_RB'). This will later help us in dimishing the **herding effect**."
   ]
  },
  {
   "cell_type": "code",
   "execution_count": 14,
   "metadata": {
    "tags": []
   },
   "outputs": [],
   "source": [
    "filt_MB_beers = MB_beers_filtered[(MB_beers_filtered['nbr_ratings_BA'] >= 5) & (MB_beers_filtered['nbr_ratings_RB'] >= 5)].copy(deep=True) "
   ]
  },
  {
   "cell_type": "markdown",
   "metadata": {},
   "source": [
    "Fig. 6 in the previously mentioned paper, shows that the herding effect, although never converging to 0, becomes stable with a larger number of ratings with respect to the first one. Thus, we will keep the beers with at least 5 ratings. Note that 5 is the median value of the number of ratings in RateBeer but, in the case of BearAdvocate, it is below it. However, discarding these samples still leaves us with approximately 30% of the data which is a large amount of data (12890 beers).\n",
    "Then, we will devide the data into 3 groups, trying to make groups with a similar amount of data (although not exactly equal) in terms of the number of received ratings by using the tertiales of the filtered dataframe."
   ]
  },
  {
   "cell_type": "code",
   "execution_count": 15,
   "metadata": {
    "tags": []
   },
   "outputs": [
    {
     "data": {
      "text/plain": [
       "0.33    11.0\n",
       "0.67    31.0\n",
       "Name: nbr_ratings_BA, dtype: float64"
      ]
     },
     "metadata": {},
     "output_type": "display_data"
    },
    {
     "data": {
      "text/plain": [
       "0.33    11.0\n",
       "0.67    36.0\n",
       "Name: nbr_ratings_RB, dtype: float64"
      ]
     },
     "execution_count": 15,
     "metadata": {},
     "output_type": "execute_result"
    }
   ],
   "source": [
    "display(filt_MB_beers['nbr_ratings_BA'].quantile([0.33, 0.67]))\n",
    "filt_MB_beers['nbr_ratings_RB'].quantile([0.33, 0.67])"
   ]
  },
  {
   "cell_type": "markdown",
   "metadata": {},
   "source": [
    "Now, we will do a scatter plot for each beer (in different colors) to see the trend in the herding effect. We will quantize the effect as the relation with respect to the average of the previous ratings. Note that this graph will be measured up until the minimum number of ratings used to determine the partition in the previous step (since this is the assured number of ratings that all the beers in the group will have).\n",
    "\n",
    "Since we are planning to do a time analysis throughout the different years, we will transform the date column to an interpretable data type. This will also be used to calculate the z-score for each of the ratings."
   ]
  },
  {
   "cell_type": "markdown",
   "metadata": {},
   "source": [
    "### Time-analysis required preprocessing of the data"
   ]
  },
  {
   "cell_type": "code",
   "execution_count": 72,
   "metadata": {
    "tags": []
   },
   "outputs": [],
   "source": [
    "MB_ratingsBA['date'] = pd.to_datetime(MB_ratingsBA.date, unit='s')\n",
    "MB_ratingsBA['year'] = MB_ratingsBA['date'].dt.year\n",
    "\n",
    "MB_ratingsRB['date'] = pd.to_datetime(MB_ratingsRB.date, unit='s')\n",
    "MB_ratingsRB['year'] = MB_ratingsRB['date'].dt.year\n",
    "\n",
    "BA_ratings['date'] = pd.to_datetime(BA_ratings.date, unit='s')\n",
    "BA_ratings['year'] = BA_ratings['date'].dt.year\n",
    "\n",
    "RB_ratings['date'] = pd.to_datetime(RB_ratings.date, unit='s')\n",
    "RB_ratings['year'] = RB_ratings['date'].dt.year"
   ]
  },
  {
   "cell_type": "code",
   "execution_count": 73,
   "metadata": {
    "tags": []
   },
   "outputs": [],
   "source": [
    "# Calculation of the z-score for each beer (not for the mean score of the beer that is what we have in BA_beers or RB_beers)\n",
    "BA_ratings['z_score'] = BA_ratings.groupby('year')['rating'].transform(lambda x: (x-x.mean())/x.std())\n",
    "RB_ratings['z_score'] = RB_ratings.groupby('year')['rating'].transform(lambda x: (x-x.mean())/x.std())"
   ]
  },
  {
   "cell_type": "code",
   "execution_count": 74,
   "metadata": {
    "tags": []
   },
   "outputs": [],
   "source": [
    "# We will add the z-score value to the corresponding MB_rating\n",
    "MB_ratingsBA = MB_ratingsBA.merge(BA_ratings, how='inner').copy(deep=True)\n",
    "MB_ratingsRB = MB_ratingsRB.merge(RB_ratings, how='inner').copy(deep=True)"
   ]
  },
  {
   "cell_type": "markdown",
   "metadata": {},
   "source": [
    "### BA data"
   ]
  },
  {
   "cell_type": "code",
   "execution_count": 75,
   "metadata": {
    "tags": []
   },
   "outputs": [],
   "source": [
    "# BA data\n",
    "S_beer_id_BA = filt_MB_beers.beer_id_BA[filt_MB_beers['nbr_ratings_BA']<=11].to_numpy()\n",
    "M_beer_id_BA = filt_MB_beers.beer_id_BA[(filt_MB_beers['nbr_ratings_BA']>11) & (filt_MB_beers['nbr_ratings_BA']<=31)].to_numpy()\n",
    "L_beer_id_BA = filt_MB_beers.beer_id_BA[filt_MB_beers['nbr_ratings_BA']>31].to_numpy()"
   ]
  },
  {
   "cell_type": "code",
   "execution_count": 76,
   "metadata": {
    "tags": []
   },
   "outputs": [],
   "source": [
    "S_ratings_BA = MB_ratingsBA[MB_ratingsBA['beer_id'].isin(S_beer_id_BA)].copy(deep=True)\n",
    "M_beer_id_BA = MB_ratingsBA[MB_ratingsBA['beer_id'].isin(M_beer_id_BA)].copy(deep=True)\n",
    "L_beer_id_BA = MB_ratingsBA[MB_ratingsBA['beer_id'].isin(L_beer_id_BA)].copy(deep=True)"
   ]
  },
  {
   "cell_type": "code",
   "execution_count": 77,
   "metadata": {
    "tags": []
   },
   "outputs": [],
   "source": [
    "# Expanding mean as a function of ith rating z-score\n",
    "S_ratings_BA = S_ratings_BA.sort_values(by=['beer_id', 'date']) #Sort according to the beer_id and, after that, according to date\n",
    "S_ratings_BA['exp_mean'] = S_ratings_BA.groupby('beer_id')['z_score'].transform(lambda x: x.expanding().mean())"
   ]
  },
  {
   "cell_type": "code",
   "execution_count": 96,
   "metadata": {
    "tags": []
   },
   "outputs": [],
   "source": [
    "# Create new column with difference between the expanded mean and the minimum rating used to subdivide the data\n",
    "S_ratings_BA['diff_exp_mean'] = S_ratings_BA.groupby('beer_id')['exp_mean'].transform(lambda x: x.iloc[4] - x)\n",
    "S_ratings_BA['diff_exp_mean'] = S_ratings_BA.groupby('beer_id')['diff_exp_mean'].transform(lambda x: np.where(np.arange(len(x)) == 4, np.nan, x))"
   ]
  },
  {
   "cell_type": "code",
   "execution_count": 116,
   "metadata": {
    "tags": []
   },
   "outputs": [
    {
     "data": {
      "text/plain": [
       "Text(0, 0.5, 'Diff 5th rating and ith rating expanding average')"
      ]
     },
     "execution_count": 116,
     "metadata": {},
     "output_type": "execute_result"
    },
    {
     "data": {
      "image/png": "[encoded data removed]",
      "text/plain": [
       "<Figure size 640x480 with 1 Axes>"
      ]
     },
     "metadata": {},
     "output_type": "display_data"
    }
   ],
   "source": [
    "# Plot with just the first beer for a better comprehension\n",
    "\n",
    "# Group by 'Beer ID' for this example\n",
    "grouped_S_BA = S_ratings_BA.groupby('beer_id')['diff_exp_mean']\n",
    "\n",
    "first_group_ID = list(grouped_S_BA.groups.keys())[0]\n",
    "first_group = grouped_S_BA.get_group(first_group_ID)\n",
    "\n",
    "plt.plot(np.arange(len(first_group))+1, first_group.fillna(0))\n",
    "plt.xlabel('ith rating')\n",
    "plt.ylabel('Diff 5th rating and ith rating expanding average')"
   ]
  },
  {
   "cell_type": "code",
   "execution_count": null,
   "metadata": {},
   "outputs": [],
   "source": [
    "# Detrending\n"
   ]
  },
  {
   "cell_type": "code",
   "execution_count": null,
   "metadata": {},
   "outputs": [],
   "source": []
  },
  {
   "cell_type": "code",
   "execution_count": null,
   "metadata": {},
   "outputs": [],
   "source": [
    "# Once we have found the trend --> calculate the deviation from the mean and subtract it to detrend. CHECK WHAT PARAMETER WILL WE \n",
    "# USE TO DETREND"
   ]
  },
  {
   "cell_type": "markdown",
   "metadata": {
    "jp-MarkdownHeadingCollapsed": true,
    "tags": []
   },
   "source": [
    "### RB data"
   ]
  },
  {
   "cell_type": "code",
   "execution_count": 34,
   "metadata": {
    "tags": []
   },
   "outputs": [],
   "source": [
    "# RB data\n",
    "S_beer_id_RB = filt_MB_beers.beer_id_RB[filt_MB_beers['nbr_ratings_RB']<=11].to_numpy()\n",
    "M_beer_id_RB = filt_MB_beers.beer_id_RB[(filt_MB_beers['nbr_ratings_RB']>11) & (filt_MB_beers['nbr_ratings_BA']<=36)].to_numpy()\n",
    "L_beer_id_RB = filt_MB_beers.beer_id_RB[filt_MB_beers['nbr_ratings_RB']>36].to_numpy()"
   ]
  },
  {
   "cell_type": "code",
   "execution_count": null,
   "metadata": {},
   "outputs": [],
   "source": [
    "S_ratings_RB = MB_ratingsRB[MB_ratingsRB['beer_id'].isin(S_beer_id_RB)]\n",
    "M_beer_id_RB = MB_ratingsRB[MB_ratingsRB['beer_id'].isin(M_beer_id_RB)]\n",
    "L_beer_id_RB = MB_ratingsRB[MB_ratingsRB['beer_id'].isin(L_beer_id_RB)]"
   ]
  },
  {
   "cell_type": "code",
   "execution_count": null,
   "metadata": {},
   "outputs": [],
   "source": []
  },
  {
   "cell_type": "code",
   "execution_count": null,
   "metadata": {},
   "outputs": [],
   "source": []
  },
  {
   "cell_type": "code",
   "execution_count": null,
   "metadata": {},
   "outputs": [],
   "source": []
  },
  {
   "cell_type": "code",
   "execution_count": null,
   "metadata": {},
   "outputs": [],
   "source": []
  },
  {
   "cell_type": "code",
   "execution_count": null,
   "metadata": {},
   "outputs": [],
   "source": []
  },
  {
   "cell_type": "code",
   "execution_count": null,
   "metadata": {},
   "outputs": [],
   "source": []
  },
  {
   "cell_type": "code",
   "execution_count": null,
   "metadata": {},
   "outputs": [],
   "source": []
  }
 ],
 "metadata": {
  "kernelspec": {
   "display_name": "Python 3 (ipykernel)",
   "language": "python",
   "name": "python3"
  },
  "language_info": {
   "codemirror_mode": {
    "name": "ipython",
    "version": 3
   },
   "file_extension": ".py",
   "mimetype": "text/x-python",
   "name": "python",
   "nbconvert_exporter": "python",
   "pygments_lexer": "ipython3",
   "version": "3.9.18"
  }
 },
 "nbformat": 4,
 "nbformat_minor": 4
}
